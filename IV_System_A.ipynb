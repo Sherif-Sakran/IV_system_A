{
 "cells": [
  {
   "cell_type": "code",
   "execution_count": 1,
   "id": "11e48f64",
   "metadata": {},
   "outputs": [],
   "source": [
    "# reference: Marcin Myczka\n",
    "# link: https://www.kaggle.com/code/marcinmyczka/template-2-exploring-data-with-charts"
   ]
  },
  {
   "cell_type": "code",
   "execution_count": 5,
   "id": "15fc5697",
   "metadata": {
    "_cell_guid": "b1076dfc-b9ad-4769-8c92-a6c4dae69d19",
    "_uuid": "8f2839f25d086af736a60e9eeb907d3b93b6e0e5",
    "execution": {
     "iopub.execute_input": "2024-03-15T17:34:54.406096Z",
     "iopub.status.busy": "2024-03-15T17:34:54.405792Z",
     "iopub.status.idle": "2024-03-15T17:34:55.300008Z",
     "shell.execute_reply": "2024-03-15T17:34:55.299083Z"
    },
    "papermill": {
     "duration": 0.901006,
     "end_time": "2024-03-15T17:34:55.302127",
     "exception": false,
     "start_time": "2024-03-15T17:34:54.401121",
     "status": "completed"
    },
    "tags": []
   },
   "outputs": [
    {
     "data": {
      "text/html": [
       "<div>\n",
       "<style scoped>\n",
       "    .dataframe tbody tr th:only-of-type {\n",
       "        vertical-align: middle;\n",
       "    }\n",
       "\n",
       "    .dataframe tbody tr th {\n",
       "        vertical-align: top;\n",
       "    }\n",
       "\n",
       "    .dataframe thead th {\n",
       "        text-align: right;\n",
       "    }\n",
       "</style>\n",
       "<table border=\"1\" class=\"dataframe\">\n",
       "  <thead>\n",
       "    <tr style=\"text-align: right;\">\n",
       "      <th></th>\n",
       "      <th>Country</th>\n",
       "      <th>Abbreviation</th>\n",
       "      <th>Co2-Emissions</th>\n",
       "      <th>Gasoline Price</th>\n",
       "      <th>GDP</th>\n",
       "      <th>Life expectancy</th>\n",
       "      <th>Physicians per thousand</th>\n",
       "      <th>Population</th>\n",
       "      <th>Region</th>\n",
       "      <th>Co2-Emissions per million people</th>\n",
       "      <th>GDP per capita</th>\n",
       "    </tr>\n",
       "  </thead>\n",
       "  <tbody>\n",
       "    <tr>\n",
       "      <th>0</th>\n",
       "      <td>Afghanistan</td>\n",
       "      <td>AF</td>\n",
       "      <td>8672</td>\n",
       "      <td>0.70</td>\n",
       "      <td>19101353833</td>\n",
       "      <td>64.5</td>\n",
       "      <td>0.28</td>\n",
       "      <td>38041754</td>\n",
       "      <td>Asia</td>\n",
       "      <td>227.960046</td>\n",
       "      <td>502.115487</td>\n",
       "    </tr>\n",
       "    <tr>\n",
       "      <th>1</th>\n",
       "      <td>Albania</td>\n",
       "      <td>AL</td>\n",
       "      <td>4536</td>\n",
       "      <td>1.36</td>\n",
       "      <td>15278077447</td>\n",
       "      <td>78.5</td>\n",
       "      <td>1.20</td>\n",
       "      <td>2854191</td>\n",
       "      <td>Europe</td>\n",
       "      <td>1589.241925</td>\n",
       "      <td>5352.857411</td>\n",
       "    </tr>\n",
       "    <tr>\n",
       "      <th>2</th>\n",
       "      <td>Algeria</td>\n",
       "      <td>DZ</td>\n",
       "      <td>150006</td>\n",
       "      <td>0.28</td>\n",
       "      <td>169988236398</td>\n",
       "      <td>76.7</td>\n",
       "      <td>1.72</td>\n",
       "      <td>43053054</td>\n",
       "      <td>Africa</td>\n",
       "      <td>3484.212758</td>\n",
       "      <td>3948.343279</td>\n",
       "    </tr>\n",
       "    <tr>\n",
       "      <th>4</th>\n",
       "      <td>Angola</td>\n",
       "      <td>AO</td>\n",
       "      <td>34693</td>\n",
       "      <td>0.97</td>\n",
       "      <td>94635415870</td>\n",
       "      <td>60.8</td>\n",
       "      <td>0.21</td>\n",
       "      <td>31825295</td>\n",
       "      <td>Africa</td>\n",
       "      <td>1090.107727</td>\n",
       "      <td>2973.59116</td>\n",
       "    </tr>\n",
       "    <tr>\n",
       "      <th>5</th>\n",
       "      <td>Antigua and Barbuda</td>\n",
       "      <td>AG</td>\n",
       "      <td>557</td>\n",
       "      <td>0.99</td>\n",
       "      <td>1727759259</td>\n",
       "      <td>76.9</td>\n",
       "      <td>2.76</td>\n",
       "      <td>97118</td>\n",
       "      <td>Americas</td>\n",
       "      <td>5735.291089</td>\n",
       "      <td>17790.309304</td>\n",
       "    </tr>\n",
       "  </tbody>\n",
       "</table>\n",
       "</div>"
      ],
      "text/plain": [
       "               Country Abbreviation  Co2-Emissions  Gasoline Price  \\\n",
       "0          Afghanistan           AF           8672            0.70   \n",
       "1              Albania           AL           4536            1.36   \n",
       "2              Algeria           DZ         150006            0.28   \n",
       "4               Angola           AO          34693            0.97   \n",
       "5  Antigua and Barbuda           AG            557            0.99   \n",
       "\n",
       "            GDP  Life expectancy  Physicians per thousand  Population  \\\n",
       "0   19101353833             64.5                     0.28    38041754   \n",
       "1   15278077447             78.5                     1.20     2854191   \n",
       "2  169988236398             76.7                     1.72    43053054   \n",
       "4   94635415870             60.8                     0.21    31825295   \n",
       "5    1727759259             76.9                     2.76       97118   \n",
       "\n",
       "     Region  Co2-Emissions per million people  GDP per capita  \n",
       "0      Asia                        227.960046      502.115487  \n",
       "1    Europe                       1589.241925     5352.857411  \n",
       "2    Africa                       3484.212758     3948.343279  \n",
       "4    Africa                       1090.107727      2973.59116  \n",
       "5  Americas                       5735.291089    17790.309304  "
      ]
     },
     "execution_count": 5,
     "metadata": {},
     "output_type": "execute_result"
    }
   ],
   "source": [
    "# Template 2 - Exploring data with charts\n",
    "# This template shows how to use different chart types to represent and interpret data visually.\n",
    "\n",
    "# Preparing data for analysis. \n",
    "\n",
    "import numpy as np\n",
    "import pandas as pd\n",
    "\n",
    "# Specifying columns to read\n",
    "columns_to_read = ['Country', 'Co2-Emissions', 'Life expectancy', 'Population', 'GDP', 'Physicians per thousand', 'Gasoline Price', 'Abbreviation']\n",
    "continents_to_read = ['name', 'alpha-2', 'region']\n",
    "\n",
    "# Read the CSV file with selected columns\n",
    "countries = pd.read_csv('./world-data-2023.csv', usecols = columns_to_read)\n",
    "continents = pd.read_csv('./continents2.csv', usecols = continents_to_read)\n",
    "\n",
    "# Merge two tables on 'Abbreviation' and 'alpha-2'\n",
    "data = pd.merge(countries, continents, left_on=['Abbreviation'], right_on=['alpha-2'], how='left')\n",
    "\n",
    "# Drop redundant columns\n",
    "data.drop(['name', 'alpha-2'], axis=1, inplace=True)\n",
    "data.rename(columns={'region': 'Region'}, inplace=True)\n",
    "\n",
    "data = data.dropna()\n",
    "\n",
    "# Convert 'Population' to numeric (remove commas)\n",
    "data['Population'] = data['Population'].str.replace(',', '').astype(int)\n",
    "# Convert 'GDP' to numeric (remove $ and commas)\n",
    "# data['GDP'] = data['GDP'].str.replace('$', '').str.replace(',', '').astype(int)\n",
    "data['GDP'] = data['GDP'].str.replace('$', '').str.replace(',', '').astype('Int64')\n",
    "\n",
    "# Convert 'Co2-Emissions' to numeric (remove commas)\n",
    "data['Co2-Emissions'] = data['Co2-Emissions'].str.replace(',', '').astype(int)\n",
    "# Convert 'Gasoline Price' to numeric (remove $ and commas)\n",
    "data['Gasoline Price'] = data['Gasoline Price'].str.replace('$', '').str.replace(',', '').astype(float)\n",
    "\n",
    "# Calculate CO2 emissions per million people\n",
    "data['Co2-Emissions per million people'] = (data['Co2-Emissions'] / data['Population']) * 1000000\n",
    "# Calculate GDP per capita\n",
    "data['GDP per capita'] = data['GDP'] / data['Population']\n",
    "\n",
    "# Viewing sample data\n",
    "data.head()"
   ]
  },
  {
   "cell_type": "code",
   "execution_count": 6,
   "id": "a298ff49",
   "metadata": {
    "execution": {
     "iopub.execute_input": "2024-03-15T17:34:55.309748Z",
     "iopub.status.busy": "2024-03-15T17:34:55.309396Z",
     "iopub.status.idle": "2024-03-15T17:34:55.337641Z",
     "shell.execute_reply": "2024-03-15T17:34:55.336819Z"
    },
    "papermill": {
     "duration": 0.03382,
     "end_time": "2024-03-15T17:34:55.339254",
     "exception": false,
     "start_time": "2024-03-15T17:34:55.305434",
     "status": "completed"
    },
    "tags": []
   },
   "outputs": [
    {
     "data": {
      "text/html": [
       "<div>\n",
       "<style scoped>\n",
       "    .dataframe tbody tr th:only-of-type {\n",
       "        vertical-align: middle;\n",
       "    }\n",
       "\n",
       "    .dataframe tbody tr th {\n",
       "        vertical-align: top;\n",
       "    }\n",
       "\n",
       "    .dataframe thead th {\n",
       "        text-align: right;\n",
       "    }\n",
       "</style>\n",
       "<table border=\"1\" class=\"dataframe\">\n",
       "  <thead>\n",
       "    <tr style=\"text-align: right;\">\n",
       "      <th></th>\n",
       "      <th>Co2-Emissions</th>\n",
       "      <th>Gasoline Price</th>\n",
       "      <th>GDP</th>\n",
       "      <th>Life expectancy</th>\n",
       "      <th>Physicians per thousand</th>\n",
       "      <th>Population</th>\n",
       "      <th>Co2-Emissions per million people</th>\n",
       "      <th>GDP per capita</th>\n",
       "    </tr>\n",
       "  </thead>\n",
       "  <tbody>\n",
       "    <tr>\n",
       "      <th>count</th>\n",
       "      <td>1.680000e+02</td>\n",
       "      <td>168.000000</td>\n",
       "      <td>168.0</td>\n",
       "      <td>168.000000</td>\n",
       "      <td>168.000000</td>\n",
       "      <td>1.680000e+02</td>\n",
       "      <td>168.000000</td>\n",
       "      <td>168.0</td>\n",
       "    </tr>\n",
       "    <tr>\n",
       "      <th>mean</th>\n",
       "      <td>1.986341e+05</td>\n",
       "      <td>0.992857</td>\n",
       "      <td>545479726932.119019</td>\n",
       "      <td>72.547024</td>\n",
       "      <td>1.885655</td>\n",
       "      <td>4.528081e+07</td>\n",
       "      <td>4397.496057</td>\n",
       "      <td>14148.473414</td>\n",
       "    </tr>\n",
       "    <tr>\n",
       "      <th>std</th>\n",
       "      <td>8.852774e+05</td>\n",
       "      <td>0.355831</td>\n",
       "      <td>2321145151856.65332</td>\n",
       "      <td>7.390582</td>\n",
       "      <td>1.650928</td>\n",
       "      <td>1.551359e+08</td>\n",
       "      <td>5551.919512</td>\n",
       "      <td>19155.386625</td>\n",
       "    </tr>\n",
       "    <tr>\n",
       "      <th>min</th>\n",
       "      <td>1.430000e+02</td>\n",
       "      <td>0.000000</td>\n",
       "      <td>221278000.0</td>\n",
       "      <td>52.800000</td>\n",
       "      <td>0.010000</td>\n",
       "      <td>5.879100e+04</td>\n",
       "      <td>23.285941</td>\n",
       "      <td>261.247473</td>\n",
       "    </tr>\n",
       "    <tr>\n",
       "      <th>25%</th>\n",
       "      <td>4.970250e+03</td>\n",
       "      <td>0.747500</td>\n",
       "      <td>14156310007.0</td>\n",
       "      <td>67.250000</td>\n",
       "      <td>0.365000</td>\n",
       "      <td>3.665286e+06</td>\n",
       "      <td>729.689513</td>\n",
       "      <td>1814.519653</td>\n",
       "    </tr>\n",
       "    <tr>\n",
       "      <th>50%</th>\n",
       "      <td>1.895500e+04</td>\n",
       "      <td>0.980000</td>\n",
       "      <td>51742709149.5</td>\n",
       "      <td>74.100000</td>\n",
       "      <td>1.585000</td>\n",
       "      <td>1.069302e+07</td>\n",
       "      <td>2490.568909</td>\n",
       "      <td>5978.254912</td>\n",
       "    </tr>\n",
       "    <tr>\n",
       "      <th>75%</th>\n",
       "      <td>8.731925e+04</td>\n",
       "      <td>1.212500</td>\n",
       "      <td>272150440960.0</td>\n",
       "      <td>77.650000</td>\n",
       "      <td>2.982500</td>\n",
       "      <td>3.277800e+07</td>\n",
       "      <td>5774.513024</td>\n",
       "      <td>17404.926411</td>\n",
       "    </tr>\n",
       "    <tr>\n",
       "      <th>max</th>\n",
       "      <td>9.893038e+06</td>\n",
       "      <td>2.000000</td>\n",
       "      <td>21427700000000.0</td>\n",
       "      <td>84.200000</td>\n",
       "      <td>8.420000</td>\n",
       "      <td>1.397715e+09</td>\n",
       "      <td>36460.648706</td>\n",
       "      <td>110172.373141</td>\n",
       "    </tr>\n",
       "  </tbody>\n",
       "</table>\n",
       "</div>"
      ],
      "text/plain": [
       "       Co2-Emissions  Gasoline Price                  GDP  Life expectancy  \\\n",
       "count   1.680000e+02      168.000000                168.0       168.000000   \n",
       "mean    1.986341e+05        0.992857  545479726932.119019        72.547024   \n",
       "std     8.852774e+05        0.355831  2321145151856.65332         7.390582   \n",
       "min     1.430000e+02        0.000000          221278000.0        52.800000   \n",
       "25%     4.970250e+03        0.747500        14156310007.0        67.250000   \n",
       "50%     1.895500e+04        0.980000        51742709149.5        74.100000   \n",
       "75%     8.731925e+04        1.212500       272150440960.0        77.650000   \n",
       "max     9.893038e+06        2.000000     21427700000000.0        84.200000   \n",
       "\n",
       "       Physicians per thousand    Population  \\\n",
       "count               168.000000  1.680000e+02   \n",
       "mean                  1.885655  4.528081e+07   \n",
       "std                   1.650928  1.551359e+08   \n",
       "min                   0.010000  5.879100e+04   \n",
       "25%                   0.365000  3.665286e+06   \n",
       "50%                   1.585000  1.069302e+07   \n",
       "75%                   2.982500  3.277800e+07   \n",
       "max                   8.420000  1.397715e+09   \n",
       "\n",
       "       Co2-Emissions per million people  GDP per capita  \n",
       "count                        168.000000           168.0  \n",
       "mean                        4397.496057    14148.473414  \n",
       "std                         5551.919512    19155.386625  \n",
       "min                           23.285941      261.247473  \n",
       "25%                          729.689513     1814.519653  \n",
       "50%                         2490.568909     5978.254912  \n",
       "75%                         5774.513024    17404.926411  \n",
       "max                        36460.648706   110172.373141  "
      ]
     },
     "execution_count": 6,
     "metadata": {},
     "output_type": "execute_result"
    }
   ],
   "source": [
    "data.describe()"
   ]
  },
  {
   "cell_type": "code",
   "execution_count": 7,
   "id": "3e3da54b",
   "metadata": {
    "execution": {
     "iopub.execute_input": "2024-03-15T17:34:55.346656Z",
     "iopub.status.busy": "2024-03-15T17:34:55.346317Z",
     "iopub.status.idle": "2024-03-15T17:34:55.351534Z",
     "shell.execute_reply": "2024-03-15T17:34:55.350784Z"
    },
    "papermill": {
     "duration": 0.010921,
     "end_time": "2024-03-15T17:34:55.353230",
     "exception": false,
     "start_time": "2024-03-15T17:34:55.342309",
     "status": "completed"
    },
    "tags": []
   },
   "outputs": [
    {
     "data": {
      "text/plain": [
       "(168, 11)"
      ]
     },
     "execution_count": 7,
     "metadata": {},
     "output_type": "execute_result"
    }
   ],
   "source": [
    "data.shape"
   ]
  },
  {
   "cell_type": "code",
   "execution_count": 11,
   "id": "351d1b59",
   "metadata": {
    "execution": {
     "iopub.execute_input": "2024-03-15T17:34:55.361473Z",
     "iopub.status.busy": "2024-03-15T17:34:55.361140Z",
     "iopub.status.idle": "2024-03-15T17:34:57.293038Z",
     "shell.execute_reply": "2024-03-15T17:34:57.291829Z"
    },
    "papermill": {
     "duration": 1.93847,
     "end_time": "2024-03-15T17:34:57.295367",
     "exception": false,
     "start_time": "2024-03-15T17:34:55.356897",
     "status": "completed"
    },
    "tags": []
   },
   "outputs": [
    {
     "data": {
      "image/png": "[encoded data removed]",
      "text/plain": [
       "<Figure size 1600x800 with 4 Axes>"
      ]
     },
     "metadata": {},
     "output_type": "display_data"
    }
   ],
   "source": [
    "# 1. Histogram\n",
    "import matplotlib.pyplot as plt\n",
    "from scipy.stats import norm\n",
    "from scipy.stats import expon\n",
    "from scipy.stats import loggamma\n",
    "\n",
    "# Create a 2x2 grid\n",
    "fig = plt.figure(figsize=(16, 8))\n",
    "gs = fig.add_gridspec(2, 2)\n",
    "\n",
    "# Define style contexts\n",
    "style_contexts = ['default', 'seaborn-v0_8-whitegrid', 'bmh', 'Solarize_Light2']\n",
    "\n",
    "# Define histogram chart\n",
    "def hist_chart(data, distribution):\n",
    "    # Create histogram\n",
    "    plt.hist(data, bins=10, density = True)\n",
    "    \n",
    "    # Define x range\n",
    "    xmin, xmax = plt.xlim()\n",
    "    x = np.linspace(xmin, xmax, 100)\n",
    "    \n",
    "    #Fit distribution\n",
    "    if distribution == 'norm':       \n",
    "        # Fit a normal distribution to the data\n",
    "        mu, std = norm.fit(data)\n",
    "        pdf = norm.pdf(x, mu, std)\n",
    "    elif distribution == 'expon':\n",
    "        # Fit exponential distribution to the data\n",
    "        loc, scale = expon.fit(data)\n",
    "        pdf = expon.pdf(x, loc, scale)\n",
    "    elif distribution == 'loggamma':\n",
    "        # Fit loggamma distribution to the data\n",
    "        shape, loc, scale = loggamma.fit(data)\n",
    "        pdf = loggamma.pdf(x, shape, loc, scale)\n",
    "        \n",
    "    # Plot the fitted distribution\n",
    "    plt.plot(x, pdf, 'orange', linestyle='--') \n",
    "\n",
    "    \n",
    "# Create Histograms\n",
    "\n",
    "# i) Life expectancy Histogram\n",
    "with plt.style.context(style_contexts[0]):\n",
    "    fig.add_subplot(gs[0,0])\n",
    "    hist_chart(data['Life expectancy'], 'loggamma')\n",
    "    plt.title('Life expectancy Histogram')\n",
    "    plt.xlabel('Age')\n",
    "    plt.ylabel('Probability density')    \n",
    "    \n",
    "# ii) Co2-Emissions per million people Histogram\n",
    "with plt.style.context(style_contexts[1]):\n",
    "    fig.add_subplot(gs[0,1])\n",
    "    hist_chart(data['Co2-Emissions per million people'], 'expon')\n",
    "    plt.title('Co2-Emissions Histogram')\n",
    "    plt.xlabel('Co2-Emissions')\n",
    "    plt.ylabel('Probability density')\n",
    "    \n",
    "# iii) Gasoline Price Histogram\n",
    "with plt.style.context(style_contexts[2]):\n",
    "    fig.add_subplot(gs[1,0])\n",
    "    hist_chart(data['Gasoline Price'], 'norm')\n",
    "    plt.title('Gasoline Price Histogram')\n",
    "    plt.xlabel('Gasoline Price in USD')\n",
    "    plt.ylabel('Probability density')\n",
    "    \n",
    "# iv) Physicians per thousand Histogram\n",
    "with plt.style.context(style_contexts[3]):\n",
    "    fig.add_subplot(gs[1,1])\n",
    "    hist_chart(data['Physicians per thousand'], 'expon')\n",
    "    plt.title('Physicians per thousand Histogram')\n",
    "    plt.xlabel('Physicians per thousand')\n",
    "    plt.ylabel('Probability density')\n",
    "\n",
    "# Adjust layout\n",
    "plt.tight_layout()\n",
    "\n",
    "# Show the charts\n",
    "plt.show() \n"
   ]
  },
  {
   "cell_type": "code",
   "execution_count": null,
   "id": "31d7c837",
   "metadata": {},
   "outputs": [
    {
     "data": {
      "text/html": [
       "\n",
       "<style>\n",
       "  #altair-viz-a5bd37e0be0042f794be952dc3ed265d.vega-embed {\n",
       "    width: 100%;\n",
       "    display: flex;\n",
       "  }\n",
       "\n",
       "  #altair-viz-a5bd37e0be0042f794be952dc3ed265d.vega-embed details,\n",
       "  #altair-viz-a5bd37e0be0042f794be952dc3ed265d.vega-embed details summary {\n",
       "    position: relative;\n",
       "  }\n",
       "</style>\n",
       "<div id=\"altair-viz-a5bd37e0be0042f794be952dc3ed265d\"></div>\n",
       "<script type=\"text/javascript\">\n",
       "  var VEGA_DEBUG = (typeof VEGA_DEBUG == \"undefined\") ? {} : VEGA_DEBUG;\n",
       "  (function(spec, embedOpt){\n",
       "    let outputDiv = document.currentScript.previousElementSibling;\n",
       "    if (outputDiv.id !== \"altair-viz-a5bd37e0be0042f794be952dc3ed265d\") {\n",
       "      outputDiv = document.getElementById(\"altair-viz-a5bd37e0be0042f794be952dc3ed265d\");\n",
       "    }\n",
       "\n",
       "    const paths = {\n",
       "      \"vega\": \"https://cdn.jsdelivr.net/npm/vega@5?noext\",\n",
       "      \"vega-lib\": \"https://cdn.jsdelivr.net/npm/vega-lib?noext\",\n",
       "      \"vega-lite\": \"https://cdn.jsdelivr.net/npm/vega-lite@5.20.1?noext\",\n",
       "      \"vega-embed\": \"https://cdn.jsdelivr.net/npm/vega-embed@6?noext\",\n",
       "    };\n",
       "\n",
       "    function maybeLoadScript(lib, version) {\n",
       "      var key = `${lib.replace(\"-\", \"\")}_version`;\n",
       "      return (VEGA_DEBUG[key] == version) ?\n",
       "        Promise.resolve(paths[lib]) :\n",
       "        new Promise(function(resolve, reject) {\n",
       "          var s = document.createElement('script');\n",
       "          document.getElementsByTagName(\"head\")[0].appendChild(s);\n",
       "          s.async = true;\n",
       "          s.onload = () => {\n",
       "            VEGA_DEBUG[key] = version;\n",
       "            return resolve(paths[lib]);\n",
       "          };\n",
       "          s.onerror = () => reject(`Error loading script: ${paths[lib]}`);\n",
       "          s.src = paths[lib];\n",
       "        });\n",
       "    }\n",
       "\n",
       "    function showError(err) {\n",
       "      outputDiv.innerHTML = `<div class=\"error\" style=\"color:red;\">${err}</div>`;\n",
       "      throw err;\n",
       "    }\n",
       "\n",
       "    function displayChart(vegaEmbed) {\n",
       "      vegaEmbed(outputDiv, spec, embedOpt)\n",
       "        .catch(err => showError(`Javascript Error: ${err.message}<br>This usually means there's a typo in your chart specification. See the javascript console for the full traceback.`));\n",
       "    }\n",
       "\n",
       "    if(typeof define === \"function\" && define.amd) {\n",
       "      requirejs.config({paths});\n",
       "      let deps = [\"vega-embed\"];\n",
       "      require(deps, displayChart, err => showError(`Error loading script: ${err.message}`));\n",
       "    } else {\n",
       "      maybeLoadScript(\"vega\", \"5\")\n",
       "        .then(() => maybeLoadScript(\"vega-lite\", \"5.20.1\"))\n",
       "        .then(() => maybeLoadScript(\"vega-embed\", \"6\"))\n",
       "        .catch(showError)\n",
       "        .then(() => displayChart(vegaEmbed));\n",
       "    }\n",
       "  })({\"config\": {\"view\": {\"continuousWidth\": 300, \"continuousHeight\": 300}}, \"vconcat\": [{\"hconcat\": [{\"layer\": [{\"data\": {\"name\": \"data-906d18952711f49a86c65c80a016a7f5\"}, \"mark\": {\"type\": \"bar\", \"opacity\": 0.5}, \"encoding\": {\"x\": {\"bin\": {\"maxbins\": 10}, \"field\": \"value\", \"title\": \"Age\", \"type\": \"quantitative\"}, \"y\": {\"aggregate\": \"count\", \"title\": \"Count\", \"type\": \"quantitative\"}}, \"title\": \"Life Expectancy Histogram\"}, {\"data\": {\"name\": \"data-bde28cff9fdfb2816c81241052c2b95d\"}, \"mark\": {\"type\": \"line\", \"color\": \"orange\"}, \"encoding\": {\"x\": {\"field\": \"x\", \"type\": \"quantitative\"}, \"y\": {\"field\": \"y\", \"type\": \"quantitative\"}}}]}, {\"layer\": [{\"data\": {\"name\": \"data-0e23fcd6edd1bccf3d5b9d67c710d805\"}, \"mark\": {\"type\": \"bar\", \"opacity\": 0.5}, \"encoding\": {\"x\": {\"bin\": {\"maxbins\": 10}, \"field\": \"value\", \"title\": \"CO2 Emissions\", \"type\": \"quantitative\"}, \"y\": {\"aggregate\": \"count\", \"title\": \"Count\", \"type\": \"quantitative\"}}, \"title\": \"CO2 Emissions Histogram\"}, {\"data\": {\"name\": \"data-e1d1282b6b9a22f8e5ee22681b5418d3\"}, \"mark\": {\"type\": \"line\", \"color\": \"orange\"}, \"encoding\": {\"x\": {\"field\": \"x\", \"type\": \"quantitative\"}, \"y\": {\"field\": \"y\", \"type\": \"quantitative\"}}}]}]}, {\"hconcat\": [{\"layer\": [{\"data\": {\"name\": \"data-8c3e7040132a1429c7d49c771cddef4b\"}, \"mark\": {\"type\": \"bar\", \"opacity\": 0.5}, \"encoding\": {\"x\": {\"bin\": {\"maxbins\": 10}, \"field\": \"value\", \"title\": \"Gasoline Price (USD)\", \"type\": \"quantitative\"}, \"y\": {\"aggregate\": \"count\", \"title\": \"Count\", \"type\": \"quantitative\"}}, \"title\": \"Gasoline Price Histogram\"}, {\"data\": {\"name\": \"data-40cbdaf7bcdf811a1296f71ccfd8ae2d\"}, \"mark\": {\"type\": \"line\", \"color\": \"orange\"}, \"encoding\": {\"x\": {\"field\": \"x\", \"type\": \"quantitative\"}, \"y\": {\"field\": \"y\", \"type\": \"quantitative\"}}}]}, {\"layer\": [{\"data\": {\"name\": \"data-5fcad1d8e24e626e805343866ab85d94\"}, \"mark\": {\"type\": \"bar\", \"opacity\": 0.5}, \"encoding\": {\"x\": {\"bin\": {\"maxbins\": 10}, \"field\": \"value\", \"title\": \"Physicians per Thousand\", \"type\": \"quantitative\"}, \"y\": {\"aggregate\": \"count\", \"title\": \"Count\", \"type\": \"quantitative\"}}, \"title\": \"Physicians per Thousand Histogram\"}, {\"data\": {\"name\": \"data-bfee7fc11006053aff3f47833fd7d3d6\"}, \"mark\": {\"type\": \"line\", \"color\": \"orange\"}, \"encoding\": {\"x\": {\"field\": \"x\", \"type\": \"quantitative\"}, \"y\": {\"field\": \"y\", \"type\": \"quantitative\"}}}]}]}], \"resolve\": {\"scale\": {\"color\": \"independent\"}}, \"title\": \"Histograms with Fitted Distributions (Altair)\", \"$schema\": \"https://vega.github.io/schema/vega-lite/v5.20.1.json\", \"datasets\": {\"data-906d18952711f49a86c65c80a016a7f5\": [{\"value\": 64.5}, {\"value\": 78.5}, {\"value\": 76.7}, {\"value\": 60.8}, {\"value\": 76.9}, {\"value\": 76.5}, {\"value\": 74.9}, {\"value\": 82.7}, {\"value\": 81.6}, {\"value\": 72.9}, {\"value\": 73.8}, {\"value\": 77.2}, {\"value\": 72.3}, {\"value\": 79.1}, {\"value\": 74.2}, {\"value\": 81.6}, {\"value\": 74.5}, {\"value\": 61.5}, {\"value\": 71.5}, {\"value\": 71.2}, {\"value\": 77.3}, {\"value\": 69.3}, {\"value\": 75.7}, {\"value\": 75.7}, {\"value\": 74.9}, {\"value\": 61.2}, {\"value\": 61.2}, {\"value\": 57.4}, {\"value\": 72.8}, {\"value\": 69.6}, {\"value\": 58.9}, {\"value\": 81.9}, {\"value\": 52.8}, {\"value\": 54.0}, {\"value\": 80.0}, {\"value\": 77.0}, {\"value\": 77.1}, {\"value\": 80.1}, {\"value\": 78.1}, {\"value\": 78.7}, {\"value\": 80.8}, {\"value\": 79.0}, {\"value\": 60.4}, {\"value\": 81.0}, {\"value\": 66.6}, {\"value\": 73.9}, {\"value\": 76.8}, {\"value\": 71.8}, {\"value\": 73.1}, {\"value\": 65.9}, {\"value\": 78.2}, {\"value\": 66.2}, {\"value\": 67.3}, {\"value\": 81.7}, {\"value\": 82.5}, {\"value\": 66.2}, {\"value\": 61.7}, {\"value\": 73.6}, {\"value\": 80.9}, {\"value\": 63.8}, {\"value\": 81.3}, {\"value\": 72.4}, {\"value\": 74.1}, {\"value\": 61.2}, {\"value\": 69.8}, {\"value\": 63.7}, {\"value\": 75.1}, {\"value\": 75.8}, {\"value\": 82.7}, {\"value\": 69.4}, {\"value\": 71.5}, {\"value\": 76.5}, {\"value\": 70.5}, {\"value\": 82.8}, {\"value\": 82.9}, {\"value\": 74.4}, {\"value\": 84.2}, {\"value\": 74.4}, {\"value\": 73.2}, {\"value\": 66.3}, {\"value\": 75.4}, {\"value\": 71.4}, {\"value\": 67.6}, {\"value\": 74.7}, {\"value\": 78.9}, {\"value\": 53.7}, {\"value\": 63.7}, {\"value\": 72.7}, {\"value\": 75.7}, {\"value\": 82.1}, {\"value\": 66.7}, {\"value\": 63.8}, {\"value\": 76.0}, {\"value\": 78.6}, {\"value\": 58.9}, {\"value\": 82.3}, {\"value\": 65.2}, {\"value\": 64.7}, {\"value\": 74.4}, {\"value\": 75.0}, {\"value\": 71.8}, {\"value\": 69.7}, {\"value\": 76.8}, {\"value\": 76.5}, {\"value\": 60.2}, {\"value\": 66.9}, {\"value\": 70.5}, {\"value\": 81.8}, {\"value\": 81.9}, {\"value\": 74.3}, {\"value\": 62.0}, {\"value\": 54.3}, {\"value\": 72.1}, {\"value\": 82.8}, {\"value\": 77.6}, {\"value\": 67.1}, {\"value\": 78.3}, {\"value\": 64.3}, {\"value\": 74.1}, {\"value\": 76.5}, {\"value\": 71.1}, {\"value\": 77.6}, {\"value\": 81.3}, {\"value\": 80.1}, {\"value\": 75.4}, {\"value\": 72.7}, {\"value\": 68.7}, {\"value\": 76.1}, {\"value\": 73.2}, {\"value\": 75.0}, {\"value\": 67.7}, {\"value\": 75.5}, {\"value\": 54.3}, {\"value\": 83.1}, {\"value\": 77.2}, {\"value\": 81.0}, {\"value\": 57.1}, {\"value\": 63.9}, {\"value\": 82.6}, {\"value\": 83.3}, {\"value\": 76.8}, {\"value\": 65.1}, {\"value\": 71.6}, {\"value\": 82.5}, {\"value\": 83.6}, {\"value\": 71.8}, {\"value\": 70.9}, {\"value\": 65.0}, {\"value\": 76.9}, {\"value\": 69.3}, {\"value\": 60.8}, {\"value\": 73.4}, {\"value\": 76.5}, {\"value\": 77.4}, {\"value\": 68.1}, {\"value\": 63.0}, {\"value\": 71.6}, {\"value\": 77.8}, {\"value\": 81.3}, {\"value\": 78.5}, {\"value\": 77.8}, {\"value\": 71.6}, {\"value\": 70.3}, {\"value\": 72.1}, {\"value\": 75.3}, {\"value\": 66.1}, {\"value\": 63.5}, {\"value\": 61.2}], \"data-bde28cff9fdfb2816c81241052c2b95d\": [{\"x\": 52.8, \"y\": 0.00350658438627584}, {\"x\": 53.117171717171715, \"y\": 0.0036843584969152477}, {\"x\": 53.43434343434343, \"y\": 0.0038709997884747898}, {\"x\": 53.75151515151515, \"y\": 0.004066933623054469}, {\"x\": 54.06868686868687, \"y\": 0.004272603780969767}, {\"x\": 54.385858585858585, \"y\": 0.004488473018465357}, {\"x\": 54.7030303030303, \"y\": 0.004715023610745959}, {\"x\": 55.02020202020202, \"y\": 0.004952757874859733}, {\"x\": 55.33737373737374, \"y\": 0.005202198666200554}, {\"x\": 55.65454545454545, \"y\": 0.005463889841540648}, {\"x\": 55.97171717171717, \"y\": 0.00573839668055672}, {\"x\": 56.288888888888884, \"y\": 0.0060263062567623305}, {\"x\": 56.6060606060606, \"y\": 0.006328227747598305}, {\"x\": 56.92323232323232, \"y\": 0.006644792672151865}, {\"x\": 57.24040404040404, \"y\": 0.0069766550435644125}, {\"x\": 57.557575757575755, \"y\": 0.007324491421637742}, {\"x\": 57.87474747474747, \"y\": 0.007689000849448494}, {\"x\": 58.19191919191919, \"y\": 0.008070904655921014}, {\"x\": 58.50909090909091, \"y\": 0.008470946104279268}, {\"x\": 58.826262626262626, \"y\": 0.008889889864089607}, {\"x\": 59.14343434343434, \"y\": 0.009328521282208879}, {\"x\": 59.46060606060606, \"y\": 0.009787645425358923}, {\"x\": 59.77777777777778, \"y\": 0.010268085864252098}, {\"x\": 60.09494949494949, \"y\": 0.01077068316618916}, {\"x\": 60.41212121212121, \"y\": 0.011296293059838664}, {\"x\": 60.729292929292924, \"y\": 0.01184578423248742}, {\"x\": 61.04646464646464, \"y\": 0.012420035716431684}, {\"x\": 61.36363636363636, \"y\": 0.013019933817368897}, {\"x\": 61.68080808080808, \"y\": 0.013646368533670052}, {\"x\": 61.997979797979795, \"y\": 0.01430022941128888}, {\"x\": 62.31515151515151, \"y\": 0.014982400774833926}, {\"x\": 62.63232323232323, \"y\": 0.015693756271042334}, {\"x\": 62.94949494949495, \"y\": 0.01643515265661416}, {\"x\": 63.266666666666666, \"y\": 0.01720742275817405}, {\"x\": 63.58383838383838, \"y\": 0.018011367528125925}, {\"x\": 63.9010101010101, \"y\": 0.01884774711648082}, {\"x\": 64.21818181818182, \"y\": 0.01971727087552187}, {\"x\": 64.53535353535354, \"y\": 0.02062058621160947}, {\"x\": 64.85252525252525, \"y\": 0.021558266196744273}, {\"x\": 65.16969696969697, \"y\": 0.022530795851960758}, {\"x\": 65.48686868686869, \"y\": 0.02353855701552836}, {\"x\": 65.8040404040404, \"y\": 0.024581811711651413}, {\"x\": 66.12121212121212, \"y\": 0.025660683940304418}, {\"x\": 66.43838383838384, \"y\": 0.026775139816493505}, {\"x\": 66.75555555555556, \"y\": 0.027924965998147654}, {\"x\": 67.07272727272728, \"y\": 0.029109746356632597}, {\"x\": 67.389898989899, \"y\": 0.030328836863234097}, {\"x\": 67.7070707070707, \"y\": 0.031581338689642545}, {\"x\": 68.02424242424243, \"y\": 0.03286606955131665}, {\"x\": 68.34141414141413, \"y\": 0.03418153336050667}, {\"x\": 68.65858585858587, \"y\": 0.03552588830163216}, {\"x\": 68.97575757575757, \"y\": 0.03689691349659959}, {\"x\": 69.2929292929293, \"y\": 0.03829197449252621}, {\"x\": 69.610101010101, \"y\": 0.03970798788013694}, {\"x\": 69.92727272727272, \"y\": 0.04114138543873765}, {\"x\": 70.24444444444444, \"y\": 0.04258807830385187}, {\"x\": 70.56161616161616, \"y\": 0.044043421766896}, {\"x\": 70.87878787878788, \"y\": 0.04550218144284582}, {\"x\": 71.1959595959596, \"y\": 0.046958501681503034}, {\"x\": 71.51313131313131, \"y\": 0.04840587724989384}, {\"x\": 71.83030303030303, \"y\": 0.04983712947597336}, {\"x\": 72.14747474747475, \"y\": 0.051244388214679866}, {\"x\": 72.46464646464646, \"y\": 0.05261908117284409}, {\"x\": 72.78181818181818, \"y\": 0.05395193230448578}, {\"x\": 73.0989898989899, \"y\": 0.05523297115597104}, {\"x\": 73.41616161616162, \"y\": 0.056451555192838974}, {\"x\": 73.73333333333333, \"y\": 0.05759640726621283}, {\"x\": 74.05050505050505, \"y\": 0.058655670463690676}, {\"x\": 74.36767676767677, \"y\": 0.05961698262216199}, {\"x\": 74.68484848484849, \"y\": 0.060467572740419126}, {\"x\": 75.0020202020202, \"y\": 0.061194381397779475}, {\"x\": 75.31919191919192, \"y\": 0.06178420703937299}, {\"x\": 75.63636363636364, \"y\": 0.0622238796062255}, {\"x\": 75.95353535353536, \"y\": 0.06250046244548296}, {\"x\": 76.27070707070708, \"y\": 0.06260148271097159}, {\"x\": 76.5878787878788, \"y\": 0.06251518953774536}, {\"x\": 76.9050505050505, \"y\": 0.062230838132832485}, {\"x\": 77.22222222222223, \"y\": 0.06173899656304069}, {\"x\": 77.53939393939393, \"y\": 0.061031870446396644}, {\"x\": 77.85656565656566, \"y\": 0.060103638989435916}, {\"x\": 78.17373737373737, \"y\": 0.05895079390101493}, {\"x\": 78.4909090909091, \"y\": 0.05757247072148831}, {\"x\": 78.8080808080808, \"y\": 0.055970760128432204}, {\"x\": 79.12525252525253, \"y\": 0.054150984940856246}, {\"x\": 79.44242424242424, \"y\": 0.05212192699760564}, {\"x\": 79.75959595959596, \"y\": 0.04989598701484895}, {\"x\": 80.07676767676767, \"y\": 0.047489260136502225}, {\"x\": 80.39393939393939, \"y\": 0.04492151039552635}, {\"x\": 80.71111111111111, \"y\": 0.04221602891370474}, {\"x\": 81.02828282828283, \"y\": 0.039399363566383884}, {\"x\": 81.34545454545454, \"y\": 0.036500912156427846}, {\"x\": 81.66262626262626, \"y\": 0.03355237692260073}, {\"x\": 81.97979797979798, \"y\": 0.03058708537750277}, {\"x\": 82.2969696969697, \"y\": 0.027639190804968846}, {\"x\": 82.61414141414141, \"y\": 0.02474277484837715}, {\"x\": 82.93131313131313, \"y\": 0.021930883906586606}, {\"x\": 83.24848484848485, \"y\": 0.019234539764591833}, {\"x\": 83.56565656565657, \"y\": 0.01668177212321177}, {\"x\": 83.88282828282829, \"y\": 0.014296725485598002}, {\"x\": 84.2, \"y\": 0.012098894264717277}], \"data-0e23fcd6edd1bccf3d5b9d67c710d805\": [{\"value\": 8672}, {\"value\": 4536}, {\"value\": 150006}, {\"value\": 34693}, {\"value\": 557}, {\"value\": 201348}, {\"value\": 5156}, {\"value\": 375908}, {\"value\": 61448}, {\"value\": 37620}, {\"value\": 1786}, {\"value\": 31694}, {\"value\": 84246}, {\"value\": 1276}, {\"value\": 58280}, {\"value\": 96889}, {\"value\": 568}, {\"value\": 6476}, {\"value\": 1261}, {\"value\": 21606}, {\"value\": 21848}, {\"value\": 6340}, {\"value\": 462299}, {\"value\": 7664}, {\"value\": 41708}, {\"value\": 3418}, {\"value\": 495}, {\"value\": 9674}, {\"value\": 543}, {\"value\": 9919}, {\"value\": 8291}, {\"value\": 544894}, {\"value\": 297}, {\"value\": 1016}, {\"value\": 85822}, {\"value\": 9893038}, {\"value\": 97814}, {\"value\": 8023}, {\"value\": 17488}, {\"value\": 28284}, {\"value\": 6626}, {\"value\": 102218}, {\"value\": 2021}, {\"value\": 31786}, {\"value\": 620}, {\"value\": 25258}, {\"value\": 41155}, {\"value\": 238560}, {\"value\": 7169}, {\"value\": 711}, {\"value\": 16590}, {\"value\": 14870}, {\"value\": 2046}, {\"value\": 45871}, {\"value\": 303276}, {\"value\": 5321}, {\"value\": 532}, {\"value\": 10128}, {\"value\": 727973}, {\"value\": 16670}, {\"value\": 62434}, {\"value\": 268}, {\"value\": 16777}, {\"value\": 2996}, {\"value\": 2384}, {\"value\": 2978}, {\"value\": 9813}, {\"value\": 45537}, {\"value\": 2065}, {\"value\": 2407672}, {\"value\": 563325}, {\"value\": 661710}, {\"value\": 190061}, {\"value\": 65166}, {\"value\": 320411}, {\"value\": 8225}, {\"value\": 1135886}, {\"value\": 25108}, {\"value\": 247207}, {\"value\": 17910}, {\"value\": 98734}, {\"value\": 9787}, {\"value\": 17763}, {\"value\": 7004}, {\"value\": 24796}, {\"value\": 2512}, {\"value\": 1386}, {\"value\": 50564}, {\"value\": 12963}, {\"value\": 8988}, {\"value\": 3905}, {\"value\": 1298}, {\"value\": 248289}, {\"value\": 1445}, {\"value\": 3179}, {\"value\": 1342}, {\"value\": 143}, {\"value\": 2739}, {\"value\": 4349}, {\"value\": 486406}, {\"value\": 5115}, {\"value\": 25368}, {\"value\": 2017}, {\"value\": 61276}, {\"value\": 7943}, {\"value\": 25280}, {\"value\": 9105}, {\"value\": 170780}, {\"value\": 34382}, {\"value\": 5592}, {\"value\": 2017}, {\"value\": 120369}, {\"value\": 28284}, {\"value\": 41023}, {\"value\": 63457}, {\"value\": 201150}, {\"value\": 10715}, {\"value\": 7536}, {\"value\": 7407}, {\"value\": 57414}, {\"value\": 122287}, {\"value\": 299037}, {\"value\": 48742}, {\"value\": 103259}, {\"value\": 69259}, {\"value\": 1732027}, {\"value\": 1115}, {\"value\": 414}, {\"value\": 246}, {\"value\": 563449}, {\"value\": 10902}, {\"value\": 45221}, {\"value\": 1093}, {\"value\": 37535}, {\"value\": 32424}, {\"value\": 12633}, {\"value\": 645}, {\"value\": 476644}, {\"value\": 620302}, {\"value\": 244002}, {\"value\": 23362}, {\"value\": 20000}, {\"value\": 1738}, {\"value\": 43252}, {\"value\": 34477}, {\"value\": 28830}, {\"value\": 5310}, {\"value\": 11973}, {\"value\": 283763}, {\"value\": 495}, {\"value\": 3000}, {\"value\": 43868}, {\"value\": 29937}, {\"value\": 372725}, {\"value\": 70630}, {\"value\": 5680}, {\"value\": 202250}, {\"value\": 206324}, {\"value\": 379025}, {\"value\": 5006302}, {\"value\": 6766}, {\"value\": 91811}, {\"value\": 147}, {\"value\": 164175}, {\"value\": 192668}, {\"value\": 10609}, {\"value\": 5141}, {\"value\": 10983}], \"data-e1d1282b6b9a22f8e5ee22681b5418d3\": [{\"x\": 143.0, \"y\": 5.038008475249734e-06}, {\"x\": 100071.23232323233, \"y\": 3.045215221112883e-06}, {\"x\": 199999.46464646465, \"y\": 1.8406748993088792e-06}, {\"x\": 299927.69696969696, \"y\": 1.1125926540284294e-06}, {\"x\": 399855.9292929293, \"y\": 6.72504641782645e-07}, {\"x\": 499784.16161616164, \"y\": 4.0649422911581394e-07}, {\"x\": 599712.3939393939, \"y\": 2.45704710478214e-07}, {\"x\": 699640.6262626263, \"y\": 1.4851577323126715e-07}, {\"x\": 799568.8585858586, \"y\": 8.977009376642329e-08}, {\"x\": 899497.0909090909, \"y\": 5.426137277879275e-08}, {\"x\": 999425.3232323233, \"y\": 3.279818982366222e-08}, {\"x\": 1099353.5555555555, \"y\": 1.9824807236159918e-08}, {\"x\": 1199281.7878787878, \"y\": 1.1983069311567684e-08}, {\"x\": 1299210.0202020202, \"y\": 7.243144834413512e-09}, {\"x\": 1399138.2525252525, \"y\": 4.378105953342568e-09}, {\"x\": 1499066.4848484849, \"y\": 2.6463383208387377e-09}, {\"x\": 1598994.7171717172, \"y\": 1.5995744696386128e-09}, {\"x\": 1698922.9494949495, \"y\": 9.668599301047446e-10}, {\"x\": 1798851.1818181819, \"y\": 5.844167571975277e-10}, {\"x\": 1898779.4141414142, \"y\": 3.532496646709441e-10}, {\"x\": 1998707.6464646466, \"y\": 2.1352112863519086e-10}, {\"x\": 2098635.878787879, \"y\": 1.2906246469084265e-10}, {\"x\": 2198564.111111111, \"y\": 7.801157617771107e-11}, {\"x\": 2298492.3434343436, \"y\": 4.7153957832037284e-11}, {\"x\": 2398420.5757575757, \"y\": 2.8502125558396807e-11}, {\"x\": 2498348.8080808083, \"y\": 1.7228058867089943e-11}, {\"x\": 2598277.0404040404, \"y\": 1.0413469399669985e-11}, {\"x\": 2698205.272727273, \"y\": 6.2944029721776674e-12}, {\"x\": 2798133.505050505, \"y\": 3.804640629895622e-12}, {\"x\": 2898061.7373737376, \"y\": 2.2997082307306587e-12}, {\"x\": 2997989.9696969697, \"y\": 1.3900545310203048e-12}, {\"x\": 3097918.2020202023, \"y\": 8.402159775704091e-13}, {\"x\": 3197846.4343434344, \"y\": 5.078670463714966e-13}, {\"x\": 3297774.6666666665, \"y\": 3.0697932873871605e-13}, {\"x\": 3397702.898989899, \"y\": 1.8555310675530626e-13}, {\"x\": 3497631.131313131, \"y\": 1.121572438379103e-13}, {\"x\": 3597559.3636363638, \"y\": 6.779324563886204e-14}, {\"x\": 3697487.595959596, \"y\": 4.097750619561499e-14}, {\"x\": 3797415.8282828284, \"y\": 2.4768780402646865e-14}, {\"x\": 3897344.0606060605, \"y\": 1.4971445058318196e-14}, {\"x\": 3997272.292929293, \"y\": 9.049463215002981e-15}, {\"x\": 4097200.525252525, \"y\": 5.469931871018183e-15}, {\"x\": 4197128.757575758, \"y\": 3.3062905459382568e-15}, {\"x\": 4297056.98989899, \"y\": 1.9984814129185694e-15}, {\"x\": 4396985.222222222, \"y\": 1.2079785192161957e-15}, {\"x\": 4496913.454545455, \"y\": 7.301604575629844e-16}, {\"x\": 4596841.686868687, \"y\": 4.413441839466798e-16}, {\"x\": 4696769.919191919, \"y\": 2.667697034069507e-16}, {\"x\": 4796698.151515151, \"y\": 1.6124847056878909e-16}, {\"x\": 4896626.3838383835, \"y\": 9.746634992171372e-17}, {\"x\": 4996554.6161616165, \"y\": 5.891336106043445e-17}, {\"x\": 5096482.848484849, \"y\": 3.5610075828477284e-17}, {\"x\": 5196411.080808081, \"y\": 2.152444670758275e-17}, {\"x\": 5296339.313131313, \"y\": 1.3010413353207943e-17}, {\"x\": 5396267.545454546, \"y\": 7.864121104757591e-18}, {\"x\": 5496195.777777778, \"y\": 4.753453950411589e-18}, {\"x\": 5596124.01010101, \"y\": 2.8732167470073608e-18}, {\"x\": 5696052.242424242, \"y\": 1.736710728957151e-18}, {\"x\": 5795980.474747475, \"y\": 1.0497516970191635e-18}, {\"x\": 5895908.707070707, \"y\": 6.345205376006e-19}, {\"x\": 5995836.939393939, \"y\": 3.8353480521175533e-19}, {\"x\": 6095765.171717172, \"y\": 2.3182692772256774e-19}, {\"x\": 6195693.404040405, \"y\": 1.401273722409932e-19}, {\"x\": 6295621.636363637, \"y\": 8.469973977597795e-20}, {\"x\": 6395549.868686869, \"y\": 5.119660636881367e-20}, {\"x\": 6495478.101010101, \"y\": 3.094569724317667e-20}, {\"x\": 6595406.333333333, \"y\": 1.8705071405859712e-20}, {\"x\": 6695334.565656566, \"y\": 1.1306246989650701e-20}, {\"x\": 6795262.797979798, \"y\": 6.834040791255197e-21}, {\"x\": 6895191.03030303, \"y\": 4.130823745429503e-21}, {\"x\": 6995119.262626262, \"y\": 2.4968690321016015e-21}, {\"x\": 7095047.494949495, \"y\": 1.5092280251283804e-21}, {\"x\": 7194975.7272727275, \"y\": 9.122501831486632e-22}, {\"x\": 7294903.95959596, \"y\": 5.5140799322486705e-22}, {\"x\": 7394832.191919192, \"y\": 3.3329757626666744e-22}, {\"x\": 7494760.424242425, \"y\": 2.0146112444897733e-22}, {\"x\": 7594688.656565657, \"y\": 1.2177281670891444e-22}, {\"x\": 7694616.888888889, \"y\": 7.360536147994356e-23}, {\"x\": 7794545.121212121, \"y\": 4.4490629230854855e-23}, {\"x\": 7894473.353535354, \"y\": 2.689228134416195e-23}, {\"x\": 7994401.585858586, \"y\": 1.6254991408213675e-23}, {\"x\": 8094329.818181818, \"y\": 9.825300512797921e-24}, {\"x\": 8194258.05050505, \"y\": 5.938885339429157e-24}, {\"x\": 8294186.282828283, \"y\": 3.589748632008278e-24}, {\"x\": 8394114.515151516, \"y\": 2.16981714656977e-24}, {\"x\": 8494042.747474747, \"y\": 1.3115420972844845e-24}, {\"x\": 8593970.97979798, \"y\": 7.9275927728228445e-25}, {\"x\": 8693899.212121213, \"y\": 4.791819286764457e-25}, {\"x\": 8793827.444444444, \"y\": 2.8964066060159215e-25}, {\"x\": 8893755.676767677, \"y\": 1.7507277977999674e-25}, {\"x\": 8993683.90909091, \"y\": 1.0582242892359551e-25}, {\"x\": 9093612.141414141, \"y\": 6.396417808274885e-26}, {\"x\": 9193540.373737374, \"y\": 3.866303315297724e-26}, {\"x\": 9293468.606060605, \"y\": 2.336980130745077e-26}, {\"x\": 9393396.838383839, \"y\": 1.4125834643877753e-26}, {\"x\": 9493325.070707072, \"y\": 8.53833551090403e-27}, {\"x\": 9593253.303030303, \"y\": 5.160981643542147e-27}, {\"x\": 9693181.535353536, \"y\": 3.1195461329627046e-27}, {\"x\": 9793109.767676767, \"y\": 1.885604086164433e-27}, {\"x\": 9893038.0, \"y\": 1.1397500207452335e-27}], \"data-8c3e7040132a1429c7d49c771cddef4b\": [{\"value\": 0.7}, {\"value\": 1.36}, {\"value\": 0.28}, {\"value\": 0.97}, {\"value\": 0.99}, {\"value\": 1.1}, {\"value\": 0.77}, {\"value\": 0.93}, {\"value\": 1.2}, {\"value\": 0.56}, {\"value\": 0.92}, {\"value\": 0.43}, {\"value\": 1.12}, {\"value\": 1.81}, {\"value\": 0.6}, {\"value\": 1.43}, {\"value\": 1.13}, {\"value\": 0.72}, {\"value\": 0.98}, {\"value\": 0.71}, {\"value\": 1.05}, {\"value\": 0.71}, {\"value\": 1.02}, {\"value\": 0.37}, {\"value\": 1.11}, {\"value\": 0.98}, {\"value\": 1.21}, {\"value\": 0.93}, {\"value\": 1.02}, {\"value\": 0.9}, {\"value\": 1.03}, {\"value\": 0.81}, {\"value\": 1.41}, {\"value\": 0.78}, {\"value\": 1.03}, {\"value\": 0.96}, {\"value\": 0.68}, {\"value\": 0.98}, {\"value\": 1.26}, {\"value\": 1.4}, {\"value\": 1.23}, {\"value\": 1.17}, {\"value\": 1.49}, {\"value\": 1.55}, {\"value\": 1.32}, {\"value\": 1.07}, {\"value\": 0.61}, {\"value\": 0.4}, {\"value\": 0.83}, {\"value\": 2.0}, {\"value\": 1.14}, {\"value\": 0.75}, {\"value\": 0.82}, {\"value\": 1.45}, {\"value\": 1.39}, {\"value\": 0.92}, {\"value\": 1.18}, {\"value\": 0.76}, {\"value\": 1.39}, {\"value\": 0.92}, {\"value\": 1.54}, {\"value\": 1.12}, {\"value\": 0.79}, {\"value\": 0.9}, {\"value\": 0.9}, {\"value\": 0.81}, {\"value\": 0.98}, {\"value\": 1.18}, {\"value\": 1.69}, {\"value\": 0.97}, {\"value\": 0.63}, {\"value\": 0.4}, {\"value\": 0.61}, {\"value\": 1.57}, {\"value\": 1.61}, {\"value\": 1.11}, {\"value\": 1.06}, {\"value\": 1.1}, {\"value\": 0.42}, {\"value\": 0.95}, {\"value\": 0.35}, {\"value\": 0.56}, {\"value\": 0.93}, {\"value\": 1.16}, {\"value\": 0.74}, {\"value\": 0.7}, {\"value\": 0.8}, {\"value\": 0.11}, {\"value\": 1.16}, {\"value\": 1.19}, {\"value\": 1.11}, {\"value\": 1.15}, {\"value\": 0.45}, {\"value\": 1.63}, {\"value\": 1.12}, {\"value\": 1.36}, {\"value\": 1.44}, {\"value\": 1.13}, {\"value\": 1.12}, {\"value\": 0.73}, {\"value\": 0.8}, {\"value\": 0.72}, {\"value\": 1.16}, {\"value\": 0.99}, {\"value\": 0.65}, {\"value\": 0.54}, {\"value\": 0.91}, {\"value\": 1.68}, {\"value\": 1.4}, {\"value\": 0.91}, {\"value\": 0.88}, {\"value\": 0.46}, {\"value\": 0.58}, {\"value\": 1.78}, {\"value\": 0.45}, {\"value\": 0.79}, {\"value\": 0.74}, {\"value\": 1.36}, {\"value\": 1.04}, {\"value\": 0.99}, {\"value\": 0.86}, {\"value\": 1.07}, {\"value\": 1.54}, {\"value\": 0.4}, {\"value\": 1.16}, {\"value\": 0.59}, {\"value\": 1.17}, {\"value\": 1.3}, {\"value\": 0.91}, {\"value\": 0.24}, {\"value\": 1.14}, {\"value\": 1.16}, {\"value\": 1.08}, {\"value\": 1.25}, {\"value\": 1.32}, {\"value\": 1.32}, {\"value\": 1.41}, {\"value\": 0.92}, {\"value\": 1.22}, {\"value\": 1.26}, {\"value\": 0.88}, {\"value\": 0.95}, {\"value\": 1.29}, {\"value\": 1.42}, {\"value\": 1.45}, {\"value\": 0.83}, {\"value\": 0.71}, {\"value\": 0.87}, {\"value\": 0.71}, {\"value\": 1.1}, {\"value\": 0.71}, {\"value\": 0.54}, {\"value\": 0.73}, {\"value\": 1.42}, {\"value\": 0.29}, {\"value\": 0.94}, {\"value\": 0.83}, {\"value\": 0.49}, {\"value\": 1.46}, {\"value\": 0.71}, {\"value\": 1.5}, {\"value\": 1.03}, {\"value\": 1.31}, {\"value\": 0.0}, {\"value\": 0.8}, {\"value\": 0.92}, {\"value\": 1.4}, {\"value\": 1.34}], \"data-40cbdaf7bcdf811a1296f71ccfd8ae2d\": [{\"x\": 0.0, \"y\": 0.02239969360260113}, {\"x\": 0.020202020202020204, \"y\": 0.026226980610945555}, {\"x\": 0.04040404040404041, \"y\": 0.030608797269651877}, {\"x\": 0.06060606060606061, \"y\": 0.03560704939751119}, {\"x\": 0.08080808080808081, \"y\": 0.041287393035237784}, {\"x\": 0.10101010101010102, \"y\": 0.047718929066219745}, {\"x\": 0.12121212121212122, \"y\": 0.054973788555904665}, {\"x\": 0.14141414141414144, \"y\": 0.06312660007029727}, {\"x\": 0.16161616161616163, \"y\": 0.07225383173187608}, {\"x\": 0.18181818181818182, \"y\": 0.08243300270303248}, {\"x\": 0.20202020202020204, \"y\": 0.09374176115920999}, {\"x\": 0.22222222222222224, \"y\": 0.10625682861831941}, {\"x\": 0.24242424242424243, \"y\": 0.12005281370562962}, {\"x\": 0.26262626262626265, \"y\": 0.13520090201253665}, {\"x\": 0.2828282828282829, \"y\": 0.1517674325932582}, {\"x\": 0.30303030303030304, \"y\": 0.16981237575668542}, {\"x\": 0.32323232323232326, \"y\": 0.18938773105412118}, {\"x\": 0.3434343434343435, \"y\": 0.21053586862318174}, {\"x\": 0.36363636363636365, \"y\": 0.23328784119451834}, {\"x\": 0.38383838383838387, \"y\": 0.2576616979601051}, {\"x\": 0.4040404040404041, \"y\": 0.28366083499048134}, {\"x\": 0.42424242424242425, \"y\": 0.3112724198209172}, {\"x\": 0.4444444444444445, \"y\": 0.3404659300523478}, {\"x\": 0.4646464646464647, \"y\": 0.371191847189189}, {\"x\": 0.48484848484848486, \"y\": 0.4033805473337834}, {\"x\": 0.5050505050505051, \"y\": 0.4369414296674159}, {\"x\": 0.5252525252525253, \"y\": 0.47176232178783056}, {\"x\": 0.5454545454545455, \"y\": 0.5077091978920915}, {\"x\": 0.5656565656565657, \"y\": 0.5446262414769679}, {\"x\": 0.5858585858585859, \"y\": 0.5823362787027186}, {\"x\": 0.6060606060606061, \"y\": 0.620641601898761}, {\"x\": 0.6262626262626263, \"y\": 0.6593251949935796}, {\"x\": 0.6464646464646465, \"y\": 0.6981523640815805}, {\"x\": 0.6666666666666667, \"y\": 0.73687276709211}, {\"x\": 0.686868686868687, \"y\": 0.7752228268323428}, {\"x\": 0.7070707070707072, \"y\": 0.8129285017980167}, {\"x\": 0.7272727272727273, \"y\": 0.8497083793683258}, {\"x\": 0.7474747474747475, \"y\": 0.8852770466212535}, {\"x\": 0.7676767676767677, \"y\": 0.9193486853241774}, {\"x\": 0.787878787878788, \"y\": 0.9516408299650867}, {\"x\": 0.8080808080808082, \"y\": 0.9818782212671298}, {\"x\": 0.8282828282828284, \"y\": 1.0097966827189895}, {\"x\": 0.8484848484848485, \"y\": 1.0351469444617654}, {\"x\": 0.8686868686868687, \"y\": 1.057698337557088}, {\"x\": 0.888888888888889, \"y\": 1.0772422823225163}, {\"x\": 0.9090909090909092, \"y\": 1.0935954970987898}, {\"x\": 0.9292929292929294, \"y\": 1.1066028584842384}, {\"x\": 0.9494949494949496, \"y\": 1.1161398506440428}, {\"x\": 0.9696969696969697, \"y\": 1.1221145496215006}, {\"x\": 0.98989898989899, \"y\": 1.1244690984307735}, {\"x\": 1.0101010101010102, \"y\": 1.123180639828457}, {\"x\": 1.0303030303030305, \"y\": 1.1182616857332601}, {\"x\": 1.0505050505050506, \"y\": 1.109759914943995}, {\"x\": 1.0707070707070707, \"y\": 1.0977574037293938}, {\"x\": 1.090909090909091, \"y\": 1.0823693066537716}, {\"x\": 1.1111111111111112, \"y\": 1.0637420172897645}, {\"x\": 1.1313131313131315, \"y\": 1.042050849900622}, {\"x\": 1.1515151515151516, \"y\": 1.0174972934273092}, {\"x\": 1.1717171717171717, \"y\": 0.9903058979087448}, {\"x\": 1.191919191919192, \"y\": 0.9607208605662986}, {\"x\": 1.2121212121212122, \"y\": 0.9290023840236147}, {\"x\": 1.2323232323232325, \"y\": 0.8954228824002881}, {\"x\": 1.2525252525252526, \"y\": 0.8602631122687361}, {\"x\": 1.272727272727273, \"y\": 0.8238083047188458}, {\"x\": 1.292929292929293, \"y\": 0.7863443721186176}, {\"x\": 1.3131313131313131, \"y\": 0.7481542587326997}, {\"x\": 1.3333333333333335, \"y\": 0.7095144983571796}, {\"x\": 1.3535353535353536, \"y\": 0.6706920347831535}, {\"x\": 1.373737373737374, \"y\": 0.6319413524808701}, {\"x\": 1.393939393939394, \"y\": 0.5935019556897976}, {\"x\": 1.4141414141414144, \"y\": 0.5555962244075439}, {\"x\": 1.4343434343434345, \"y\": 0.5184276658919659}, {\"x\": 1.4545454545454546, \"y\": 0.48217957051503646}, {\"x\": 1.474747474747475, \"y\": 0.4470140714034784}, {\"x\": 1.494949494949495, \"y\": 0.4130715985110377}, {\"x\": 1.5151515151515154, \"y\": 0.38047070979737074}, {\"x\": 1.5353535353535355, \"y\": 0.3493082752063029}, {\"x\": 1.5555555555555556, \"y\": 0.3196599832666562}, {\"x\": 1.575757575757576, \"y\": 0.29158113546340986}, {\"x\": 1.595959595959596, \"y\": 0.2651076900837517}, {\"x\": 1.6161616161616164, \"y\": 0.24025751502871104}, {\"x\": 1.6363636363636365, \"y\": 0.21703180805580108}, {\"x\": 1.6565656565656568, \"y\": 0.19541664300747358}, {\"x\": 1.676767676767677, \"y\": 0.17538460168244951}, {\"x\": 1.696969696969697, \"y\": 0.1568964529983283}, {\"x\": 1.7171717171717173, \"y\": 0.13990284383488494}, {\"x\": 1.7373737373737375, \"y\": 0.12434596928906479}, {\"x\": 1.7575757575757578, \"y\": 0.11016119386231976}, {\"x\": 1.777777777777778, \"y\": 0.09727859918790042}, {\"x\": 1.7979797979797982, \"y\": 0.08562443814608675}, {\"x\": 1.8181818181818183, \"y\": 0.07512247947609527}, {\"x\": 1.8383838383838385, \"y\": 0.0656952311556005}, {\"x\": 1.8585858585858588, \"y\": 0.05726503478009804}, {\"x\": 1.878787878787879, \"y\": 0.049755026850345455}, {\"x\": 1.8989898989898992, \"y\": 0.043089966201219895}, {\"x\": 1.9191919191919193, \"y\": 0.03719692973254114}, {\"x\": 1.9393939393939394, \"y\": 0.0320058811025986}, {\"x\": 1.9595959595959598, \"y\": 0.0274501191058052}, {\"x\": 1.97979797979798, \"y\": 0.023466614079403345}, {\"x\": 2.0, \"y\": 0.019996241885648934}], \"data-5fcad1d8e24e626e805343866ab85d94\": [{\"value\": 0.28}, {\"value\": 1.2}, {\"value\": 1.72}, {\"value\": 0.21}, {\"value\": 2.76}, {\"value\": 3.96}, {\"value\": 4.4}, {\"value\": 3.68}, {\"value\": 5.17}, {\"value\": 3.45}, {\"value\": 1.94}, {\"value\": 0.93}, {\"value\": 0.58}, {\"value\": 2.48}, {\"value\": 5.19}, {\"value\": 3.07}, {\"value\": 1.12}, {\"value\": 0.08}, {\"value\": 0.42}, {\"value\": 1.59}, {\"value\": 2.16}, {\"value\": 0.37}, {\"value\": 2.15}, {\"value\": 1.61}, {\"value\": 4.03}, {\"value\": 0.08}, {\"value\": 0.1}, {\"value\": 0.23}, {\"value\": 0.77}, {\"value\": 0.17}, {\"value\": 0.09}, {\"value\": 2.61}, {\"value\": 0.06}, {\"value\": 0.04}, {\"value\": 2.59}, {\"value\": 1.98}, {\"value\": 2.18}, {\"value\": 2.89}, {\"value\": 3.0}, {\"value\": 8.42}, {\"value\": 1.95}, {\"value\": 4.12}, {\"value\": 0.07}, {\"value\": 4.01}, {\"value\": 0.22}, {\"value\": 1.56}, {\"value\": 2.04}, {\"value\": 0.45}, {\"value\": 1.57}, {\"value\": 0.06}, {\"value\": 4.48}, {\"value\": 0.08}, {\"value\": 0.84}, {\"value\": 3.81}, {\"value\": 3.27}, {\"value\": 0.68}, {\"value\": 0.1}, {\"value\": 7.12}, {\"value\": 4.25}, {\"value\": 0.14}, {\"value\": 5.48}, {\"value\": 1.41}, {\"value\": 0.35}, {\"value\": 0.08}, {\"value\": 0.8}, {\"value\": 0.23}, {\"value\": 0.31}, {\"value\": 3.41}, {\"value\": 4.08}, {\"value\": 0.86}, {\"value\": 0.43}, {\"value\": 1.58}, {\"value\": 0.71}, {\"value\": 4.62}, {\"value\": 3.98}, {\"value\": 1.31}, {\"value\": 2.41}, {\"value\": 2.32}, {\"value\": 3.25}, {\"value\": 0.16}, {\"value\": 2.58}, {\"value\": 1.88}, {\"value\": 0.37}, {\"value\": 3.19}, {\"value\": 2.1}, {\"value\": 0.07}, {\"value\": 0.04}, {\"value\": 2.09}, {\"value\": 6.35}, {\"value\": 3.01}, {\"value\": 0.18}, {\"value\": 0.04}, {\"value\": 1.51}, {\"value\": 4.56}, {\"value\": 0.13}, {\"value\": 2.86}, {\"value\": 0.42}, {\"value\": 0.19}, {\"value\": 2.53}, {\"value\": 2.38}, {\"value\": 3.21}, {\"value\": 2.86}, {\"value\": 2.76}, {\"value\": 0.73}, {\"value\": 0.08}, {\"value\": 0.68}, {\"value\": 0.75}, {\"value\": 3.61}, {\"value\": 3.59}, {\"value\": 0.98}, {\"value\": 0.04}, {\"value\": 0.38}, {\"value\": 3.67}, {\"value\": 2.92}, {\"value\": 2.0}, {\"value\": 0.98}, {\"value\": 1.57}, {\"value\": 0.07}, {\"value\": 1.35}, {\"value\": 1.27}, {\"value\": 0.6}, {\"value\": 2.38}, {\"value\": 5.12}, {\"value\": 2.49}, {\"value\": 2.98}, {\"value\": 4.01}, {\"value\": 0.13}, {\"value\": 0.64}, {\"value\": 0.34}, {\"value\": 2.61}, {\"value\": 0.07}, {\"value\": 3.11}, {\"value\": 0.03}, {\"value\": 2.29}, {\"value\": 3.42}, {\"value\": 3.09}, {\"value\": 0.02}, {\"value\": 0.91}, {\"value\": 2.36}, {\"value\": 3.87}, {\"value\": 1.0}, {\"value\": 0.26}, {\"value\": 1.21}, {\"value\": 3.98}, {\"value\": 4.3}, {\"value\": 1.22}, {\"value\": 1.7}, {\"value\": 0.01}, {\"value\": 0.81}, {\"value\": 0.72}, {\"value\": 0.08}, {\"value\": 4.17}, {\"value\": 1.3}, {\"value\": 1.85}, {\"value\": 2.22}, {\"value\": 0.17}, {\"value\": 2.99}, {\"value\": 2.53}, {\"value\": 2.81}, {\"value\": 2.61}, {\"value\": 5.05}, {\"value\": 2.37}, {\"value\": 0.17}, {\"value\": 1.92}, {\"value\": 0.82}, {\"value\": 0.31}, {\"value\": 1.19}, {\"value\": 0.21}], \"data-bfee7fc11006053aff3f47833fd7d3d6\": [{\"x\": 0.01, \"y\": 0.5331471549617594}, {\"x\": 0.09494949494949495, \"y\": 0.5095392533708049}, {\"x\": 0.17989898989898992, \"y\": 0.48697671610814386}, {\"x\": 0.2648484848484849, \"y\": 0.46541325415589574}, {\"x\": 0.34979797979797983, \"y\": 0.44480462818653016}, {\"x\": 0.43474747474747477, \"y\": 0.42510855780201895}, {\"x\": 0.5196969696969698, \"y\": 0.40628463479190274}, {\"x\": 0.6046464646464647, \"y\": 0.38829424023231424}, {\"x\": 0.6895959595959597, \"y\": 0.3711004652558795}, {\"x\": 0.7745454545454546, \"y\": 0.3546680353299491}, {\"x\": 0.8594949494949495, \"y\": 0.3389632378878111}, {\"x\": 0.9444444444444445, \"y\": 0.32395385316441194}, {\"x\": 1.0293939393939395, \"y\": 0.3096090880946921}, {\"x\": 1.1143434343434344, \"y\": 0.29589951313892043}, {\"x\": 1.1992929292929293, \"y\": 0.2827970019054205}, {\"x\": 1.2842424242424244, \"y\": 0.2702746734468188}, {\"x\": 1.3691919191919193, \"y\": 0.2583068371114313}, {\"x\": 1.4541414141414142, \"y\": 0.24686893983664462}, {\"x\": 1.5390909090909093, \"y\": 0.23593751577616212}, {\"x\": 1.6240404040404042, \"y\": 0.22549013815776814}, {\"x\": 1.708989898989899, \"y\": 0.2155053732728441}, {\"x\": 1.7939393939393942, \"y\": 0.2059627365032413}, {\"x\": 1.878888888888889, \"y\": 0.19684265029529563}, {\"x\": 1.963838383838384, \"y\": 0.18812640399476477}, {\"x\": 2.048787878787879, \"y\": 0.17979611546028476}, {\"x\": 2.1337373737373735, \"y\": 0.17183469437659404}, {\"x\": 2.2186868686868686, \"y\": 0.1642258071922568}, {\"x\": 2.3036363636363637, \"y\": 0.15695384360995476}, {\"x\": 2.3885858585858584, \"y\": 0.1500038845605969}, {\"x\": 2.4735353535353535, \"y\": 0.14336167159554514}, {\"x\": 2.5584848484848486, \"y\": 0.13701357763416003}, {\"x\": 2.6434343434343432, \"y\": 0.13094657900665382}, {\"x\": 2.7283838383838384, \"y\": 0.12514822873489265}, {\"x\": 2.8133333333333335, \"y\": 0.11960663099633294}, {\"x\": 2.898282828282828, \"y\": 0.11431041671870155}, {\"x\": 2.9832323232323232, \"y\": 0.10924872025534955}, {\"x\": 3.0681818181818183, \"y\": 0.10441115709342853}, {\"x\": 3.153131313131313, \"y\": 0.09978780254915426}, {\"x\": 3.238080808080808, \"y\": 0.09536917140645033}, {\"x\": 3.3230303030303032, \"y\": 0.09114619845719799}, {\"x\": 3.407979797979798, \"y\": 0.0871102199031692}, {\"x\": 3.492929292929293, \"y\": 0.08325295558148689}, {\"x\": 3.577878787878788, \"y\": 0.07956649197714705}, {\"x\": 3.6628282828282828, \"y\": 0.07604326598775078}, {\"x\": 3.747777777777778, \"y\": 0.07267604940713832}, {\"x\": 3.832727272727273, \"y\": 0.06945793409609227}, {\"x\": 3.9176767676767676, \"y\": 0.06638231780968605}, {\"x\": 4.002626262626263, \"y\": 0.06344289065220088}, {\"x\": 4.087575757575758, \"y\": 0.060633622131823474}, {\"x\": 4.1725252525252525, \"y\": 0.05794874878856446}, {\"x\": 4.257474747474747, \"y\": 0.055382762370016506}, {\"x\": 4.342424242424243, \"y\": 0.05293039853069271}, {\"x\": 4.427373737373737, \"y\": 0.05058662603176186}, {\"x\": 4.512323232323232, \"y\": 0.04834663641902183}, {\"x\": 4.597272727272728, \"y\": 0.046205834157935395}, {\"x\": 4.682222222222222, \"y\": 0.04415982720548952}, {\"x\": 4.767171717171717, \"y\": 0.04220441799953487}, {\"x\": 4.8521212121212125, \"y\": 0.040335594847120244}, {\"x\": 4.937070707070707, \"y\": 0.03854952369415362}, {\"x\": 5.022020202020202, \"y\": 0.03684254025950503}, {\"x\": 5.106969696969697, \"y\": 0.03521114251741342}, {\"x\": 5.191919191919192, \"y\": 0.033651983512774666}, {\"x\": 5.276868686868687, \"y\": 0.03216186449457041}, {\"x\": 5.361818181818182, \"y\": 0.03073772835335083}, {\"x\": 5.446767676767677, \"y\": 0.02937665334930727}, {\"x\": 5.531717171717172, \"y\": 0.028075847118067463}, {\"x\": 5.616666666666667, \"y\": 0.02683264094191603}, {\"x\": 5.701616161616162, \"y\": 0.02564448427468669}, {\"x\": 5.7865656565656565, \"y\": 0.024508939509093778}, {\"x\": 5.871515151515152, \"y\": 0.02342367697576778}, {\"x\": 5.956464646464647, \"y\": 0.022386470163735003}, {\"x\": 6.041414141414141, \"y\": 0.021395191152535558}, {\"x\": 6.126363636363637, \"y\": 0.0204478062466085}, {\"x\": 6.211313131313132, \"y\": 0.01954237180298766}, {\"x\": 6.296262626262626, \"y\": 0.018677030243748036}, {\"x\": 6.381212121212122, \"y\": 0.017850006245022376}, {\"x\": 6.466161616161616, \"y\": 0.017059603094768977}, {\"x\": 6.551111111111111, \"y\": 0.01630419921181862}, {\"x\": 6.636060606060607, \"y\": 0.015582244819059}, {\"x\": 6.721010101010101, \"y\": 0.014892258763931524}, {\"x\": 6.805959595959596, \"y\": 0.01423282547971726}, {\"x\": 6.8909090909090915, \"y\": 0.013602592081378113}, {\"x\": 6.975858585858586, \"y\": 0.013000265589994882}, {\"x\": 7.060808080808081, \"y\": 0.012424610280107906}, {\"x\": 7.145757575757576, \"y\": 0.011874445144518296}, {\"x\": 7.230707070707071, \"y\": 0.011348641471348396}, {\"x\": 7.315656565656566, \"y\": 0.010846120528390664}, {\"x\": 7.400606060606061, \"y\": 0.01036585134999423}, {\"x\": 7.485555555555556, \"y\": 0.009906848621948764}, {\"x\": 7.570505050505051, \"y\": 0.009468170660026183}, {\"x\": 7.655454545454546, \"y\": 0.009048917478033122}, {\"x\": 7.740404040404041, \"y\": 0.008648228941410627}, {\"x\": 7.8253535353535355, \"y\": 0.008265283002592841}, {\"x\": 7.910303030303031, \"y\": 0.007899294014504553}, {\"x\": 7.995252525252526, \"y\": 0.0075495111187375945}, {\"x\": 8.080202020202021, \"y\": 0.007215216705099098}, {\"x\": 8.165151515151516, \"y\": 0.006895724939371477}, {\"x\": 8.25010101010101, \"y\": 0.006590380356263556}, {\"x\": 8.335050505050505, \"y\": 0.006298556514666223}, {\"x\": 8.42, \"y\": 0.006019654712453722}]}}, {\"mode\": \"vega-lite\"});\n",
       "</script>"
      ],
      "text/plain": [
       "alt.VConcatChart(...)"
      ]
     },
     "metadata": {},
     "output_type": "display_data"
    }
   ],
   "source": [
    "# same graphs with altair\n",
    "import pandas as pd\n",
    "import numpy as np\n",
    "import altair as alt\n",
    "from scipy.stats import norm, expon, loggamma\n",
    "\n",
    "\n",
    "# Helper function to calculate fitted distribution\n",
    "def get_distribution_data(data, distribution_type):\n",
    "    xmin, xmax = data.min(), data.max()\n",
    "    x = np.linspace(xmin, xmax, 100)\n",
    "    \n",
    "    if distribution_type == 'norm':\n",
    "        mu, std = norm.fit(data)\n",
    "        y = norm.pdf(x, mu, std)\n",
    "    elif distribution_type == 'expon':\n",
    "        loc, scale = expon.fit(data)\n",
    "        y = expon.pdf(x, loc, scale)\n",
    "    elif distribution_type == 'loggamma':\n",
    "        shape, loc, scale = loggamma.fit(data)\n",
    "        y = loggamma.pdf(x, shape, loc, scale)\n",
    "    else:\n",
    "        raise ValueError(\"Unsupported distribution type!\")\n",
    "    \n",
    "    return pd.DataFrame({'x': x, 'y': y})\n",
    "\n",
    "# Histogram 1: Life Expectancy\n",
    "life_expectancy = data['Life expectancy'].dropna()\n",
    "life_expectancy_fit = get_distribution_data(life_expectancy, 'loggamma')\n",
    "\n",
    "hist_life_expectancy = alt.Chart(pd.DataFrame({'value': life_expectancy})).mark_bar(opacity=0.5).encode(\n",
    "    alt.X('value:Q', bin=alt.Bin(maxbins=10), title='Age'),\n",
    "    alt.Y('count()', title='Count')\n",
    ").properties(\n",
    "    title='Life Expectancy Histogram'\n",
    ")\n",
    "\n",
    "fit_life_expectancy = alt.Chart(life_expectancy_fit).mark_line(color='orange').encode(\n",
    "    x='x:Q',\n",
    "    y='y:Q'\n",
    ")\n",
    "\n",
    "chart1 = hist_life_expectancy + fit_life_expectancy\n",
    "\n",
    "# Histogram 2: CO2 Emissions per Million People\n",
    "co2_emissions = data['Co2-Emissions'].dropna()\n",
    "co2_emissions_fit = get_distribution_data(co2_emissions, 'expon')\n",
    "\n",
    "hist_co2_emissions = alt.Chart(pd.DataFrame({'value': co2_emissions})).mark_bar(opacity=0.5).encode(\n",
    "    alt.X('value:Q', bin=alt.Bin(maxbins=10), title='CO2 Emissions'),\n",
    "    alt.Y('count()', title='Count')\n",
    ").properties(\n",
    "    title='CO2 Emissions Histogram'\n",
    ")\n",
    "\n",
    "fit_co2_emissions = alt.Chart(co2_emissions_fit).mark_line(color='orange').encode(\n",
    "    x='x:Q',\n",
    "    y='y:Q'\n",
    ")\n",
    "\n",
    "chart2 = hist_co2_emissions + fit_co2_emissions\n",
    "\n",
    "# Histogram 3: Gasoline Price\n",
    "gasoline_price = data['Gasoline Price'].dropna()\n",
    "gasoline_price_fit = get_distribution_data(gasoline_price, 'norm')\n",
    "\n",
    "hist_gasoline_price = alt.Chart(pd.DataFrame({'value': gasoline_price})).mark_bar(opacity=0.5).encode(\n",
    "    alt.X('value:Q', bin=alt.Bin(maxbins=10), title='Gasoline Price (USD)'),\n",
    "    alt.Y('count()', title='Count')\n",
    ").properties(\n",
    "    title='Gasoline Price Histogram'\n",
    ")\n",
    "\n",
    "fit_gasoline_price = alt.Chart(gasoline_price_fit).mark_line(color='orange').encode(\n",
    "    x='x:Q',\n",
    "    y='y:Q'\n",
    ")\n",
    "\n",
    "chart3 = hist_gasoline_price + fit_gasoline_price\n",
    "\n",
    "# Histogram 4: Physicians per Thousand\n",
    "physicians_per_thousand = data['Physicians per thousand'].dropna()\n",
    "physicians_per_thousand_fit = get_distribution_data(physicians_per_thousand, 'expon')\n",
    "\n",
    "hist_physicians = alt.Chart(pd.DataFrame({'value': physicians_per_thousand})).mark_bar(opacity=0.5).encode(\n",
    "    alt.X('value:Q', bin=alt.Bin(maxbins=10), title='Physicians per Thousand'),\n",
    "    alt.Y('count()', title='Count')\n",
    ").properties(\n",
    "    title='Physicians per Thousand Histogram'\n",
    ")\n",
    "\n",
    "fit_physicians = alt.Chart(physicians_per_thousand_fit).mark_line(color='orange').encode(\n",
    "    x='x:Q',\n",
    "    y='y:Q'\n",
    ")\n",
    "\n",
    "chart4 = hist_physicians + fit_physicians\n",
    "\n",
    "# Combine charts in a 2x2 grid\n",
    "final_chart = alt.vconcat(\n",
    "    alt.hconcat(chart1, chart2),\n",
    "    alt.hconcat(chart3, chart4)\n",
    ").resolve_scale(\n",
    "    color='independent'\n",
    ").properties(\n",
    "    title=\"Histograms with Fitted Distributions (Altair)\"\n",
    ")\n",
    "\n",
    "final_chart.show()\n"
   ]
  },
  {
   "cell_type": "code",
   "execution_count": 19,
   "id": "c76b9c62",
   "metadata": {
    "execution": {
     "iopub.execute_input": "2024-03-15T17:34:57.305927Z",
     "iopub.status.busy": "2024-03-15T17:34:57.305586Z",
     "iopub.status.idle": "2024-03-15T17:34:59.768571Z",
     "shell.execute_reply": "2024-03-15T17:34:59.767579Z"
    },
    "papermill": {
     "duration": 2.470701,
     "end_time": "2024-03-15T17:34:59.770752",
     "exception": false,
     "start_time": "2024-03-15T17:34:57.300051",
     "status": "completed"
    },
    "tags": []
   },
   "outputs": [
    {
     "data": {
      "application/vnd.plotly.v1+json": {
       "config": {
        "plotlyServerURL": "https://plot.ly"
       },
       "data": [
        {
         "hovertemplate": "<b>%{hovertext}</b><br><br>Region=Asia<br>GDP per capita=%{x}<br>Life expectancy=%{y}<br>Population=%{marker.size}<extra></extra>",
         "hovertext": [
          "Afghanistan",
          "Armenia",
          "Azerbaijan",
          "Bahrain",
          "Bangladesh",
          "Bhutan",
          "Brunei",
          "Cambodia",
          "China",
          "Cyprus",
          "Georgia",
          "India",
          "Indonesia",
          "Iran",
          "Iraq",
          "Israel",
          "Japan",
          "Jordan",
          "Kazakhstan",
          "Kuwait",
          "Kyrgyzstan",
          "Laos",
          "Lebanon",
          "Malaysia",
          "Maldives",
          "Mongolia",
          "Myanmar",
          "Nepal",
          "North Korea",
          "Oman",
          "Pakistan",
          "Philippines",
          "Qatar",
          "Saudi Arabia",
          "Singapore",
          "South Korea",
          "Sri Lanka",
          "Syria",
          "Tajikistan",
          "Thailand",
          "East Timor",
          "Turkey",
          "Turkmenistan",
          "United Arab Emirates",
          "Uzbekistan",
          "Vietnam",
          "Yemen"
         ],
         "legendgroup": "Asia",
         "marker": {
          "color": "#636efa",
          "size": [
           38041754,
           2957731,
           10023318,
           1501635,
           167310838,
           727145,
           433285,
           16486542,
           1397715000,
           1198575,
           3720382,
           1366417754,
           270203917,
           82913906,
           39309783,
           9053300,
           126226568,
           10101694,
           18513930,
           4207083,
           6456900,
           7169455,
           6855713,
           32447385,
           530953,
           3225167,
           54045420,
           28608710,
           25666161,
           5266535,
           216565318,
           108116615,
           2832067,
           34268528,
           5703569,
           51709098,
           21803000,
           17070135,
           9321018,
           69625582,
           3500000,
           83429615,
           5942089,
           9770529,
           33580650,
           96462106,
           29161922
          ],
          "sizemode": "area",
          "sizeref": 388254.1666666667,
          "symbol": "circle"
         },
         "mode": "markers",
         "name": "Asia",
         "orientation": "v",
         "showlegend": true,
         "type": "scatter",
         "x": [
          502.11548691997746,
          4622.733493343377,
          3911.5789801341234,
          25688.046129052665,
          1808.4378618138294,
          3364.767826224481,
          31086.751078389512,
          1643.121388766668,
          14244.677920749224,
          20494.87761299877,
          4769.18654320981,
          1910.8358277376421,
          4142.022784788127,
          5371.177207873912,
          5955.109010370268,
          43641.39773585323,
          40259.112030836484,
          4330.329345949303,
          9731.14520687936,
          32031.980102603156,
          1309.3929916833156,
          2534.8982772051713,
          7784.316856904599,
          11239.78150436468,
          10790.500236367438,
          4295.235024728952,
          1407.8131434078966,
          1071.0507605550897,
          1250.6739905512165,
          14617.408775978893,
          1405.5805556086316,
          3485.0842183692116,
          64781.73319734314,
          23139.798656131363,
          65233.28243929371,
          39238.74286107253,
          3853.0836928863,
          2366.999792737433,
          870.787589295504,
          7808.192916304814,
          478.15437142857144,
          9042.492982893424,
          6859.732807266939,
          43103.32305835232,
          1724.8411344032947,
          2715.276036405425,
          922.9296417430922
         ],
         "xaxis": "x",
         "y": [
          64.5,
          74.9,
          72.9,
          77.2,
          72.3,
          71.5,
          75.7,
          69.6,
          77,
          80.8,
          73.6,
          69.4,
          71.5,
          76.5,
          70.5,
          82.8,
          84.2,
          74.4,
          73.2,
          75.4,
          71.4,
          67.6,
          78.9,
          76,
          78.6,
          69.7,
          66.9,
          70.5,
          72.1,
          77.6,
          67.1,
          71.1,
          80.1,
          75,
          83.1,
          82.6,
          76.8,
          71.8,
          70.9,
          76.9,
          69.3,
          77.4,
          68.1,
          77.8,
          71.6,
          75.3,
          66.1
         ],
         "yaxis": "y"
        },
        {
         "hovertemplate": "<b>%{hovertext}</b><br><br>Region=Europe<br>GDP per capita=%{x}<br>Life expectancy=%{y}<br>Population=%{marker.size}<extra></extra>",
         "hovertext": [
          "Albania",
          "Austria",
          "Belarus",
          "Belgium",
          "Bosnia and Herzegovina",
          "Bulgaria",
          "Croatia",
          "Czech Republic",
          "Denmark",
          "Estonia",
          "Finland",
          "France",
          "Germany",
          "Greece",
          "Hungary",
          "Iceland",
          "Italy",
          "Latvia",
          "Lithuania",
          "Luxembourg",
          "Malta",
          "Moldova",
          "Montenegro",
          "Netherlands",
          "Norway",
          "Poland",
          "Portugal",
          "Romania",
          "Russia",
          "Serbia",
          "Slovakia",
          "Slovenia",
          "Spain",
          "Sweden",
          "Switzerland",
          "Ukraine",
          "United Kingdom"
         ],
         "legendgroup": "Europe",
         "marker": {
          "color": "#EF553B",
          "size": [
           2854191,
           8877067,
           9466856,
           11484055,
           3301000,
           6975761,
           4067500,
           10669709,
           5818553,
           1331824,
           5520314,
           67059887,
           83132799,
           10716322,
           9769949,
           361313,
           60297396,
           1912789,
           2786844,
           645397,
           502653,
           2657637,
           622137,
           17332850,
           5347896,
           37970874,
           10269417,
           19356544,
           144373535,
           6944975,
           5454073,
           2087946,
           47076781,
           10285453,
           8574832,
           44385155,
           66834405
          ],
          "sizemode": "area",
          "sizeref": 388254.1666666667,
          "symbol": "circle"
         },
         "mode": "markers",
         "name": "Europe",
         "orientation": "v",
         "showlegend": true,
         "type": "scatter",
         "x": [
          5352.857411084262,
          50277.27508736838,
          6663.295292861749,
          46116.699233676605,
          6073.265202968797,
          12328.404026456756,
          14853.239837492318,
          23101.777704996453,
          59822.092960913134,
          23566.890205462583,
          48685.853986747854,
          40493.9285720389,
          46258.8782897109,
          19582.53601086268,
          16475.741838979917,
          66944.82550863102,
          33189.56579886136,
          17836.364886560932,
          19455.45412660343,
          110172.37314087298,
          29416.230606402427,
          4498.520850289186,
          8832.036835938065,
          52447.83143920359,
          75419.6348687409,
          15595.227033436207,
          23145.04081731222,
          12919.529644186483,
          11774.156384485565,
          7402.354558655718,
          19329.0968008679,
          25739.247814359183,
          29613.67113798626,
          51610.06605523354,
          81993.72714940654,
          3464.696002931611,
          42300.26712583137
         ],
         "xaxis": "x",
         "y": [
          78.5,
          81.6,
          74.2,
          81.6,
          77.3,
          74.9,
          78.1,
          79,
          81,
          78.2,
          81.7,
          82.5,
          80.9,
          81.3,
          75.8,
          82.7,
          82.9,
          74.7,
          75.7,
          82.1,
          82.3,
          71.8,
          76.8,
          81.8,
          82.8,
          77.6,
          81.3,
          75.4,
          72.7,
          75.5,
          77.2,
          81,
          83.3,
          82.5,
          83.6,
          71.6,
          81.3
         ],
         "yaxis": "y"
        },
        {
         "hovertemplate": "<b>%{hovertext}</b><br><br>Region=Africa<br>GDP per capita=%{x}<br>Life expectancy=%{y}<br>Population=%{marker.size}<extra></extra>",
         "hovertext": [
          "Algeria",
          "Angola",
          "Benin",
          "Botswana",
          "Burkina Faso",
          "Burundi",
          "Ivory Coast",
          "Cape Verde",
          "Cameroon",
          "Central African Republic",
          "Chad",
          "Democratic Republic of the Congo",
          "Djibouti",
          "Egypt",
          "Eritrea",
          "Ethiopia",
          "Gabon",
          "The Gambia",
          "Ghana",
          "Guinea",
          "Kenya",
          "Lesotho",
          "Liberia",
          "Libya",
          "Madagascar",
          "Malawi",
          "Mali",
          "Mauritania",
          "Mauritius",
          "Morocco",
          "Mozambique",
          "Niger",
          "Nigeria",
          "Rwanda",
          "Senegal",
          "Sierra Leone",
          "Somalia",
          "South Africa",
          "Sudan",
          "Tanzania",
          "Togo",
          "Tunisia",
          "Uganda",
          "Zambia",
          "Zimbabwe"
         ],
         "legendgroup": "Africa",
         "marker": {
          "color": "#00cc96",
          "size": [
           43053054,
           31825295,
           11801151,
           2346179,
           20321378,
           11530580,
           25716544,
           483628,
           25876380,
           4745185,
           15946876,
           86790567,
           973560,
           100388073,
           6333135,
           112078730,
           2172579,
           2347706,
           30792608,
           12771246,
           52573973,
           2125268,
           4937374,
           6777452,
           26969307,
           18628747,
           19658031,
           4525696,
           1265711,
           36910560,
           30366036,
           23310715,
           200963599,
           12626950,
           16296364,
           7813215,
           15442905,
           58558270,
           42813238,
           58005463,
           8082366,
           11694719,
           44269594,
           17861030,
           14645468
          ],
          "sizemode": "area",
          "sizeref": 388254.1666666667,
          "symbol": "circle"
         },
         "mode": "markers",
         "name": "Africa",
         "orientation": "v",
         "showlegend": true,
         "type": "scatter",
         "x": [
          3948.3432789227913,
          2973.591159799147,
          1219.4326718639563,
          7817.1830832174355,
          774.8396902513206,
          261.24747254691437,
          2286.16277684902,
          4097.872209632196,
          1497.90917558793,
          467.90744070041524,
          709.5403101522832,
          545.2162123102618,
          3408.8462539545585,
          3020.0313497202005,
          326.0630992391604,
          857.5013510413618,
          7667.366861228061,
          751.2946885172164,
          2175.3153946557563,
          1064.1312373906196,
          1816.5469164371505,
          1157.5351645063117,
          621.8929536227153,
          7683.750611291677,
          522.219809244635,
          411.5523404231106,
          890.7372854890706,
          1677.9192526409197,
          11203.540584699034,
          3216.5667385160236,
          491.80472307942995,
          554.6009686961554,
          2229.858696245781,
          801.6561869651816,
          1446.8309649931728,
          504.4625433960284,
          305.689070676793,
          6001.400813941395,
          441.5056033837011,
          1089.1572087787663,
          675.5422133815766,
          3317.5410135121674,
          776.7685758762549,
          1291.3433573539712,
          1463.9859101805419
         ],
         "xaxis": "x",
         "y": [
          76.7,
          60.8,
          61.5,
          69.3,
          61.2,
          61.2,
          57.4,
          72.8,
          58.9,
          52.8,
          54,
          60.4,
          66.6,
          71.8,
          65.9,
          66.2,
          66.2,
          61.7,
          63.8,
          61.2,
          66.3,
          53.7,
          63.7,
          72.7,
          66.7,
          63.8,
          58.9,
          64.7,
          74.4,
          76.5,
          60.2,
          62,
          54.3,
          68.7,
          67.7,
          54.3,
          57.1,
          63.9,
          65.1,
          65,
          60.8,
          76.5,
          63,
          63.5,
          61.2
         ],
         "yaxis": "y"
        },
        {
         "hovertemplate": "<b>%{hovertext}</b><br><br>Region=Americas<br>GDP per capita=%{x}<br>Life expectancy=%{y}<br>Population=%{marker.size}<extra></extra>",
         "hovertext": [
          "Antigua and Barbuda",
          "Argentina",
          "The Bahamas",
          "Barbados",
          "Belize",
          "Bolivia",
          "Brazil",
          "Canada",
          "Chile",
          "Colombia",
          "Costa Rica",
          "Cuba",
          "Dominican Republic",
          "Ecuador",
          "El Salvador",
          "Grenada",
          "Guatemala",
          "Guyana",
          "Haiti",
          "Honduras",
          "Jamaica",
          "Mexico",
          "Nicaragua",
          "Panama",
          "Paraguay",
          "Peru",
          "Saint Lucia",
          "Suriname",
          "Trinidad and Tobago",
          "United States",
          "Uruguay",
          "Venezuela"
         ],
         "legendgroup": "Americas",
         "marker": {
          "color": "#ab63fa",
          "size": [
           97118,
           44938712,
           389482,
           287025,
           390353,
           11513100,
           212559417,
           36991981,
           18952038,
           50339443,
           5047561,
           11333483,
           10738958,
           17373662,
           6453553,
           112003,
           16604026,
           782766,
           11263077,
           9746117,
           2948279,
           126014024,
           6545502,
           4246439,
           7044636,
           32510453,
           182790,
           581372,
           1394973,
           328239523,
           3461734,
           28515829
          ],
          "sizemode": "area",
          "sizeref": 388254.1666666667,
          "symbol": "circle"
         },
         "mode": "markers",
         "name": "Americas",
         "orientation": "v",
         "showlegend": true,
         "type": "scatter",
         "x": [
          17790.309304145474,
          10006.148973606541,
          32933.48601475806,
          18148.24492640014,
          4815.163710795101,
          3552.068762105775,
          8655.264804221777,
          46940.59584210967,
          14896.453866597354,
          6432.387583390623,
          12238.374964463035,
          8825.442275777004,
          8282.11622189043,
          6183.823824821733,
          4187.250031106896,
          10965.51315589761,
          4619.987097105244,
          5468.356628928696,
          754.5879177599514,
          2574.912190670397,
          5582.263777613991,
          9985.29113811174,
          1912.903745350624,
          15731.01603484708,
          5414.799137954041,
          6977.695783568442,
          11611.415449422835,
          6854.906560687477,
          17276.465447001483,
          65280.6822413034,
          16190.126957183886,
          16915.49345340793
         ],
         "xaxis": "x",
         "y": [
          76.9,
          76.5,
          73.8,
          79.1,
          74.5,
          71.2,
          75.7,
          81.9,
          80,
          77.1,
          80.1,
          78.7,
          73.9,
          76.8,
          73.1,
          72.4,
          74.1,
          69.8,
          63.7,
          75.1,
          74.4,
          75,
          74.3,
          78.3,
          74.1,
          76.5,
          76.1,
          71.6,
          73.4,
          78.5,
          77.8,
          72.1
         ],
         "yaxis": "y"
        },
        {
         "hovertemplate": "<b>%{hovertext}</b><br><br>Region=Oceania<br>GDP per capita=%{x}<br>Life expectancy=%{y}<br>Population=%{marker.size}<extra></extra>",
         "hovertext": [
          "Australia",
          "Fiji",
          "Marshall Islands",
          "New Zealand",
          "Papua New Guinea",
          "Samoa",
          "Vanuatu"
         ],
         "legendgroup": "Oceania",
         "marker": {
          "color": "#FFA15A",
          "size": [
           25766605,
           889953,
           58791,
           4841000,
           8776109,
           202506,
           299882
          ],
          "sizemode": "area",
          "sizeref": 388254.1666666667,
          "symbol": "circle"
         },
         "mode": "markers",
         "name": "Oceania",
         "orientation": "v",
         "showlegend": true,
         "type": "scatter",
         "x": [
          54049.8288124881,
          6220.046420428944,
          3763.8073854841728,
          42745.04555752943,
          2845.180185774812,
          4200.641052610787,
          3058.065675832494
         ],
         "xaxis": "x",
         "y": [
          82.7,
          67.3,
          65.2,
          81.9,
          64.3,
          73.2,
          70.3
         ],
         "yaxis": "y"
        }
       ],
       "layout": {
        "legend": {
         "itemsizing": "constant",
         "title": {
          "text": "Region"
         },
         "tracegroupgap": 0
        },
        "template": {
         "data": {
          "bar": [
           {
            "error_x": {
             "color": "#2a3f5f"
            },
            "error_y": {
             "color": "#2a3f5f"
            },
            "marker": {
             "line": {
              "color": "#E5ECF6",
              "width": 0.5
             },
             "pattern": {
              "fillmode": "overlay",
              "size": 10,
              "solidity": 0.2
             }
            },
            "type": "bar"
           }
          ],
          "barpolar": [
           {
            "marker": {
             "line": {
              "color": "#E5ECF6",
              "width": 0.5
             },
             "pattern": {
              "fillmode": "overlay",
              "size": 10,
              "solidity": 0.2
             }
            },
            "type": "barpolar"
           }
          ],
          "carpet": [
           {
            "aaxis": {
             "endlinecolor": "#2a3f5f",
             "gridcolor": "white",
             "linecolor": "white",
             "minorgridcolor": "white",
             "startlinecolor": "#2a3f5f"
            },
            "baxis": {
             "endlinecolor": "#2a3f5f",
             "gridcolor": "white",
             "linecolor": "white",
             "minorgridcolor": "white",
             "startlinecolor": "#2a3f5f"
            },
            "type": "carpet"
           }
          ],
          "choropleth": [
           {
            "colorbar": {
             "outlinewidth": 0,
             "ticks": ""
            },
            "type": "choropleth"
           }
          ],
          "contour": [
           {
            "colorbar": {
             "outlinewidth": 0,
             "ticks": ""
            },
            "colorscale": [
             [
              0,
              "#0d0887"
             ],
             [
              0.1111111111111111,
              "#46039f"
             ],
             [
              0.2222222222222222,
              "#7201a8"
             ],
             [
              0.3333333333333333,
              "#9c179e"
             ],
             [
              0.4444444444444444,
              "#bd3786"
             ],
             [
              0.5555555555555556,
              "#d8576b"
             ],
             [
              0.6666666666666666,
              "#ed7953"
             ],
             [
              0.7777777777777778,
              "#fb9f3a"
             ],
             [
              0.8888888888888888,
              "#fdca26"
             ],
             [
              1,
              "#f0f921"
             ]
            ],
            "type": "contour"
           }
          ],
          "contourcarpet": [
           {
            "colorbar": {
             "outlinewidth": 0,
             "ticks": ""
            },
            "type": "contourcarpet"
           }
          ],
          "heatmap": [
           {
            "colorbar": {
             "outlinewidth": 0,
             "ticks": ""
            },
            "colorscale": [
             [
              0,
              "#0d0887"
             ],
             [
              0.1111111111111111,
              "#46039f"
             ],
             [
              0.2222222222222222,
              "#7201a8"
             ],
             [
              0.3333333333333333,
              "#9c179e"
             ],
             [
              0.4444444444444444,
              "#bd3786"
             ],
             [
              0.5555555555555556,
              "#d8576b"
             ],
             [
              0.6666666666666666,
              "#ed7953"
             ],
             [
              0.7777777777777778,
              "#fb9f3a"
             ],
             [
              0.8888888888888888,
              "#fdca26"
             ],
             [
              1,
              "#f0f921"
             ]
            ],
            "type": "heatmap"
           }
          ],
          "heatmapgl": [
           {
            "colorbar": {
             "outlinewidth": 0,
             "ticks": ""
            },
            "colorscale": [
             [
              0,
              "#0d0887"
             ],
             [
              0.1111111111111111,
              "#46039f"
             ],
             [
              0.2222222222222222,
              "#7201a8"
             ],
             [
              0.3333333333333333,
              "#9c179e"
             ],
             [
              0.4444444444444444,
              "#bd3786"
             ],
             [
              0.5555555555555556,
              "#d8576b"
             ],
             [
              0.6666666666666666,
              "#ed7953"
             ],
             [
              0.7777777777777778,
              "#fb9f3a"
             ],
             [
              0.8888888888888888,
              "#fdca26"
             ],
             [
              1,
              "#f0f921"
             ]
            ],
            "type": "heatmapgl"
           }
          ],
          "histogram": [
           {
            "marker": {
             "pattern": {
              "fillmode": "overlay",
              "size": 10,
              "solidity": 0.2
             }
            },
            "type": "histogram"
           }
          ],
          "histogram2d": [
           {
            "colorbar": {
             "outlinewidth": 0,
             "ticks": ""
            },
            "colorscale": [
             [
              0,
              "#0d0887"
             ],
             [
              0.1111111111111111,
              "#46039f"
             ],
             [
              0.2222222222222222,
              "#7201a8"
             ],
             [
              0.3333333333333333,
              "#9c179e"
             ],
             [
              0.4444444444444444,
              "#bd3786"
             ],
             [
              0.5555555555555556,
              "#d8576b"
             ],
             [
              0.6666666666666666,
              "#ed7953"
             ],
             [
              0.7777777777777778,
              "#fb9f3a"
             ],
             [
              0.8888888888888888,
              "#fdca26"
             ],
             [
              1,
              "#f0f921"
             ]
            ],
            "type": "histogram2d"
           }
          ],
          "histogram2dcontour": [
           {
            "colorbar": {
             "outlinewidth": 0,
             "ticks": ""
            },
            "colorscale": [
             [
              0,
              "#0d0887"
             ],
             [
              0.1111111111111111,
              "#46039f"
             ],
             [
              0.2222222222222222,
              "#7201a8"
             ],
             [
              0.3333333333333333,
              "#9c179e"
             ],
             [
              0.4444444444444444,
              "#bd3786"
             ],
             [
              0.5555555555555556,
              "#d8576b"
             ],
             [
              0.6666666666666666,
              "#ed7953"
             ],
             [
              0.7777777777777778,
              "#fb9f3a"
             ],
             [
              0.8888888888888888,
              "#fdca26"
             ],
             [
              1,
              "#f0f921"
             ]
            ],
            "type": "histogram2dcontour"
           }
          ],
          "mesh3d": [
           {
            "colorbar": {
             "outlinewidth": 0,
             "ticks": ""
            },
            "type": "mesh3d"
           }
          ],
          "parcoords": [
           {
            "line": {
             "colorbar": {
              "outlinewidth": 0,
              "ticks": ""
             }
            },
            "type": "parcoords"
           }
          ],
          "pie": [
           {
            "automargin": true,
            "type": "pie"
           }
          ],
          "scatter": [
           {
            "fillpattern": {
             "fillmode": "overlay",
             "size": 10,
             "solidity": 0.2
            },
            "type": "scatter"
           }
          ],
          "scatter3d": [
           {
            "line": {
             "colorbar": {
              "outlinewidth": 0,
              "ticks": ""
             }
            },
            "marker": {
             "colorbar": {
              "outlinewidth": 0,
              "ticks": ""
             }
            },
            "type": "scatter3d"
           }
          ],
          "scattercarpet": [
           {
            "marker": {
             "colorbar": {
              "outlinewidth": 0,
              "ticks": ""
             }
            },
            "type": "scattercarpet"
           }
          ],
          "scattergeo": [
           {
            "marker": {
             "colorbar": {
              "outlinewidth": 0,
              "ticks": ""
             }
            },
            "type": "scattergeo"
           }
          ],
          "scattergl": [
           {
            "marker": {
             "colorbar": {
              "outlinewidth": 0,
              "ticks": ""
             }
            },
            "type": "scattergl"
           }
          ],
          "scattermapbox": [
           {
            "marker": {
             "colorbar": {
              "outlinewidth": 0,
              "ticks": ""
             }
            },
            "type": "scattermapbox"
           }
          ],
          "scatterpolar": [
           {
            "marker": {
             "colorbar": {
              "outlinewidth": 0,
              "ticks": ""
             }
            },
            "type": "scatterpolar"
           }
          ],
          "scatterpolargl": [
           {
            "marker": {
             "colorbar": {
              "outlinewidth": 0,
              "ticks": ""
             }
            },
            "type": "scatterpolargl"
           }
          ],
          "scatterternary": [
           {
            "marker": {
             "colorbar": {
              "outlinewidth": 0,
              "ticks": ""
             }
            },
            "type": "scatterternary"
           }
          ],
          "surface": [
           {
            "colorbar": {
             "outlinewidth": 0,
             "ticks": ""
            },
            "colorscale": [
             [
              0,
              "#0d0887"
             ],
             [
              0.1111111111111111,
              "#46039f"
             ],
             [
              0.2222222222222222,
              "#7201a8"
             ],
             [
              0.3333333333333333,
              "#9c179e"
             ],
             [
              0.4444444444444444,
              "#bd3786"
             ],
             [
              0.5555555555555556,
              "#d8576b"
             ],
             [
              0.6666666666666666,
              "#ed7953"
             ],
             [
              0.7777777777777778,
              "#fb9f3a"
             ],
             [
              0.8888888888888888,
              "#fdca26"
             ],
             [
              1,
              "#f0f921"
             ]
            ],
            "type": "surface"
           }
          ],
          "table": [
           {
            "cells": {
             "fill": {
              "color": "#EBF0F8"
             },
             "line": {
              "color": "white"
             }
            },
            "header": {
             "fill": {
              "color": "#C8D4E3"
             },
             "line": {
              "color": "white"
             }
            },
            "type": "table"
           }
          ]
         },
         "layout": {
          "annotationdefaults": {
           "arrowcolor": "#2a3f5f",
           "arrowhead": 0,
           "arrowwidth": 1
          },
          "autotypenumbers": "strict",
          "coloraxis": {
           "colorbar": {
            "outlinewidth": 0,
            "ticks": ""
           }
          },
          "colorscale": {
           "diverging": [
            [
             0,
             "#8e0152"
            ],
            [
             0.1,
             "#c51b7d"
            ],
            [
             0.2,
             "#de77ae"
            ],
            [
             0.3,
             "#f1b6da"
            ],
            [
             0.4,
             "#fde0ef"
            ],
            [
             0.5,
             "#f7f7f7"
            ],
            [
             0.6,
             "#e6f5d0"
            ],
            [
             0.7,
             "#b8e186"
            ],
            [
             0.8,
             "#7fbc41"
            ],
            [
             0.9,
             "#4d9221"
            ],
            [
             1,
             "#276419"
            ]
           ],
           "sequential": [
            [
             0,
             "#0d0887"
            ],
            [
             0.1111111111111111,
             "#46039f"
            ],
            [
             0.2222222222222222,
             "#7201a8"
            ],
            [
             0.3333333333333333,
             "#9c179e"
            ],
            [
             0.4444444444444444,
             "#bd3786"
            ],
            [
             0.5555555555555556,
             "#d8576b"
            ],
            [
             0.6666666666666666,
             "#ed7953"
            ],
            [
             0.7777777777777778,
             "#fb9f3a"
            ],
            [
             0.8888888888888888,
             "#fdca26"
            ],
            [
             1,
             "#f0f921"
            ]
           ],
           "sequentialminus": [
            [
             0,
             "#0d0887"
            ],
            [
             0.1111111111111111,
             "#46039f"
            ],
            [
             0.2222222222222222,
             "#7201a8"
            ],
            [
             0.3333333333333333,
             "#9c179e"
            ],
            [
             0.4444444444444444,
             "#bd3786"
            ],
            [
             0.5555555555555556,
             "#d8576b"
            ],
            [
             0.6666666666666666,
             "#ed7953"
            ],
            [
             0.7777777777777778,
             "#fb9f3a"
            ],
            [
             0.8888888888888888,
             "#fdca26"
            ],
            [
             1,
             "#f0f921"
            ]
           ]
          },
          "colorway": [
           "#636efa",
           "#EF553B",
           "#00cc96",
           "#ab63fa",
           "#FFA15A",
           "#19d3f3",
           "#FF6692",
           "#B6E880",
           "#FF97FF",
           "#FECB52"
          ],
          "font": {
           "color": "#2a3f5f"
          },
          "geo": {
           "bgcolor": "white",
           "lakecolor": "white",
           "landcolor": "#E5ECF6",
           "showlakes": true,
           "showland": true,
           "subunitcolor": "white"
          },
          "hoverlabel": {
           "align": "left"
          },
          "hovermode": "closest",
          "mapbox": {
           "style": "light"
          },
          "paper_bgcolor": "white",
          "plot_bgcolor": "#E5ECF6",
          "polar": {
           "angularaxis": {
            "gridcolor": "white",
            "linecolor": "white",
            "ticks": ""
           },
           "bgcolor": "#E5ECF6",
           "radialaxis": {
            "gridcolor": "white",
            "linecolor": "white",
            "ticks": ""
           }
          },
          "scene": {
           "xaxis": {
            "backgroundcolor": "#E5ECF6",
            "gridcolor": "white",
            "gridwidth": 2,
            "linecolor": "white",
            "showbackground": true,
            "ticks": "",
            "zerolinecolor": "white"
           },
           "yaxis": {
            "backgroundcolor": "#E5ECF6",
            "gridcolor": "white",
            "gridwidth": 2,
            "linecolor": "white",
            "showbackground": true,
            "ticks": "",
            "zerolinecolor": "white"
           },
           "zaxis": {
            "backgroundcolor": "#E5ECF6",
            "gridcolor": "white",
            "gridwidth": 2,
            "linecolor": "white",
            "showbackground": true,
            "ticks": "",
            "zerolinecolor": "white"
           }
          },
          "shapedefaults": {
           "line": {
            "color": "#2a3f5f"
           }
          },
          "ternary": {
           "aaxis": {
            "gridcolor": "white",
            "linecolor": "white",
            "ticks": ""
           },
           "baxis": {
            "gridcolor": "white",
            "linecolor": "white",
            "ticks": ""
           },
           "bgcolor": "#E5ECF6",
           "caxis": {
            "gridcolor": "white",
            "linecolor": "white",
            "ticks": ""
           }
          },
          "title": {
           "x": 0.05
          },
          "xaxis": {
           "automargin": true,
           "gridcolor": "white",
           "linecolor": "white",
           "ticks": "",
           "title": {
            "standoff": 15
           },
           "zerolinecolor": "white",
           "zerolinewidth": 2
          },
          "yaxis": {
           "automargin": true,
           "gridcolor": "white",
           "linecolor": "white",
           "ticks": "",
           "title": {
            "standoff": 15
           },
           "zerolinecolor": "white",
           "zerolinewidth": 2
          }
         }
        },
        "title": {
         "text": "Scatter Plot of GDP per capita vs Life expectancy"
        },
        "xaxis": {
         "anchor": "y",
         "domain": [
          0,
          1
         ],
         "title": {
          "text": "GDP per capita"
         },
         "type": "log"
        },
        "yaxis": {
         "anchor": "x",
         "domain": [
          0,
          1
         ],
         "title": {
          "text": "Life expectancy"
         }
        }
       }
      }
     },
     "metadata": {},
     "output_type": "display_data"
    },
    {
     "data": {
      "application/vnd.plotly.v1+json": {
       "config": {
        "plotlyServerURL": "https://plot.ly"
       },
       "data": [
        {
         "hovertemplate": "<b>%{hovertext}</b><br><br>Region=Asia<br>GDP per capita=%{x}<br>Co2-Emissions per million people=%{y}<br>Population=%{marker.size}<extra></extra>",
         "hovertext": [
          "Afghanistan",
          "Armenia",
          "Azerbaijan",
          "Bahrain",
          "Bangladesh",
          "Bhutan",
          "Brunei",
          "Cambodia",
          "China",
          "Cyprus",
          "Georgia",
          "India",
          "Indonesia",
          "Iran",
          "Iraq",
          "Israel",
          "Japan",
          "Jordan",
          "Kazakhstan",
          "Kuwait",
          "Kyrgyzstan",
          "Laos",
          "Lebanon",
          "Malaysia",
          "Maldives",
          "Mongolia",
          "Myanmar",
          "Nepal",
          "North Korea",
          "Oman",
          "Pakistan",
          "Philippines",
          "Qatar",
          "Saudi Arabia",
          "Singapore",
          "South Korea",
          "Sri Lanka",
          "Syria",
          "Tajikistan",
          "Thailand",
          "East Timor",
          "Turkey",
          "Turkmenistan",
          "United Arab Emirates",
          "Uzbekistan",
          "Vietnam",
          "Yemen"
         ],
         "legendgroup": "Asia",
         "marker": {
          "color": "#F8766D",
          "size": [
           38041754,
           2957731,
           10023318,
           1501635,
           167310838,
           727145,
           433285,
           16486542,
           1397715000,
           1198575,
           3720382,
           1366417754,
           270203917,
           82913906,
           39309783,
           9053300,
           126226568,
           10101694,
           18513930,
           4207083,
           6456900,
           7169455,
           6855713,
           32447385,
           530953,
           3225167,
           54045420,
           28608710,
           25666161,
           5266535,
           216565318,
           108116615,
           2832067,
           34268528,
           5703569,
           51709098,
           21803000,
           17070135,
           9321018,
           69625582,
           3500000,
           83429615,
           5942089,
           9770529,
           33580650,
           96462106,
           29161922
          ],
          "sizemode": "area",
          "sizeref": 388254.1666666667,
          "symbol": "circle"
         },
         "mode": "markers",
         "name": "Asia",
         "orientation": "v",
         "showlegend": true,
         "type": "scatter",
         "x": [
          502.11548691997746,
          4622.733493343377,
          3911.5789801341234,
          25688.046129052665,
          1808.4378618138294,
          3364.767826224481,
          31086.751078389512,
          1643.121388766668,
          14244.677920749224,
          20494.87761299877,
          4769.18654320981,
          1910.8358277376421,
          4142.022784788127,
          5371.177207873912,
          5955.109010370268,
          43641.39773585323,
          40259.112030836484,
          4330.329345949303,
          9731.14520687936,
          32031.980102603156,
          1309.3929916833156,
          2534.8982772051713,
          7784.316856904599,
          11239.78150436468,
          10790.500236367438,
          4295.235024728952,
          1407.8131434078966,
          1071.0507605550897,
          1250.6739905512165,
          14617.408775978893,
          1405.5805556086316,
          3485.0842183692116,
          64781.73319734314,
          23139.798656131363,
          65233.28243929371,
          39238.74286107253,
          3853.0836928863,
          2366.999792737433,
          870.787589295504,
          7808.192916304814,
          478.15437142857144,
          9042.492982893424,
          6859.732807266939,
          43103.32305835232,
          1724.8411344032947,
          2715.276036405425,
          922.9296417430922
         ],
         "xaxis": "x",
         "y": [
          227.9600462165861,
          1743.22817051314,
          3753.2481759034285,
          21106.32743642763,
          503.5298430577462,
          1734.1795652861533,
          17688.126752599328,
          601.6422364374531,
          7078.008034542092,
          5528.231441503452,
          2722.301097037885,
          1762.0321405747777,
          2084.8143367218468,
          7980.687823342927,
          4834.954189393516,
          7198.03828438249,
          8998.787006551585,
          2485.5237151313436,
          13352.48647909979,
          23468.51726005881,
          1515.7428487354614,
          2477.5941825424666,
          3616.8375193068905,
          7652.049618174161,
          2721.5214906027463,
          7865.639205659738,
          467.75471446054075,
          318.25971880591607,
          1101.9957367212025,
          12049.098695821827,
          928.8190826566238,
          1131.065747850134,
          36460.648706404194,
          16442.171078956177,
          6580.967110242727,
          11995.993432335641,
          1071.5039214786955,
          1688.9145867914929,
          569.6802645376288,
          4075.556596424573,
          141.42857142857142,
          4467.538295604025,
          11886.392142561312,
          21116.97329796575,
          2734.044754940717,
          1997.343910364138,
          363.79632316415905
         ],
         "yaxis": "y"
        },
        {
         "hovertemplate": "<b>%{hovertext}</b><br><br>Region=Europe<br>GDP per capita=%{x}<br>Co2-Emissions per million people=%{y}<br>Population=%{marker.size}<extra></extra>",
         "hovertext": [
          "Albania",
          "Austria",
          "Belarus",
          "Belgium",
          "Bosnia and Herzegovina",
          "Bulgaria",
          "Croatia",
          "Czech Republic",
          "Denmark",
          "Estonia",
          "Finland",
          "France",
          "Germany",
          "Greece",
          "Hungary",
          "Iceland",
          "Italy",
          "Latvia",
          "Lithuania",
          "Luxembourg",
          "Malta",
          "Moldova",
          "Montenegro",
          "Netherlands",
          "Norway",
          "Poland",
          "Portugal",
          "Romania",
          "Russia",
          "Serbia",
          "Slovakia",
          "Slovenia",
          "Spain",
          "Sweden",
          "Switzerland",
          "Ukraine",
          "United Kingdom"
         ],
         "legendgroup": "Europe",
         "marker": {
          "color": "#A3A500",
          "size": [
           2854191,
           8877067,
           9466856,
           11484055,
           3301000,
           6975761,
           4067500,
           10669709,
           5818553,
           1331824,
           5520314,
           67059887,
           83132799,
           10716322,
           9769949,
           361313,
           60297396,
           1912789,
           2786844,
           645397,
           502653,
           2657637,
           622137,
           17332850,
           5347896,
           37970874,
           10269417,
           19356544,
           144373535,
           6944975,
           5454073,
           2087946,
           47076781,
           10285453,
           8574832,
           44385155,
           66834405
          ],
          "sizemode": "area",
          "sizeref": 388254.1666666667,
          "symbol": "circle"
         },
         "mode": "markers",
         "name": "Europe",
         "orientation": "v",
         "showlegend": true,
         "type": "scatter",
         "x": [
          5352.857411084262,
          50277.27508736838,
          6663.295292861749,
          46116.699233676605,
          6073.265202968797,
          12328.404026456756,
          14853.239837492318,
          23101.777704996453,
          59822.092960913134,
          23566.890205462583,
          48685.853986747854,
          40493.9285720389,
          46258.8782897109,
          19582.53601086268,
          16475.741838979917,
          66944.82550863102,
          33189.56579886136,
          17836.364886560932,
          19455.45412660343,
          110172.37314087298,
          29416.230606402427,
          4498.520850289186,
          8832.036835938065,
          52447.83143920359,
          75419.6348687409,
          15595.227033436207,
          23145.04081731222,
          12919.529644186483,
          11774.156384485565,
          7402.354558655718,
          19329.0968008679,
          25739.247814359183,
          29613.67113798626,
          51610.06605523354,
          81993.72714940654,
          3464.696002931611,
          42300.26712583137
         ],
         "xaxis": "x",
         "y": [
          1589.2419252951186,
          6922.106141589334,
          6156.214903870937,
          8436.828280602975,
          6618.600424113905,
          5978.989245761144,
          4299.446834665027,
          9580.205045892068,
          5462.870235950416,
          12456.600872187315,
          8309.491090543039,
          4522.465121362343,
          8756.748344296695,
          5826.0660700564995,
          4660.925046794001,
          5715.2662649835465,
          5313.844730541929,
          3661.6689033657135,
          4651.498253938864,
          13926.312021902797,
          2669.8338615307184,
          1924.642078658598,
          3242.0511880823674,
          9852.967053889004,
          7670.867197118268,
          7875.431047491822,
          4746.32591119827,
          3578.0664151617148,
          11996.845543748721,
          6511.326534652752,
          5944.914928714742,
          6050.4438333175285,
          5183.064661961487,
          4205.162378360973,
          4020.7201727100896,
          4556.703699694189,
          5671.106071790419
         ],
         "yaxis": "y"
        },
        {
         "hovertemplate": "<b>%{hovertext}</b><br><br>Region=Africa<br>GDP per capita=%{x}<br>Co2-Emissions per million people=%{y}<br>Population=%{marker.size}<extra></extra>",
         "hovertext": [
          "Algeria",
          "Angola",
          "Benin",
          "Botswana",
          "Burkina Faso",
          "Burundi",
          "Ivory Coast",
          "Cape Verde",
          "Cameroon",
          "Central African Republic",
          "Chad",
          "Democratic Republic of the Congo",
          "Djibouti",
          "Egypt",
          "Eritrea",
          "Ethiopia",
          "Gabon",
          "The Gambia",
          "Ghana",
          "Guinea",
          "Kenya",
          "Lesotho",
          "Liberia",
          "Libya",
          "Madagascar",
          "Malawi",
          "Mali",
          "Mauritania",
          "Mauritius",
          "Morocco",
          "Mozambique",
          "Niger",
          "Nigeria",
          "Rwanda",
          "Senegal",
          "Sierra Leone",
          "Somalia",
          "South Africa",
          "Sudan",
          "Tanzania",
          "Togo",
          "Tunisia",
          "Uganda",
          "Zambia",
          "Zimbabwe"
         ],
         "legendgroup": "Africa",
         "marker": {
          "color": "#00BF7D",
          "size": [
           43053054,
           31825295,
           11801151,
           2346179,
           20321378,
           11530580,
           25716544,
           483628,
           25876380,
           4745185,
           15946876,
           86790567,
           973560,
           100388073,
           6333135,
           112078730,
           2172579,
           2347706,
           30792608,
           12771246,
           52573973,
           2125268,
           4937374,
           6777452,
           26969307,
           18628747,
           19658031,
           4525696,
           1265711,
           36910560,
           30366036,
           23310715,
           200963599,
           12626950,
           16296364,
           7813215,
           15442905,
           58558270,
           42813238,
           58005463,
           8082366,
           11694719,
           44269594,
           17861030,
           14645468
          ],
          "sizemode": "area",
          "sizeref": 388254.1666666667,
          "symbol": "circle"
         },
         "mode": "markers",
         "name": "Africa",
         "orientation": "v",
         "showlegend": true,
         "type": "scatter",
         "x": [
          3948.3432789227913,
          2973.591159799147,
          1219.4326718639563,
          7817.1830832174355,
          774.8396902513206,
          261.24747254691437,
          2286.16277684902,
          4097.872209632196,
          1497.90917558793,
          467.90744070041524,
          709.5403101522832,
          545.2162123102618,
          3408.8462539545585,
          3020.0313497202005,
          326.0630992391604,
          857.5013510413618,
          7667.366861228061,
          751.2946885172164,
          2175.3153946557563,
          1064.1312373906196,
          1816.5469164371505,
          1157.5351645063117,
          621.8929536227153,
          7683.750611291677,
          522.219809244635,
          411.5523404231106,
          890.7372854890706,
          1677.9192526409197,
          11203.540584699034,
          3216.5667385160236,
          491.80472307942995,
          554.6009686961554,
          2229.858696245781,
          801.6561869651816,
          1446.8309649931728,
          504.4625433960284,
          305.689070676793,
          6001.400813941395,
          441.5056033837011,
          1089.1572087787663,
          675.5422133815766,
          3317.5410135121674,
          776.7685758762549,
          1291.3433573539712,
          1463.9859101805419
         ],
         "xaxis": "x",
         "y": [
          3484.2127575897407,
          1090.1077272025288,
          548.7600319663735,
          2702.266110130557,
          168.1972551270883,
          42.929323589966856,
          376.1780743166733,
          1122.7637771179502,
          320.4080323445551,
          62.58976204299727,
          63.71153823482417,
          23.285940740541538,
          636.8379966309216,
          2376.3779189187144,
          112.26667361425267,
          132.67459401083505,
          2449.1629533379455,
          226.60418297691447,
          541.3636935202111,
          234.58948328142768,
          340.66285992880927,
          1181.968579962621,
          280.71602434816566,
          7460.620894105927,
          144.79422849092862,
          69.67725741296502,
          161.71507716108493,
          605.2107786294085,
          3436.0134343463874,
          1660.1211143911119,
          261.57513611588945,
          86.52673244900468,
          598.9592174849536,
          88.30319277418538,
          668.9835843136543,
          139.89119715763616,
          41.76675308175501,
          8139.653032782559,
          467.14523204248184,
          206.4115926460237,
          371.1784395806871,
          2559.873392426103,
          128.3047682795555,
          287.8333444375828,
          749.9248231603115
         ],
         "yaxis": "y"
        },
        {
         "hovertemplate": "<b>%{hovertext}</b><br><br>Region=Americas<br>GDP per capita=%{x}<br>Co2-Emissions per million people=%{y}<br>Population=%{marker.size}<extra></extra>",
         "hovertext": [
          "Antigua and Barbuda",
          "Argentina",
          "The Bahamas",
          "Barbados",
          "Belize",
          "Bolivia",
          "Brazil",
          "Canada",
          "Chile",
          "Colombia",
          "Costa Rica",
          "Cuba",
          "Dominican Republic",
          "Ecuador",
          "El Salvador",
          "Grenada",
          "Guatemala",
          "Guyana",
          "Haiti",
          "Honduras",
          "Jamaica",
          "Mexico",
          "Nicaragua",
          "Panama",
          "Paraguay",
          "Peru",
          "Saint Lucia",
          "Suriname",
          "Trinidad and Tobago",
          "United States",
          "Uruguay",
          "Venezuela"
         ],
         "legendgroup": "Americas",
         "marker": {
          "color": "#00B0F6",
          "size": [
           97118,
           44938712,
           389482,
           287025,
           390353,
           11513100,
           212559417,
           36991981,
           18952038,
           50339443,
           5047561,
           11333483,
           10738958,
           17373662,
           6453553,
           112003,
           16604026,
           782766,
           11263077,
           9746117,
           2948279,
           126014024,
           6545502,
           4246439,
           7044636,
           32510453,
           182790,
           581372,
           1394973,
           328239523,
           3461734,
           28515829
          ],
          "sizemode": "area",
          "sizeref": 388254.1666666667,
          "symbol": "circle"
         },
         "mode": "markers",
         "name": "Americas",
         "orientation": "v",
         "showlegend": true,
         "type": "scatter",
         "x": [
          17790.309304145474,
          10006.148973606541,
          32933.48601475806,
          18148.24492640014,
          4815.163710795101,
          3552.068762105775,
          8655.264804221777,
          46940.59584210967,
          14896.453866597354,
          6432.387583390623,
          12238.374964463035,
          8825.442275777004,
          8282.11622189043,
          6183.823824821733,
          4187.250031106896,
          10965.51315589761,
          4619.987097105244,
          5468.356628928696,
          754.5879177599514,
          2574.912190670397,
          5582.263777613991,
          9985.29113811174,
          1912.903745350624,
          15731.01603484708,
          5414.799137954041,
          6977.695783568442,
          11611.415449422835,
          6854.906560687477,
          17276.465447001483,
          65280.6822413034,
          16190.126957183886,
          16915.49345340793
         ],
         "xaxis": "x",
         "y": [
          5735.291089190469,
          4480.502244924154,
          4585.577767393615,
          4445.605783468339,
          1455.0932105043382,
          1876.6448654141805,
          2174.916578737135,
          14730.057306203742,
          4528.37842558146,
          1943.0886432334978,
          1589.48054317719,
          2495.6141020372997,
          2351.9972794380983,
          2368.8155093612386,
          1110.8609474501875,
          2392.793050186156,
          1010.4175939016236,
          3045.610054601247,
          264.4037681709891,
          1006.8625279175286,
          2789.7631126497863,
          3859.93546242123,
          854.3271394615723,
          2523.290691329841,
          1051.4382858106508,
          1766.0166101038333,
          2264.8941408173314,
          2989.48005751911,
          31447.203637633127,
          15251.978050187454,
          1954.5118140215282,
          5757.328675242092
         ],
         "yaxis": "y"
        },
        {
         "hovertemplate": "<b>%{hovertext}</b><br><br>Region=Oceania<br>GDP per capita=%{x}<br>Co2-Emissions per million people=%{y}<br>Population=%{marker.size}<extra></extra>",
         "hovertext": [
          "Australia",
          "Fiji",
          "Marshall Islands",
          "New Zealand",
          "Papua New Guinea",
          "Samoa",
          "Vanuatu"
         ],
         "legendgroup": "Oceania",
         "marker": {
          "color": "#E76BF3",
          "size": [
           25766605,
           889953,
           58791,
           4841000,
           8776109,
           202506,
           299882
          ],
          "sizemode": "area",
          "sizeref": 388254.1666666667,
          "symbol": "circle"
         },
         "mode": "markers",
         "name": "Oceania",
         "orientation": "v",
         "showlegend": true,
         "type": "scatter",
         "x": [
          54049.8288124881,
          6220.046420428944,
          3763.8073854841728,
          42745.04555752943,
          2845.180185774812,
          4200.641052610787,
          3058.065675832494
         ],
         "xaxis": "x",
         "y": [
          14588.961176685869,
          2298.9978122440175,
          2432.3450868330183,
          7102.251600908903,
          858.694895425752,
          1214.7788213682556,
          490.1928091716075
         ],
         "yaxis": "y"
        }
       ],
       "layout": {
        "legend": {
         "itemsizing": "constant",
         "title": {
          "text": "Region"
         },
         "tracegroupgap": 0
        },
        "template": {
         "data": {
          "bar": [
           {
            "error_x": {
             "color": "rgb(51,51,51)"
            },
            "error_y": {
             "color": "rgb(51,51,51)"
            },
            "marker": {
             "line": {
              "color": "rgb(237,237,237)",
              "width": 0.5
             },
             "pattern": {
              "fillmode": "overlay",
              "size": 10,
              "solidity": 0.2
             }
            },
            "type": "bar"
           }
          ],
          "barpolar": [
           {
            "marker": {
             "line": {
              "color": "rgb(237,237,237)",
              "width": 0.5
             },
             "pattern": {
              "fillmode": "overlay",
              "size": 10,
              "solidity": 0.2
             }
            },
            "type": "barpolar"
           }
          ],
          "carpet": [
           {
            "aaxis": {
             "endlinecolor": "rgb(51,51,51)",
             "gridcolor": "white",
             "linecolor": "white",
             "minorgridcolor": "white",
             "startlinecolor": "rgb(51,51,51)"
            },
            "baxis": {
             "endlinecolor": "rgb(51,51,51)",
             "gridcolor": "white",
             "linecolor": "white",
             "minorgridcolor": "white",
             "startlinecolor": "rgb(51,51,51)"
            },
            "type": "carpet"
           }
          ],
          "choropleth": [
           {
            "colorbar": {
             "outlinewidth": 0,
             "tickcolor": "rgb(237,237,237)",
             "ticklen": 6,
             "ticks": "inside"
            },
            "type": "choropleth"
           }
          ],
          "contour": [
           {
            "colorbar": {
             "outlinewidth": 0,
             "tickcolor": "rgb(237,237,237)",
             "ticklen": 6,
             "ticks": "inside"
            },
            "colorscale": [
             [
              0,
              "rgb(20,44,66)"
             ],
             [
              1,
              "rgb(90,179,244)"
             ]
            ],
            "type": "contour"
           }
          ],
          "contourcarpet": [
           {
            "colorbar": {
             "outlinewidth": 0,
             "tickcolor": "rgb(237,237,237)",
             "ticklen": 6,
             "ticks": "inside"
            },
            "type": "contourcarpet"
           }
          ],
          "heatmap": [
           {
            "colorbar": {
             "outlinewidth": 0,
             "tickcolor": "rgb(237,237,237)",
             "ticklen": 6,
             "ticks": "inside"
            },
            "colorscale": [
             [
              0,
              "rgb(20,44,66)"
             ],
             [
              1,
              "rgb(90,179,244)"
             ]
            ],
            "type": "heatmap"
           }
          ],
          "heatmapgl": [
           {
            "colorbar": {
             "outlinewidth": 0,
             "tickcolor": "rgb(237,237,237)",
             "ticklen": 6,
             "ticks": "inside"
            },
            "colorscale": [
             [
              0,
              "rgb(20,44,66)"
             ],
             [
              1,
              "rgb(90,179,244)"
             ]
            ],
            "type": "heatmapgl"
           }
          ],
          "histogram": [
           {
            "marker": {
             "pattern": {
              "fillmode": "overlay",
              "size": 10,
              "solidity": 0.2
             }
            },
            "type": "histogram"
           }
          ],
          "histogram2d": [
           {
            "colorbar": {
             "outlinewidth": 0,
             "tickcolor": "rgb(237,237,237)",
             "ticklen": 6,
             "ticks": "inside"
            },
            "colorscale": [
             [
              0,
              "rgb(20,44,66)"
             ],
             [
              1,
              "rgb(90,179,244)"
             ]
            ],
            "type": "histogram2d"
           }
          ],
          "histogram2dcontour": [
           {
            "colorbar": {
             "outlinewidth": 0,
             "tickcolor": "rgb(237,237,237)",
             "ticklen": 6,
             "ticks": "inside"
            },
            "colorscale": [
             [
              0,
              "rgb(20,44,66)"
             ],
             [
              1,
              "rgb(90,179,244)"
             ]
            ],
            "type": "histogram2dcontour"
           }
          ],
          "mesh3d": [
           {
            "colorbar": {
             "outlinewidth": 0,
             "tickcolor": "rgb(237,237,237)",
             "ticklen": 6,
             "ticks": "inside"
            },
            "type": "mesh3d"
           }
          ],
          "parcoords": [
           {
            "line": {
             "colorbar": {
              "outlinewidth": 0,
              "tickcolor": "rgb(237,237,237)",
              "ticklen": 6,
              "ticks": "inside"
             }
            },
            "type": "parcoords"
           }
          ],
          "pie": [
           {
            "automargin": true,
            "type": "pie"
           }
          ],
          "scatter": [
           {
            "fillpattern": {
             "fillmode": "overlay",
             "size": 10,
             "solidity": 0.2
            },
            "type": "scatter"
           }
          ],
          "scatter3d": [
           {
            "line": {
             "colorbar": {
              "outlinewidth": 0,
              "tickcolor": "rgb(237,237,237)",
              "ticklen": 6,
              "ticks": "inside"
             }
            },
            "marker": {
             "colorbar": {
              "outlinewidth": 0,
              "tickcolor": "rgb(237,237,237)",
              "ticklen": 6,
              "ticks": "inside"
             }
            },
            "type": "scatter3d"
           }
          ],
          "scattercarpet": [
           {
            "marker": {
             "colorbar": {
              "outlinewidth": 0,
              "tickcolor": "rgb(237,237,237)",
              "ticklen": 6,
              "ticks": "inside"
             }
            },
            "type": "scattercarpet"
           }
          ],
          "scattergeo": [
           {
            "marker": {
             "colorbar": {
              "outlinewidth": 0,
              "tickcolor": "rgb(237,237,237)",
              "ticklen": 6,
              "ticks": "inside"
             }
            },
            "type": "scattergeo"
           }
          ],
          "scattergl": [
           {
            "marker": {
             "colorbar": {
              "outlinewidth": 0,
              "tickcolor": "rgb(237,237,237)",
              "ticklen": 6,
              "ticks": "inside"
             }
            },
            "type": "scattergl"
           }
          ],
          "scattermapbox": [
           {
            "marker": {
             "colorbar": {
              "outlinewidth": 0,
              "tickcolor": "rgb(237,237,237)",
              "ticklen": 6,
              "ticks": "inside"
             }
            },
            "type": "scattermapbox"
           }
          ],
          "scatterpolar": [
           {
            "marker": {
             "colorbar": {
              "outlinewidth": 0,
              "tickcolor": "rgb(237,237,237)",
              "ticklen": 6,
              "ticks": "inside"
             }
            },
            "type": "scatterpolar"
           }
          ],
          "scatterpolargl": [
           {
            "marker": {
             "colorbar": {
              "outlinewidth": 0,
              "tickcolor": "rgb(237,237,237)",
              "ticklen": 6,
              "ticks": "inside"
             }
            },
            "type": "scatterpolargl"
           }
          ],
          "scatterternary": [
           {
            "marker": {
             "colorbar": {
              "outlinewidth": 0,
              "tickcolor": "rgb(237,237,237)",
              "ticklen": 6,
              "ticks": "inside"
             }
            },
            "type": "scatterternary"
           }
          ],
          "surface": [
           {
            "colorbar": {
             "outlinewidth": 0,
             "tickcolor": "rgb(237,237,237)",
             "ticklen": 6,
             "ticks": "inside"
            },
            "colorscale": [
             [
              0,
              "rgb(20,44,66)"
             ],
             [
              1,
              "rgb(90,179,244)"
             ]
            ],
            "type": "surface"
           }
          ],
          "table": [
           {
            "cells": {
             "fill": {
              "color": "rgb(237,237,237)"
             },
             "line": {
              "color": "white"
             }
            },
            "header": {
             "fill": {
              "color": "rgb(217,217,217)"
             },
             "line": {
              "color": "white"
             }
            },
            "type": "table"
           }
          ]
         },
         "layout": {
          "annotationdefaults": {
           "arrowhead": 0,
           "arrowwidth": 1
          },
          "autotypenumbers": "strict",
          "coloraxis": {
           "colorbar": {
            "outlinewidth": 0,
            "tickcolor": "rgb(237,237,237)",
            "ticklen": 6,
            "ticks": "inside"
           }
          },
          "colorscale": {
           "sequential": [
            [
             0,
             "rgb(20,44,66)"
            ],
            [
             1,
             "rgb(90,179,244)"
            ]
           ],
           "sequentialminus": [
            [
             0,
             "rgb(20,44,66)"
            ],
            [
             1,
             "rgb(90,179,244)"
            ]
           ]
          },
          "colorway": [
           "#F8766D",
           "#A3A500",
           "#00BF7D",
           "#00B0F6",
           "#E76BF3"
          ],
          "font": {
           "color": "rgb(51,51,51)"
          },
          "geo": {
           "bgcolor": "white",
           "lakecolor": "white",
           "landcolor": "rgb(237,237,237)",
           "showlakes": true,
           "showland": true,
           "subunitcolor": "white"
          },
          "hoverlabel": {
           "align": "left"
          },
          "hovermode": "closest",
          "paper_bgcolor": "white",
          "plot_bgcolor": "rgb(237,237,237)",
          "polar": {
           "angularaxis": {
            "gridcolor": "white",
            "linecolor": "white",
            "showgrid": true,
            "tickcolor": "rgb(51,51,51)",
            "ticks": "outside"
           },
           "bgcolor": "rgb(237,237,237)",
           "radialaxis": {
            "gridcolor": "white",
            "linecolor": "white",
            "showgrid": true,
            "tickcolor": "rgb(51,51,51)",
            "ticks": "outside"
           }
          },
          "scene": {
           "xaxis": {
            "backgroundcolor": "rgb(237,237,237)",
            "gridcolor": "white",
            "gridwidth": 2,
            "linecolor": "white",
            "showbackground": true,
            "showgrid": true,
            "tickcolor": "rgb(51,51,51)",
            "ticks": "outside",
            "zerolinecolor": "white"
           },
           "yaxis": {
            "backgroundcolor": "rgb(237,237,237)",
            "gridcolor": "white",
            "gridwidth": 2,
            "linecolor": "white",
            "showbackground": true,
            "showgrid": true,
            "tickcolor": "rgb(51,51,51)",
            "ticks": "outside",
            "zerolinecolor": "white"
           },
           "zaxis": {
            "backgroundcolor": "rgb(237,237,237)",
            "gridcolor": "white",
            "gridwidth": 2,
            "linecolor": "white",
            "showbackground": true,
            "showgrid": true,
            "tickcolor": "rgb(51,51,51)",
            "ticks": "outside",
            "zerolinecolor": "white"
           }
          },
          "shapedefaults": {
           "fillcolor": "black",
           "line": {
            "width": 0
           },
           "opacity": 0.3
          },
          "ternary": {
           "aaxis": {
            "gridcolor": "white",
            "linecolor": "white",
            "showgrid": true,
            "tickcolor": "rgb(51,51,51)",
            "ticks": "outside"
           },
           "baxis": {
            "gridcolor": "white",
            "linecolor": "white",
            "showgrid": true,
            "tickcolor": "rgb(51,51,51)",
            "ticks": "outside"
           },
           "bgcolor": "rgb(237,237,237)",
           "caxis": {
            "gridcolor": "white",
            "linecolor": "white",
            "showgrid": true,
            "tickcolor": "rgb(51,51,51)",
            "ticks": "outside"
           }
          },
          "xaxis": {
           "automargin": true,
           "gridcolor": "white",
           "linecolor": "white",
           "showgrid": true,
           "tickcolor": "rgb(51,51,51)",
           "ticks": "outside",
           "title": {
            "standoff": 15
           },
           "zerolinecolor": "white"
          },
          "yaxis": {
           "automargin": true,
           "gridcolor": "white",
           "linecolor": "white",
           "showgrid": true,
           "tickcolor": "rgb(51,51,51)",
           "ticks": "outside",
           "title": {
            "standoff": 15
           },
           "zerolinecolor": "white"
          }
         }
        },
        "title": {
         "text": "Scatter Plot of GDP per capita vs Co2-Emissions per million people"
        },
        "xaxis": {
         "anchor": "y",
         "domain": [
          0,
          1
         ],
         "title": {
          "text": "GDP per capita"
         },
         "type": "log"
        },
        "yaxis": {
         "anchor": "x",
         "domain": [
          0,
          1
         ],
         "title": {
          "text": "Co2-Emissions per million people"
         },
         "type": "log"
        }
       }
      }
     },
     "metadata": {},
     "output_type": "display_data"
    }
   ],
   "source": [
    "# 2. Scatter plot\n",
    "import plotly.express as px\n",
    "import warnings\n",
    "warnings.filterwarnings('ignore')\n",
    "\n",
    "# Scatter Plot of GDP per capita vs Life expectancy\n",
    "fig_1 = px.scatter(data, x='GDP per capita', y='Life expectancy', hover_name='Country', color='Region', template = 'plotly',\n",
    "                    size='Population',size_max=60, title='Scatter Plot of GDP per capita vs Life expectancy', log_x=True)\n",
    "\n",
    "# Scatter Plot of GDP per capita vs Co2-Emissions per million people\n",
    "fig_2 = px.scatter(data, x='GDP per capita', y='Co2-Emissions per million people', hover_name='Country', color='Region', template='ggplot2',\n",
    "                    size='Population',size_max=60, title='Scatter Plot of GDP per capita vs Co2-Emissions per million people', log_x=True, log_y=True)\n",
    "\n",
    "# Show charts\n",
    "fig_1.show()\n",
    "fig_2.show()\n"
   ]
  },
  {
   "cell_type": "code",
   "execution_count": 20,
   "id": "a8f798c0",
   "metadata": {},
   "outputs": [
    {
     "data": {
      "text/html": [
       "\n",
       "<style>\n",
       "  #altair-viz-62a2a7682cb14c1b8f9aac3b888571d0.vega-embed {\n",
       "    width: 100%;\n",
       "    display: flex;\n",
       "  }\n",
       "\n",
       "  #altair-viz-62a2a7682cb14c1b8f9aac3b888571d0.vega-embed details,\n",
       "  #altair-viz-62a2a7682cb14c1b8f9aac3b888571d0.vega-embed details summary {\n",
       "    position: relative;\n",
       "  }\n",
       "</style>\n",
       "<div id=\"altair-viz-62a2a7682cb14c1b8f9aac3b888571d0\"></div>\n",
       "<script type=\"text/javascript\">\n",
       "  var VEGA_DEBUG = (typeof VEGA_DEBUG == \"undefined\") ? {} : VEGA_DEBUG;\n",
       "  (function(spec, embedOpt){\n",
       "    let outputDiv = document.currentScript.previousElementSibling;\n",
       "    if (outputDiv.id !== \"altair-viz-62a2a7682cb14c1b8f9aac3b888571d0\") {\n",
       "      outputDiv = document.getElementById(\"altair-viz-62a2a7682cb14c1b8f9aac3b888571d0\");\n",
       "    }\n",
       "\n",
       "    const paths = {\n",
       "      \"vega\": \"https://cdn.jsdelivr.net/npm/vega@5?noext\",\n",
       "      \"vega-lib\": \"https://cdn.jsdelivr.net/npm/vega-lib?noext\",\n",
       "      \"vega-lite\": \"https://cdn.jsdelivr.net/npm/vega-lite@5.20.1?noext\",\n",
       "      \"vega-embed\": \"https://cdn.jsdelivr.net/npm/vega-embed@6?noext\",\n",
       "    };\n",
       "\n",
       "    function maybeLoadScript(lib, version) {\n",
       "      var key = `${lib.replace(\"-\", \"\")}_version`;\n",
       "      return (VEGA_DEBUG[key] == version) ?\n",
       "        Promise.resolve(paths[lib]) :\n",
       "        new Promise(function(resolve, reject) {\n",
       "          var s = document.createElement('script');\n",
       "          document.getElementsByTagName(\"head\")[0].appendChild(s);\n",
       "          s.async = true;\n",
       "          s.onload = () => {\n",
       "            VEGA_DEBUG[key] = version;\n",
       "            return resolve(paths[lib]);\n",
       "          };\n",
       "          s.onerror = () => reject(`Error loading script: ${paths[lib]}`);\n",
       "          s.src = paths[lib];\n",
       "        });\n",
       "    }\n",
       "\n",
       "    function showError(err) {\n",
       "      outputDiv.innerHTML = `<div class=\"error\" style=\"color:red;\">${err}</div>`;\n",
       "      throw err;\n",
       "    }\n",
       "\n",
       "    function displayChart(vegaEmbed) {\n",
       "      vegaEmbed(outputDiv, spec, embedOpt)\n",
       "        .catch(err => showError(`Javascript Error: ${err.message}<br>This usually means there's a typo in your chart specification. See the javascript console for the full traceback.`));\n",
       "    }\n",
       "\n",
       "    if(typeof define === \"function\" && define.amd) {\n",
       "      requirejs.config({paths});\n",
       "      let deps = [\"vega-embed\"];\n",
       "      require(deps, displayChart, err => showError(`Error loading script: ${err.message}`));\n",
       "    } else {\n",
       "      maybeLoadScript(\"vega\", \"5\")\n",
       "        .then(() => maybeLoadScript(\"vega-lite\", \"5.20.1\"))\n",
       "        .then(() => maybeLoadScript(\"vega-embed\", \"6\"))\n",
       "        .catch(showError)\n",
       "        .then(() => displayChart(vegaEmbed));\n",
       "    }\n",
       "  })({\"config\": {\"view\": {\"continuousWidth\": 300, \"continuousHeight\": 300}}, \"vconcat\": [{\"mark\": {\"type\": \"circle\"}, \"encoding\": {\"color\": {\"field\": \"Region\", \"legend\": {\"title\": \"Region\"}, \"type\": \"nominal\"}, \"size\": {\"field\": \"Population\", \"scale\": {\"range\": [10, 100]}, \"title\": \"Population\", \"type\": \"quantitative\"}, \"tooltip\": [{\"field\": \"Country\", \"type\": \"nominal\"}, {\"field\": \"GDP per capita\", \"type\": \"quantitative\"}, {\"field\": \"Life expectancy\", \"type\": \"quantitative\"}, {\"field\": \"Population\", \"type\": \"quantitative\"}], \"x\": {\"field\": \"GDP per capita\", \"scale\": {\"type\": \"log\"}, \"title\": \"GDP per Capita (Log Scale)\", \"type\": \"quantitative\"}, \"y\": {\"field\": \"Life expectancy\", \"title\": \"Life Expectancy\", \"type\": \"quantitative\"}}, \"height\": 400, \"name\": \"view_1\", \"title\": \"Scatter Plot of GDP per Capita vs Life Expectancy\", \"width\": 600}, {\"mark\": {\"type\": \"circle\"}, \"encoding\": {\"color\": {\"field\": \"Region\", \"legend\": {\"title\": \"Region\"}, \"type\": \"nominal\"}, \"size\": {\"field\": \"Population\", \"scale\": {\"range\": [10, 100]}, \"title\": \"Population\", \"type\": \"quantitative\"}, \"tooltip\": [{\"field\": \"Country\", \"type\": \"nominal\"}, {\"field\": \"GDP per capita\", \"type\": \"quantitative\"}, {\"field\": \"Co2-Emissions per million people\", \"type\": \"quantitative\"}, {\"field\": \"Population\", \"type\": \"quantitative\"}], \"x\": {\"field\": \"GDP per capita\", \"scale\": {\"type\": \"log\"}, \"title\": \"GDP per Capita (Log Scale)\", \"type\": \"quantitative\"}, \"y\": {\"field\": \"Co2-Emissions per million people\", \"scale\": {\"type\": \"log\"}, \"title\": \"CO2 Emissions per Million People (Log Scale)\", \"type\": \"quantitative\"}}, \"height\": 400, \"name\": \"view_2\", \"title\": \"Scatter Plot of GDP per Capita vs CO2 Emissions per Million People\", \"width\": 600}], \"data\": {\"name\": \"data-f3a5fe6d8f43581a59029f69138e1fc4\"}, \"params\": [{\"name\": \"param_1\", \"select\": {\"type\": \"interval\", \"encodings\": [\"x\", \"y\"]}, \"bind\": \"scales\", \"views\": [\"view_1\"]}, {\"name\": \"param_2\", \"select\": {\"type\": \"interval\", \"encodings\": [\"x\", \"y\"]}, \"bind\": \"scales\", \"views\": [\"view_2\"]}], \"$schema\": \"https://vega.github.io/schema/vega-lite/v5.20.1.json\", \"datasets\": {\"data-f3a5fe6d8f43581a59029f69138e1fc4\": [{\"Country\": \"Afghanistan\", \"Abbreviation\": \"AF\", \"Co2-Emissions\": 8672, \"Gasoline Price\": 0.7, \"GDP\": 19101353833, \"Life expectancy\": 64.5, \"Physicians per thousand\": 0.28, \"Population\": 38041754, \"Region\": \"Asia\", \"Co2-Emissions per million people\": 227.9600462165861, \"GDP per capita\": 502.11548691997746}, {\"Country\": \"Albania\", \"Abbreviation\": \"AL\", \"Co2-Emissions\": 4536, \"Gasoline Price\": 1.36, \"GDP\": 15278077447, \"Life expectancy\": 78.5, \"Physicians per thousand\": 1.2, \"Population\": 2854191, \"Region\": \"Europe\", \"Co2-Emissions per million people\": 1589.2419252951186, \"GDP per capita\": 5352.857411084262}, {\"Country\": \"Algeria\", \"Abbreviation\": \"DZ\", \"Co2-Emissions\": 150006, \"Gasoline Price\": 0.28, \"GDP\": 169988236398, \"Life expectancy\": 76.7, \"Physicians per thousand\": 1.72, \"Population\": 43053054, \"Region\": \"Africa\", \"Co2-Emissions per million people\": 3484.2127575897407, \"GDP per capita\": 3948.3432789227913}, {\"Country\": \"Angola\", \"Abbreviation\": \"AO\", \"Co2-Emissions\": 34693, \"Gasoline Price\": 0.97, \"GDP\": 94635415870, \"Life expectancy\": 60.8, \"Physicians per thousand\": 0.21, \"Population\": 31825295, \"Region\": \"Africa\", \"Co2-Emissions per million people\": 1090.1077272025288, \"GDP per capita\": 2973.591159799147}, {\"Country\": \"Antigua and Barbuda\", \"Abbreviation\": \"AG\", \"Co2-Emissions\": 557, \"Gasoline Price\": 0.99, \"GDP\": 1727759259, \"Life expectancy\": 76.9, \"Physicians per thousand\": 2.76, \"Population\": 97118, \"Region\": \"Americas\", \"Co2-Emissions per million people\": 5735.291089190469, \"GDP per capita\": 17790.309304145474}, {\"Country\": \"Argentina\", \"Abbreviation\": \"AR\", \"Co2-Emissions\": 201348, \"Gasoline Price\": 1.1, \"GDP\": 449663446954, \"Life expectancy\": 76.5, \"Physicians per thousand\": 3.96, \"Population\": 44938712, \"Region\": \"Americas\", \"Co2-Emissions per million people\": 4480.502244924154, \"GDP per capita\": 10006.148973606541}, {\"Country\": \"Armenia\", \"Abbreviation\": \"AM\", \"Co2-Emissions\": 5156, \"Gasoline Price\": 0.77, \"GDP\": 13672802158, \"Life expectancy\": 74.9, \"Physicians per thousand\": 4.4, \"Population\": 2957731, \"Region\": \"Asia\", \"Co2-Emissions per million people\": 1743.22817051314, \"GDP per capita\": 4622.733493343377}, {\"Country\": \"Australia\", \"Abbreviation\": \"AU\", \"Co2-Emissions\": 375908, \"Gasoline Price\": 0.93, \"GDP\": 1392680589329, \"Life expectancy\": 82.7, \"Physicians per thousand\": 3.68, \"Population\": 25766605, \"Region\": \"Oceania\", \"Co2-Emissions per million people\": 14588.961176685869, \"GDP per capita\": 54049.8288124881}, {\"Country\": \"Austria\", \"Abbreviation\": \"AT\", \"Co2-Emissions\": 61448, \"Gasoline Price\": 1.2, \"GDP\": 446314739528, \"Life expectancy\": 81.6, \"Physicians per thousand\": 5.17, \"Population\": 8877067, \"Region\": \"Europe\", \"Co2-Emissions per million people\": 6922.106141589334, \"GDP per capita\": 50277.27508736838}, {\"Country\": \"Azerbaijan\", \"Abbreviation\": \"AZ\", \"Co2-Emissions\": 37620, \"Gasoline Price\": 0.56, \"GDP\": 39207000000, \"Life expectancy\": 72.9, \"Physicians per thousand\": 3.45, \"Population\": 10023318, \"Region\": \"Asia\", \"Co2-Emissions per million people\": 3753.2481759034285, \"GDP per capita\": 3911.5789801341234}, {\"Country\": \"The Bahamas\", \"Abbreviation\": \"BS\", \"Co2-Emissions\": 1786, \"Gasoline Price\": 0.92, \"GDP\": 12827000000, \"Life expectancy\": 73.8, \"Physicians per thousand\": 1.94, \"Population\": 389482, \"Region\": \"Americas\", \"Co2-Emissions per million people\": 4585.577767393615, \"GDP per capita\": 32933.48601475806}, {\"Country\": \"Bahrain\", \"Abbreviation\": \"BH\", \"Co2-Emissions\": 31694, \"Gasoline Price\": 0.43, \"GDP\": 38574069149, \"Life expectancy\": 77.2, \"Physicians per thousand\": 0.93, \"Population\": 1501635, \"Region\": \"Asia\", \"Co2-Emissions per million people\": 21106.32743642763, \"GDP per capita\": 25688.046129052665}, {\"Country\": \"Bangladesh\", \"Abbreviation\": \"BD\", \"Co2-Emissions\": 84246, \"Gasoline Price\": 1.12, \"GDP\": 302571254131, \"Life expectancy\": 72.3, \"Physicians per thousand\": 0.58, \"Population\": 167310838, \"Region\": \"Asia\", \"Co2-Emissions per million people\": 503.5298430577462, \"GDP per capita\": 1808.4378618138294}, {\"Country\": \"Barbados\", \"Abbreviation\": \"BB\", \"Co2-Emissions\": 1276, \"Gasoline Price\": 1.81, \"GDP\": 5209000000, \"Life expectancy\": 79.1, \"Physicians per thousand\": 2.48, \"Population\": 287025, \"Region\": \"Americas\", \"Co2-Emissions per million people\": 4445.605783468339, \"GDP per capita\": 18148.24492640014}, {\"Country\": \"Belarus\", \"Abbreviation\": \"BY\", \"Co2-Emissions\": 58280, \"Gasoline Price\": 0.6, \"GDP\": 63080457023, \"Life expectancy\": 74.2, \"Physicians per thousand\": 5.19, \"Population\": 9466856, \"Region\": \"Europe\", \"Co2-Emissions per million people\": 6156.214903870937, \"GDP per capita\": 6663.295292861749}, {\"Country\": \"Belgium\", \"Abbreviation\": \"BE\", \"Co2-Emissions\": 96889, \"Gasoline Price\": 1.43, \"GDP\": 529606710418, \"Life expectancy\": 81.6, \"Physicians per thousand\": 3.07, \"Population\": 11484055, \"Region\": \"Europe\", \"Co2-Emissions per million people\": 8436.828280602975, \"GDP per capita\": 46116.699233676605}, {\"Country\": \"Belize\", \"Abbreviation\": \"BZ\", \"Co2-Emissions\": 568, \"Gasoline Price\": 1.13, \"GDP\": 1879613600, \"Life expectancy\": 74.5, \"Physicians per thousand\": 1.12, \"Population\": 390353, \"Region\": \"Americas\", \"Co2-Emissions per million people\": 1455.0932105043382, \"GDP per capita\": 4815.163710795101}, {\"Country\": \"Benin\", \"Abbreviation\": \"BJ\", \"Co2-Emissions\": 6476, \"Gasoline Price\": 0.72, \"GDP\": 14390709095, \"Life expectancy\": 61.5, \"Physicians per thousand\": 0.08, \"Population\": 11801151, \"Region\": \"Africa\", \"Co2-Emissions per million people\": 548.7600319663735, \"GDP per capita\": 1219.4326718639563}, {\"Country\": \"Bhutan\", \"Abbreviation\": \"BT\", \"Co2-Emissions\": 1261, \"Gasoline Price\": 0.98, \"GDP\": 2446674101, \"Life expectancy\": 71.5, \"Physicians per thousand\": 0.42, \"Population\": 727145, \"Region\": \"Asia\", \"Co2-Emissions per million people\": 1734.1795652861533, \"GDP per capita\": 3364.767826224481}, {\"Country\": \"Bolivia\", \"Abbreviation\": \"BO\", \"Co2-Emissions\": 21606, \"Gasoline Price\": 0.71, \"GDP\": 40895322865, \"Life expectancy\": 71.2, \"Physicians per thousand\": 1.59, \"Population\": 11513100, \"Region\": \"Americas\", \"Co2-Emissions per million people\": 1876.6448654141805, \"GDP per capita\": 3552.068762105775}, {\"Country\": \"Bosnia and Herzegovina\", \"Abbreviation\": \"BA\", \"Co2-Emissions\": 21848, \"Gasoline Price\": 1.05, \"GDP\": 20047848435, \"Life expectancy\": 77.3, \"Physicians per thousand\": 2.16, \"Population\": 3301000, \"Region\": \"Europe\", \"Co2-Emissions per million people\": 6618.600424113905, \"GDP per capita\": 6073.265202968797}, {\"Country\": \"Botswana\", \"Abbreviation\": \"BW\", \"Co2-Emissions\": 6340, \"Gasoline Price\": 0.71, \"GDP\": 18340510789, \"Life expectancy\": 69.3, \"Physicians per thousand\": 0.37, \"Population\": 2346179, \"Region\": \"Africa\", \"Co2-Emissions per million people\": 2702.266110130557, \"GDP per capita\": 7817.1830832174355}, {\"Country\": \"Brazil\", \"Abbreviation\": \"BR\", \"Co2-Emissions\": 462299, \"Gasoline Price\": 1.02, \"GDP\": 1839758040766, \"Life expectancy\": 75.7, \"Physicians per thousand\": 2.15, \"Population\": 212559417, \"Region\": \"Americas\", \"Co2-Emissions per million people\": 2174.916578737135, \"GDP per capita\": 8655.264804221777}, {\"Country\": \"Brunei\", \"Abbreviation\": \"BN\", \"Co2-Emissions\": 7664, \"Gasoline Price\": 0.37, \"GDP\": 13469422941, \"Life expectancy\": 75.7, \"Physicians per thousand\": 1.61, \"Population\": 433285, \"Region\": \"Asia\", \"Co2-Emissions per million people\": 17688.126752599328, \"GDP per capita\": 31086.751078389512}, {\"Country\": \"Bulgaria\", \"Abbreviation\": \"BG\", \"Co2-Emissions\": 41708, \"Gasoline Price\": 1.11, \"GDP\": 86000000000, \"Life expectancy\": 74.9, \"Physicians per thousand\": 4.03, \"Population\": 6975761, \"Region\": \"Europe\", \"Co2-Emissions per million people\": 5978.989245761144, \"GDP per capita\": 12328.404026456756}, {\"Country\": \"Burkina Faso\", \"Abbreviation\": \"BF\", \"Co2-Emissions\": 3418, \"Gasoline Price\": 0.98, \"GDP\": 15745810235, \"Life expectancy\": 61.2, \"Physicians per thousand\": 0.08, \"Population\": 20321378, \"Region\": \"Africa\", \"Co2-Emissions per million people\": 168.1972551270883, \"GDP per capita\": 774.8396902513206}, {\"Country\": \"Burundi\", \"Abbreviation\": \"BI\", \"Co2-Emissions\": 495, \"Gasoline Price\": 1.21, \"GDP\": 3012334882, \"Life expectancy\": 61.2, \"Physicians per thousand\": 0.1, \"Population\": 11530580, \"Region\": \"Africa\", \"Co2-Emissions per million people\": 42.929323589966856, \"GDP per capita\": 261.24747254691437}, {\"Country\": \"Ivory Coast\", \"Abbreviation\": \"CI\", \"Co2-Emissions\": 9674, \"Gasoline Price\": 0.93, \"GDP\": 58792205642, \"Life expectancy\": 57.4, \"Physicians per thousand\": 0.23, \"Population\": 25716544, \"Region\": \"Africa\", \"Co2-Emissions per million people\": 376.1780743166733, \"GDP per capita\": 2286.16277684902}, {\"Country\": \"Cape Verde\", \"Abbreviation\": \"CV\", \"Co2-Emissions\": 543, \"Gasoline Price\": 1.02, \"GDP\": 1981845741, \"Life expectancy\": 72.8, \"Physicians per thousand\": 0.77, \"Population\": 483628, \"Region\": \"Africa\", \"Co2-Emissions per million people\": 1122.7637771179502, \"GDP per capita\": 4097.872209632196}, {\"Country\": \"Cambodia\", \"Abbreviation\": \"KH\", \"Co2-Emissions\": 9919, \"Gasoline Price\": 0.9, \"GDP\": 27089389787, \"Life expectancy\": 69.6, \"Physicians per thousand\": 0.17, \"Population\": 16486542, \"Region\": \"Asia\", \"Co2-Emissions per million people\": 601.6422364374531, \"GDP per capita\": 1643.121388766668}, {\"Country\": \"Cameroon\", \"Abbreviation\": \"CM\", \"Co2-Emissions\": 8291, \"Gasoline Price\": 1.03, \"GDP\": 38760467033, \"Life expectancy\": 58.9, \"Physicians per thousand\": 0.09, \"Population\": 25876380, \"Region\": \"Africa\", \"Co2-Emissions per million people\": 320.4080323445551, \"GDP per capita\": 1497.90917558793}, {\"Country\": \"Canada\", \"Abbreviation\": \"CA\", \"Co2-Emissions\": 544894, \"Gasoline Price\": 0.81, \"GDP\": 1736425629520, \"Life expectancy\": 81.9, \"Physicians per thousand\": 2.61, \"Population\": 36991981, \"Region\": \"Americas\", \"Co2-Emissions per million people\": 14730.057306203742, \"GDP per capita\": 46940.59584210967}, {\"Country\": \"Central African Republic\", \"Abbreviation\": \"CF\", \"Co2-Emissions\": 297, \"Gasoline Price\": 1.41, \"GDP\": 2220307369, \"Life expectancy\": 52.8, \"Physicians per thousand\": 0.06, \"Population\": 4745185, \"Region\": \"Africa\", \"Co2-Emissions per million people\": 62.58976204299727, \"GDP per capita\": 467.90744070041524}, {\"Country\": \"Chad\", \"Abbreviation\": \"TD\", \"Co2-Emissions\": 1016, \"Gasoline Price\": 0.78, \"GDP\": 11314951343, \"Life expectancy\": 54.0, \"Physicians per thousand\": 0.04, \"Population\": 15946876, \"Region\": \"Africa\", \"Co2-Emissions per million people\": 63.71153823482417, \"GDP per capita\": 709.5403101522832}, {\"Country\": \"Chile\", \"Abbreviation\": \"CL\", \"Co2-Emissions\": 85822, \"Gasoline Price\": 1.03, \"GDP\": 282318159745, \"Life expectancy\": 80.0, \"Physicians per thousand\": 2.59, \"Population\": 18952038, \"Region\": \"Americas\", \"Co2-Emissions per million people\": 4528.37842558146, \"GDP per capita\": 14896.453866597354}, {\"Country\": \"China\", \"Abbreviation\": \"CN\", \"Co2-Emissions\": 9893038, \"Gasoline Price\": 0.96, \"GDP\": 19910000000000, \"Life expectancy\": 77.0, \"Physicians per thousand\": 1.98, \"Population\": 1397715000, \"Region\": \"Asia\", \"Co2-Emissions per million people\": 7078.008034542092, \"GDP per capita\": 14244.677920749224}, {\"Country\": \"Colombia\", \"Abbreviation\": \"CO\", \"Co2-Emissions\": 97814, \"Gasoline Price\": 0.68, \"GDP\": 323802808108, \"Life expectancy\": 77.1, \"Physicians per thousand\": 2.18, \"Population\": 50339443, \"Region\": \"Americas\", \"Co2-Emissions per million people\": 1943.0886432334978, \"GDP per capita\": 6432.387583390623}, {\"Country\": \"Costa Rica\", \"Abbreviation\": \"CR\", \"Co2-Emissions\": 8023, \"Gasoline Price\": 0.98, \"GDP\": 61773944174, \"Life expectancy\": 80.1, \"Physicians per thousand\": 2.89, \"Population\": 5047561, \"Region\": \"Americas\", \"Co2-Emissions per million people\": 1589.48054317719, \"GDP per capita\": 12238.374964463035}, {\"Country\": \"Croatia\", \"Abbreviation\": \"HR\", \"Co2-Emissions\": 17488, \"Gasoline Price\": 1.26, \"GDP\": 60415553039, \"Life expectancy\": 78.1, \"Physicians per thousand\": 3.0, \"Population\": 4067500, \"Region\": \"Europe\", \"Co2-Emissions per million people\": 4299.446834665027, \"GDP per capita\": 14853.239837492318}, {\"Country\": \"Cuba\", \"Abbreviation\": \"CU\", \"Co2-Emissions\": 28284, \"Gasoline Price\": 1.4, \"GDP\": 100023000000, \"Life expectancy\": 78.7, \"Physicians per thousand\": 8.42, \"Population\": 11333483, \"Region\": \"Americas\", \"Co2-Emissions per million people\": 2495.6141020372997, \"GDP per capita\": 8825.442275777004}, {\"Country\": \"Cyprus\", \"Abbreviation\": \"CY\", \"Co2-Emissions\": 6626, \"Gasoline Price\": 1.23, \"GDP\": 24564647935, \"Life expectancy\": 80.8, \"Physicians per thousand\": 1.95, \"Population\": 1198575, \"Region\": \"Asia\", \"Co2-Emissions per million people\": 5528.231441503452, \"GDP per capita\": 20494.87761299877}, {\"Country\": \"Czech Republic\", \"Abbreviation\": \"CZ\", \"Co2-Emissions\": 102218, \"Gasoline Price\": 1.17, \"GDP\": 246489245495, \"Life expectancy\": 79.0, \"Physicians per thousand\": 4.12, \"Population\": 10669709, \"Region\": \"Europe\", \"Co2-Emissions per million people\": 9580.205045892068, \"GDP per capita\": 23101.777704996453}, {\"Country\": \"Democratic Republic of the Congo\", \"Abbreviation\": \"CD\", \"Co2-Emissions\": 2021, \"Gasoline Price\": 1.49, \"GDP\": 47319624204, \"Life expectancy\": 60.4, \"Physicians per thousand\": 0.07, \"Population\": 86790567, \"Region\": \"Africa\", \"Co2-Emissions per million people\": 23.285940740541538, \"GDP per capita\": 545.2162123102618}, {\"Country\": \"Denmark\", \"Abbreviation\": \"DK\", \"Co2-Emissions\": 31786, \"Gasoline Price\": 1.55, \"GDP\": 348078018464, \"Life expectancy\": 81.0, \"Physicians per thousand\": 4.01, \"Population\": 5818553, \"Region\": \"Europe\", \"Co2-Emissions per million people\": 5462.870235950416, \"GDP per capita\": 59822.092960913134}, {\"Country\": \"Djibouti\", \"Abbreviation\": \"DJ\", \"Co2-Emissions\": 620, \"Gasoline Price\": 1.32, \"GDP\": 3318716359, \"Life expectancy\": 66.6, \"Physicians per thousand\": 0.22, \"Population\": 973560, \"Region\": \"Africa\", \"Co2-Emissions per million people\": 636.8379966309216, \"GDP per capita\": 3408.8462539545585}, {\"Country\": \"Dominican Republic\", \"Abbreviation\": \"DO\", \"Co2-Emissions\": 25258, \"Gasoline Price\": 1.07, \"GDP\": 88941298258, \"Life expectancy\": 73.9, \"Physicians per thousand\": 1.56, \"Population\": 10738958, \"Region\": \"Americas\", \"Co2-Emissions per million people\": 2351.9972794380983, \"GDP per capita\": 8282.11622189043}, {\"Country\": \"Ecuador\", \"Abbreviation\": \"EC\", \"Co2-Emissions\": 41155, \"Gasoline Price\": 0.61, \"GDP\": 107435665000, \"Life expectancy\": 76.8, \"Physicians per thousand\": 2.04, \"Population\": 17373662, \"Region\": \"Americas\", \"Co2-Emissions per million people\": 2368.8155093612386, \"GDP per capita\": 6183.823824821733}, {\"Country\": \"Egypt\", \"Abbreviation\": \"EG\", \"Co2-Emissions\": 238560, \"Gasoline Price\": 0.4, \"GDP\": 303175127598, \"Life expectancy\": 71.8, \"Physicians per thousand\": 0.45, \"Population\": 100388073, \"Region\": \"Africa\", \"Co2-Emissions per million people\": 2376.3779189187144, \"GDP per capita\": 3020.0313497202005}, {\"Country\": \"El Salvador\", \"Abbreviation\": \"SV\", \"Co2-Emissions\": 7169, \"Gasoline Price\": 0.83, \"GDP\": 27022640000, \"Life expectancy\": 73.1, \"Physicians per thousand\": 1.57, \"Population\": 6453553, \"Region\": \"Americas\", \"Co2-Emissions per million people\": 1110.8609474501875, \"GDP per capita\": 4187.250031106896}, {\"Country\": \"Eritrea\", \"Abbreviation\": \"ER\", \"Co2-Emissions\": 711, \"Gasoline Price\": 2.0, \"GDP\": 2065001626, \"Life expectancy\": 65.9, \"Physicians per thousand\": 0.06, \"Population\": 6333135, \"Region\": \"Africa\", \"Co2-Emissions per million people\": 112.26667361425267, \"GDP per capita\": 326.0630992391604}, {\"Country\": \"Estonia\", \"Abbreviation\": \"EE\", \"Co2-Emissions\": 16590, \"Gasoline Price\": 1.14, \"GDP\": 31386949981, \"Life expectancy\": 78.2, \"Physicians per thousand\": 4.48, \"Population\": 1331824, \"Region\": \"Europe\", \"Co2-Emissions per million people\": 12456.600872187315, \"GDP per capita\": 23566.890205462583}, {\"Country\": \"Ethiopia\", \"Abbreviation\": \"ET\", \"Co2-Emissions\": 14870, \"Gasoline Price\": 0.75, \"GDP\": 96107662398, \"Life expectancy\": 66.2, \"Physicians per thousand\": 0.08, \"Population\": 112078730, \"Region\": \"Africa\", \"Co2-Emissions per million people\": 132.67459401083505, \"GDP per capita\": 857.5013510413618}, {\"Country\": \"Fiji\", \"Abbreviation\": \"FJ\", \"Co2-Emissions\": 2046, \"Gasoline Price\": 0.82, \"GDP\": 5535548972, \"Life expectancy\": 67.3, \"Physicians per thousand\": 0.84, \"Population\": 889953, \"Region\": \"Oceania\", \"Co2-Emissions per million people\": 2298.9978122440175, \"GDP per capita\": 6220.046420428944}, {\"Country\": \"Finland\", \"Abbreviation\": \"FI\", \"Co2-Emissions\": 45871, \"Gasoline Price\": 1.45, \"GDP\": 268761201365, \"Life expectancy\": 81.7, \"Physicians per thousand\": 3.81, \"Population\": 5520314, \"Region\": \"Europe\", \"Co2-Emissions per million people\": 8309.491090543039, \"GDP per capita\": 48685.853986747854}, {\"Country\": \"France\", \"Abbreviation\": \"FR\", \"Co2-Emissions\": 303276, \"Gasoline Price\": 1.39, \"GDP\": 2715518274227, \"Life expectancy\": 82.5, \"Physicians per thousand\": 3.27, \"Population\": 67059887, \"Region\": \"Europe\", \"Co2-Emissions per million people\": 4522.465121362343, \"GDP per capita\": 40493.9285720389}, {\"Country\": \"Gabon\", \"Abbreviation\": \"GA\", \"Co2-Emissions\": 5321, \"Gasoline Price\": 0.92, \"GDP\": 16657960228, \"Life expectancy\": 66.2, \"Physicians per thousand\": 0.68, \"Population\": 2172579, \"Region\": \"Africa\", \"Co2-Emissions per million people\": 2449.1629533379455, \"GDP per capita\": 7667.366861228061}, {\"Country\": \"The Gambia\", \"Abbreviation\": \"GM\", \"Co2-Emissions\": 532, \"Gasoline Price\": 1.18, \"GDP\": 1763819048, \"Life expectancy\": 61.7, \"Physicians per thousand\": 0.1, \"Population\": 2347706, \"Region\": \"Africa\", \"Co2-Emissions per million people\": 226.60418297691447, \"GDP per capita\": 751.2946885172164}, {\"Country\": \"Georgia\", \"Abbreviation\": \"GE\", \"Co2-Emissions\": 10128, \"Gasoline Price\": 0.76, \"GDP\": 17743195770, \"Life expectancy\": 73.6, \"Physicians per thousand\": 7.12, \"Population\": 3720382, \"Region\": \"Asia\", \"Co2-Emissions per million people\": 2722.301097037885, \"GDP per capita\": 4769.18654320981}, {\"Country\": \"Germany\", \"Abbreviation\": \"DE\", \"Co2-Emissions\": 727973, \"Gasoline Price\": 1.39, \"GDP\": 3845630030824, \"Life expectancy\": 80.9, \"Physicians per thousand\": 4.25, \"Population\": 83132799, \"Region\": \"Europe\", \"Co2-Emissions per million people\": 8756.748344296695, \"GDP per capita\": 46258.8782897109}, {\"Country\": \"Ghana\", \"Abbreviation\": \"GH\", \"Co2-Emissions\": 16670, \"Gasoline Price\": 0.92, \"GDP\": 66983634224, \"Life expectancy\": 63.8, \"Physicians per thousand\": 0.14, \"Population\": 30792608, \"Region\": \"Africa\", \"Co2-Emissions per million people\": 541.3636935202111, \"GDP per capita\": 2175.3153946557563}, {\"Country\": \"Greece\", \"Abbreviation\": \"GR\", \"Co2-Emissions\": 62434, \"Gasoline Price\": 1.54, \"GDP\": 209852761469, \"Life expectancy\": 81.3, \"Physicians per thousand\": 5.48, \"Population\": 10716322, \"Region\": \"Europe\", \"Co2-Emissions per million people\": 5826.0660700564995, \"GDP per capita\": 19582.53601086268}, {\"Country\": \"Grenada\", \"Abbreviation\": \"GD\", \"Co2-Emissions\": 268, \"Gasoline Price\": 1.12, \"GDP\": 1228170370, \"Life expectancy\": 72.4, \"Physicians per thousand\": 1.41, \"Population\": 112003, \"Region\": \"Americas\", \"Co2-Emissions per million people\": 2392.793050186156, \"GDP per capita\": 10965.51315589761}, {\"Country\": \"Guatemala\", \"Abbreviation\": \"GT\", \"Co2-Emissions\": 16777, \"Gasoline Price\": 0.79, \"GDP\": 76710385880, \"Life expectancy\": 74.1, \"Physicians per thousand\": 0.35, \"Population\": 16604026, \"Region\": \"Americas\", \"Co2-Emissions per million people\": 1010.4175939016236, \"GDP per capita\": 4619.987097105244}, {\"Country\": \"Guinea\", \"Abbreviation\": \"GN\", \"Co2-Emissions\": 2996, \"Gasoline Price\": 0.9, \"GDP\": 13590281809, \"Life expectancy\": 61.2, \"Physicians per thousand\": 0.08, \"Population\": 12771246, \"Region\": \"Africa\", \"Co2-Emissions per million people\": 234.58948328142768, \"GDP per capita\": 1064.1312373906196}, {\"Country\": \"Guyana\", \"Abbreviation\": \"GY\", \"Co2-Emissions\": 2384, \"Gasoline Price\": 0.9, \"GDP\": 4280443645, \"Life expectancy\": 69.8, \"Physicians per thousand\": 0.8, \"Population\": 782766, \"Region\": \"Americas\", \"Co2-Emissions per million people\": 3045.610054601247, \"GDP per capita\": 5468.356628928696}, {\"Country\": \"Haiti\", \"Abbreviation\": \"HT\", \"Co2-Emissions\": 2978, \"Gasoline Price\": 0.81, \"GDP\": 8498981821, \"Life expectancy\": 63.7, \"Physicians per thousand\": 0.23, \"Population\": 11263077, \"Region\": \"Americas\", \"Co2-Emissions per million people\": 264.4037681709891, \"GDP per capita\": 754.5879177599514}, {\"Country\": \"Honduras\", \"Abbreviation\": \"HN\", \"Co2-Emissions\": 9813, \"Gasoline Price\": 0.98, \"GDP\": 25095395475, \"Life expectancy\": 75.1, \"Physicians per thousand\": 0.31, \"Population\": 9746117, \"Region\": \"Americas\", \"Co2-Emissions per million people\": 1006.8625279175286, \"GDP per capita\": 2574.912190670397}, {\"Country\": \"Hungary\", \"Abbreviation\": \"HU\", \"Co2-Emissions\": 45537, \"Gasoline Price\": 1.18, \"GDP\": 160967157504, \"Life expectancy\": 75.8, \"Physicians per thousand\": 3.41, \"Population\": 9769949, \"Region\": \"Europe\", \"Co2-Emissions per million people\": 4660.925046794001, \"GDP per capita\": 16475.741838979917}, {\"Country\": \"Iceland\", \"Abbreviation\": \"IS\", \"Co2-Emissions\": 2065, \"Gasoline Price\": 1.69, \"GDP\": 24188035739, \"Life expectancy\": 82.7, \"Physicians per thousand\": 4.08, \"Population\": 361313, \"Region\": \"Europe\", \"Co2-Emissions per million people\": 5715.2662649835465, \"GDP per capita\": 66944.82550863102}, {\"Country\": \"India\", \"Abbreviation\": \"IN\", \"Co2-Emissions\": 2407672, \"Gasoline Price\": 0.97, \"GDP\": 2611000000000, \"Life expectancy\": 69.4, \"Physicians per thousand\": 0.86, \"Population\": 1366417754, \"Region\": \"Asia\", \"Co2-Emissions per million people\": 1762.0321405747777, \"GDP per capita\": 1910.8358277376421}, {\"Country\": \"Indonesia\", \"Abbreviation\": \"ID\", \"Co2-Emissions\": 563325, \"Gasoline Price\": 0.63, \"GDP\": 1119190780753, \"Life expectancy\": 71.5, \"Physicians per thousand\": 0.43, \"Population\": 270203917, \"Region\": \"Asia\", \"Co2-Emissions per million people\": 2084.8143367218468, \"GDP per capita\": 4142.022784788127}, {\"Country\": \"Iran\", \"Abbreviation\": \"IR\", \"Co2-Emissions\": 661710, \"Gasoline Price\": 0.4, \"GDP\": 445345282123, \"Life expectancy\": 76.5, \"Physicians per thousand\": 1.58, \"Population\": 82913906, \"Region\": \"Asia\", \"Co2-Emissions per million people\": 7980.687823342927, \"GDP per capita\": 5371.177207873912}, {\"Country\": \"Iraq\", \"Abbreviation\": \"IQ\", \"Co2-Emissions\": 190061, \"Gasoline Price\": 0.61, \"GDP\": 234094042939, \"Life expectancy\": 70.5, \"Physicians per thousand\": 0.71, \"Population\": 39309783, \"Region\": \"Asia\", \"Co2-Emissions per million people\": 4834.954189393516, \"GDP per capita\": 5955.109010370268}, {\"Country\": \"Israel\", \"Abbreviation\": \"IL\", \"Co2-Emissions\": 65166, \"Gasoline Price\": 1.57, \"GDP\": 395098666122, \"Life expectancy\": 82.8, \"Physicians per thousand\": 4.62, \"Population\": 9053300, \"Region\": \"Asia\", \"Co2-Emissions per million people\": 7198.03828438249, \"GDP per capita\": 43641.39773585323}, {\"Country\": \"Italy\", \"Abbreviation\": \"IT\", \"Co2-Emissions\": 320411, \"Gasoline Price\": 1.61, \"GDP\": 2001244392042, \"Life expectancy\": 82.9, \"Physicians per thousand\": 3.98, \"Population\": 60297396, \"Region\": \"Europe\", \"Co2-Emissions per million people\": 5313.844730541929, \"GDP per capita\": 33189.56579886136}, {\"Country\": \"Jamaica\", \"Abbreviation\": \"JM\", \"Co2-Emissions\": 8225, \"Gasoline Price\": 1.11, \"GDP\": 16458071068, \"Life expectancy\": 74.4, \"Physicians per thousand\": 1.31, \"Population\": 2948279, \"Region\": \"Americas\", \"Co2-Emissions per million people\": 2789.7631126497863, \"GDP per capita\": 5582.263777613991}, {\"Country\": \"Japan\", \"Abbreviation\": \"JP\", \"Co2-Emissions\": 1135886, \"Gasoline Price\": 1.06, \"GDP\": 5081769542380, \"Life expectancy\": 84.2, \"Physicians per thousand\": 2.41, \"Population\": 126226568, \"Region\": \"Asia\", \"Co2-Emissions per million people\": 8998.787006551585, \"GDP per capita\": 40259.112030836484}, {\"Country\": \"Jordan\", \"Abbreviation\": \"JO\", \"Co2-Emissions\": 25108, \"Gasoline Price\": 1.1, \"GDP\": 43743661972, \"Life expectancy\": 74.4, \"Physicians per thousand\": 2.32, \"Population\": 10101694, \"Region\": \"Asia\", \"Co2-Emissions per million people\": 2485.5237151313436, \"GDP per capita\": 4330.329345949303}, {\"Country\": \"Kazakhstan\", \"Abbreviation\": \"KZ\", \"Co2-Emissions\": 247207, \"Gasoline Price\": 0.42, \"GDP\": 180161741180, \"Life expectancy\": 73.2, \"Physicians per thousand\": 3.25, \"Population\": 18513930, \"Region\": \"Asia\", \"Co2-Emissions per million people\": 13352.48647909979, \"GDP per capita\": 9731.14520687936}, {\"Country\": \"Kenya\", \"Abbreviation\": \"KE\", \"Co2-Emissions\": 17910, \"Gasoline Price\": 0.95, \"GDP\": 95503088538, \"Life expectancy\": 66.3, \"Physicians per thousand\": 0.16, \"Population\": 52573973, \"Region\": \"Africa\", \"Co2-Emissions per million people\": 340.66285992880927, \"GDP per capita\": 1816.5469164371505}, {\"Country\": \"Kuwait\", \"Abbreviation\": \"KW\", \"Co2-Emissions\": 98734, \"Gasoline Price\": 0.35, \"GDP\": 134761198946, \"Life expectancy\": 75.4, \"Physicians per thousand\": 2.58, \"Population\": 4207083, \"Region\": \"Asia\", \"Co2-Emissions per million people\": 23468.51726005881, \"GDP per capita\": 32031.980102603156}, {\"Country\": \"Kyrgyzstan\", \"Abbreviation\": \"KG\", \"Co2-Emissions\": 9787, \"Gasoline Price\": 0.56, \"GDP\": 8454619608, \"Life expectancy\": 71.4, \"Physicians per thousand\": 1.88, \"Population\": 6456900, \"Region\": \"Asia\", \"Co2-Emissions per million people\": 1515.7428487354614, \"GDP per capita\": 1309.3929916833156}, {\"Country\": \"Laos\", \"Abbreviation\": \"LA\", \"Co2-Emissions\": 17763, \"Gasoline Price\": 0.93, \"GDP\": 18173839128, \"Life expectancy\": 67.6, \"Physicians per thousand\": 0.37, \"Population\": 7169455, \"Region\": \"Asia\", \"Co2-Emissions per million people\": 2477.5941825424666, \"GDP per capita\": 2534.8982772051713}, {\"Country\": \"Latvia\", \"Abbreviation\": \"LV\", \"Co2-Emissions\": 7004, \"Gasoline Price\": 1.16, \"GDP\": 34117202555, \"Life expectancy\": 74.7, \"Physicians per thousand\": 3.19, \"Population\": 1912789, \"Region\": \"Europe\", \"Co2-Emissions per million people\": 3661.6689033657135, \"GDP per capita\": 17836.364886560932}, {\"Country\": \"Lebanon\", \"Abbreviation\": \"LB\", \"Co2-Emissions\": 24796, \"Gasoline Price\": 0.74, \"GDP\": 53367042272, \"Life expectancy\": 78.9, \"Physicians per thousand\": 2.1, \"Population\": 6855713, \"Region\": \"Asia\", \"Co2-Emissions per million people\": 3616.8375193068905, \"GDP per capita\": 7784.316856904599}, {\"Country\": \"Lesotho\", \"Abbreviation\": \"LS\", \"Co2-Emissions\": 2512, \"Gasoline Price\": 0.7, \"GDP\": 2460072444, \"Life expectancy\": 53.7, \"Physicians per thousand\": 0.07, \"Population\": 2125268, \"Region\": \"Africa\", \"Co2-Emissions per million people\": 1181.968579962621, \"GDP per capita\": 1157.5351645063117}, {\"Country\": \"Liberia\", \"Abbreviation\": \"LR\", \"Co2-Emissions\": 1386, \"Gasoline Price\": 0.8, \"GDP\": 3070518100, \"Life expectancy\": 63.7, \"Physicians per thousand\": 0.04, \"Population\": 4937374, \"Region\": \"Africa\", \"Co2-Emissions per million people\": 280.71602434816566, \"GDP per capita\": 621.8929536227153}, {\"Country\": \"Libya\", \"Abbreviation\": \"LY\", \"Co2-Emissions\": 50564, \"Gasoline Price\": 0.11, \"GDP\": 52076250948, \"Life expectancy\": 72.7, \"Physicians per thousand\": 2.09, \"Population\": 6777452, \"Region\": \"Africa\", \"Co2-Emissions per million people\": 7460.620894105927, \"GDP per capita\": 7683.750611291677}, {\"Country\": \"Lithuania\", \"Abbreviation\": \"LT\", \"Co2-Emissions\": 12963, \"Gasoline Price\": 1.16, \"GDP\": 54219315600, \"Life expectancy\": 75.7, \"Physicians per thousand\": 6.35, \"Population\": 2786844, \"Region\": \"Europe\", \"Co2-Emissions per million people\": 4651.498253938864, \"GDP per capita\": 19455.45412660343}, {\"Country\": \"Luxembourg\", \"Abbreviation\": \"LU\", \"Co2-Emissions\": 8988, \"Gasoline Price\": 1.19, \"GDP\": 71104919108, \"Life expectancy\": 82.1, \"Physicians per thousand\": 3.01, \"Population\": 645397, \"Region\": \"Europe\", \"Co2-Emissions per million people\": 13926.312021902797, \"GDP per capita\": 110172.37314087298}, {\"Country\": \"Madagascar\", \"Abbreviation\": \"MG\", \"Co2-Emissions\": 3905, \"Gasoline Price\": 1.11, \"GDP\": 14083906357, \"Life expectancy\": 66.7, \"Physicians per thousand\": 0.18, \"Population\": 26969307, \"Region\": \"Africa\", \"Co2-Emissions per million people\": 144.79422849092862, \"GDP per capita\": 522.219809244635}, {\"Country\": \"Malawi\", \"Abbreviation\": \"MW\", \"Co2-Emissions\": 1298, \"Gasoline Price\": 1.15, \"GDP\": 7666704427, \"Life expectancy\": 63.8, \"Physicians per thousand\": 0.04, \"Population\": 18628747, \"Region\": \"Africa\", \"Co2-Emissions per million people\": 69.67725741296502, \"GDP per capita\": 411.5523404231106}, {\"Country\": \"Malaysia\", \"Abbreviation\": \"MY\", \"Co2-Emissions\": 248289, \"Gasoline Price\": 0.45, \"GDP\": 364701517788, \"Life expectancy\": 76.0, \"Physicians per thousand\": 1.51, \"Population\": 32447385, \"Region\": \"Asia\", \"Co2-Emissions per million people\": 7652.049618174161, \"GDP per capita\": 11239.78150436468}, {\"Country\": \"Maldives\", \"Abbreviation\": \"MV\", \"Co2-Emissions\": 1445, \"Gasoline Price\": 1.63, \"GDP\": 5729248472, \"Life expectancy\": 78.6, \"Physicians per thousand\": 4.56, \"Population\": 530953, \"Region\": \"Asia\", \"Co2-Emissions per million people\": 2721.5214906027463, \"GDP per capita\": 10790.500236367438}, {\"Country\": \"Mali\", \"Abbreviation\": \"ML\", \"Co2-Emissions\": 3179, \"Gasoline Price\": 1.12, \"GDP\": 17510141171, \"Life expectancy\": 58.9, \"Physicians per thousand\": 0.13, \"Population\": 19658031, \"Region\": \"Africa\", \"Co2-Emissions per million people\": 161.71507716108493, \"GDP per capita\": 890.7372854890706}, {\"Country\": \"Malta\", \"Abbreviation\": \"MT\", \"Co2-Emissions\": 1342, \"Gasoline Price\": 1.36, \"GDP\": 14786156563, \"Life expectancy\": 82.3, \"Physicians per thousand\": 2.86, \"Population\": 502653, \"Region\": \"Europe\", \"Co2-Emissions per million people\": 2669.8338615307184, \"GDP per capita\": 29416.230606402427}, {\"Country\": \"Marshall Islands\", \"Abbreviation\": \"MH\", \"Co2-Emissions\": 143, \"Gasoline Price\": 1.44, \"GDP\": 221278000, \"Life expectancy\": 65.2, \"Physicians per thousand\": 0.42, \"Population\": 58791, \"Region\": \"Oceania\", \"Co2-Emissions per million people\": 2432.3450868330183, \"GDP per capita\": 3763.8073854841728}, {\"Country\": \"Mauritania\", \"Abbreviation\": \"MR\", \"Co2-Emissions\": 2739, \"Gasoline Price\": 1.13, \"GDP\": 7593752450, \"Life expectancy\": 64.7, \"Physicians per thousand\": 0.19, \"Population\": 4525696, \"Region\": \"Africa\", \"Co2-Emissions per million people\": 605.2107786294085, \"GDP per capita\": 1677.9192526409197}, {\"Country\": \"Mauritius\", \"Abbreviation\": \"MU\", \"Co2-Emissions\": 4349, \"Gasoline Price\": 1.12, \"GDP\": 14180444557, \"Life expectancy\": 74.4, \"Physicians per thousand\": 2.53, \"Population\": 1265711, \"Region\": \"Africa\", \"Co2-Emissions per million people\": 3436.0134343463874, \"GDP per capita\": 11203.540584699034}, {\"Country\": \"Mexico\", \"Abbreviation\": \"MX\", \"Co2-Emissions\": 486406, \"Gasoline Price\": 0.73, \"GDP\": 1258286717125, \"Life expectancy\": 75.0, \"Physicians per thousand\": 2.38, \"Population\": 126014024, \"Region\": \"Americas\", \"Co2-Emissions per million people\": 3859.93546242123, \"GDP per capita\": 9985.29113811174}, {\"Country\": \"Moldova\", \"Abbreviation\": \"MD\", \"Co2-Emissions\": 5115, \"Gasoline Price\": 0.8, \"GDP\": 11955435457, \"Life expectancy\": 71.8, \"Physicians per thousand\": 3.21, \"Population\": 2657637, \"Region\": \"Europe\", \"Co2-Emissions per million people\": 1924.642078658598, \"GDP per capita\": 4498.520850289186}, {\"Country\": \"Mongolia\", \"Abbreviation\": \"MN\", \"Co2-Emissions\": 25368, \"Gasoline Price\": 0.72, \"GDP\": 13852850259, \"Life expectancy\": 69.7, \"Physicians per thousand\": 2.86, \"Population\": 3225167, \"Region\": \"Asia\", \"Co2-Emissions per million people\": 7865.639205659738, \"GDP per capita\": 4295.235024728952}, {\"Country\": \"Montenegro\", \"Abbreviation\": \"ME\", \"Co2-Emissions\": 2017, \"Gasoline Price\": 1.16, \"GDP\": 5494736901, \"Life expectancy\": 76.8, \"Physicians per thousand\": 2.76, \"Population\": 622137, \"Region\": \"Europe\", \"Co2-Emissions per million people\": 3242.0511880823674, \"GDP per capita\": 8832.036835938065}, {\"Country\": \"Morocco\", \"Abbreviation\": \"MA\", \"Co2-Emissions\": 61276, \"Gasoline Price\": 0.99, \"GDP\": 118725279596, \"Life expectancy\": 76.5, \"Physicians per thousand\": 0.73, \"Population\": 36910560, \"Region\": \"Africa\", \"Co2-Emissions per million people\": 1660.1211143911119, \"GDP per capita\": 3216.5667385160236}, {\"Country\": \"Mozambique\", \"Abbreviation\": \"MZ\", \"Co2-Emissions\": 7943, \"Gasoline Price\": 0.65, \"GDP\": 14934159926, \"Life expectancy\": 60.2, \"Physicians per thousand\": 0.08, \"Population\": 30366036, \"Region\": \"Africa\", \"Co2-Emissions per million people\": 261.57513611588945, \"GDP per capita\": 491.80472307942995}, {\"Country\": \"Myanmar\", \"Abbreviation\": \"MM\", \"Co2-Emissions\": 25280, \"Gasoline Price\": 0.54, \"GDP\": 76085852617, \"Life expectancy\": 66.9, \"Physicians per thousand\": 0.68, \"Population\": 54045420, \"Region\": \"Asia\", \"Co2-Emissions per million people\": 467.75471446054075, \"GDP per capita\": 1407.8131434078966}, {\"Country\": \"Nepal\", \"Abbreviation\": \"NP\", \"Co2-Emissions\": 9105, \"Gasoline Price\": 0.91, \"GDP\": 30641380604, \"Life expectancy\": 70.5, \"Physicians per thousand\": 0.75, \"Population\": 28608710, \"Region\": \"Asia\", \"Co2-Emissions per million people\": 318.25971880591607, \"GDP per capita\": 1071.0507605550897}, {\"Country\": \"Netherlands\", \"Abbreviation\": \"NL\", \"Co2-Emissions\": 170780, \"Gasoline Price\": 1.68, \"GDP\": 909070395161, \"Life expectancy\": 81.8, \"Physicians per thousand\": 3.61, \"Population\": 17332850, \"Region\": \"Europe\", \"Co2-Emissions per million people\": 9852.967053889004, \"GDP per capita\": 52447.83143920359}, {\"Country\": \"New Zealand\", \"Abbreviation\": \"NZ\", \"Co2-Emissions\": 34382, \"Gasoline Price\": 1.4, \"GDP\": 206928765544, \"Life expectancy\": 81.9, \"Physicians per thousand\": 3.59, \"Population\": 4841000, \"Region\": \"Oceania\", \"Co2-Emissions per million people\": 7102.251600908903, \"GDP per capita\": 42745.04555752943}, {\"Country\": \"Nicaragua\", \"Abbreviation\": \"NI\", \"Co2-Emissions\": 5592, \"Gasoline Price\": 0.91, \"GDP\": 12520915291, \"Life expectancy\": 74.3, \"Physicians per thousand\": 0.98, \"Population\": 6545502, \"Region\": \"Americas\", \"Co2-Emissions per million people\": 854.3271394615723, \"GDP per capita\": 1912.903745350624}, {\"Country\": \"Niger\", \"Abbreviation\": \"NE\", \"Co2-Emissions\": 2017, \"Gasoline Price\": 0.88, \"GDP\": 12928145120, \"Life expectancy\": 62.0, \"Physicians per thousand\": 0.04, \"Population\": 23310715, \"Region\": \"Africa\", \"Co2-Emissions per million people\": 86.52673244900468, \"GDP per capita\": 554.6009686961554}, {\"Country\": \"Nigeria\", \"Abbreviation\": \"NG\", \"Co2-Emissions\": 120369, \"Gasoline Price\": 0.46, \"GDP\": 448120428859, \"Life expectancy\": 54.3, \"Physicians per thousand\": 0.38, \"Population\": 200963599, \"Region\": \"Africa\", \"Co2-Emissions per million people\": 598.9592174849536, \"GDP per capita\": 2229.858696245781}, {\"Country\": \"North Korea\", \"Abbreviation\": \"KP\", \"Co2-Emissions\": 28284, \"Gasoline Price\": 0.58, \"GDP\": 32100000000, \"Life expectancy\": 72.1, \"Physicians per thousand\": 3.67, \"Population\": 25666161, \"Region\": \"Asia\", \"Co2-Emissions per million people\": 1101.9957367212025, \"GDP per capita\": 1250.6739905512165}, {\"Country\": \"Norway\", \"Abbreviation\": \"NO\", \"Co2-Emissions\": 41023, \"Gasoline Price\": 1.78, \"GDP\": 403336363636, \"Life expectancy\": 82.8, \"Physicians per thousand\": 2.92, \"Population\": 5347896, \"Region\": \"Europe\", \"Co2-Emissions per million people\": 7670.867197118268, \"GDP per capita\": 75419.6348687409}, {\"Country\": \"Oman\", \"Abbreviation\": \"OM\", \"Co2-Emissions\": 63457, \"Gasoline Price\": 0.45, \"GDP\": 76983094928, \"Life expectancy\": 77.6, \"Physicians per thousand\": 2.0, \"Population\": 5266535, \"Region\": \"Asia\", \"Co2-Emissions per million people\": 12049.098695821827, \"GDP per capita\": 14617.408775978893}, {\"Country\": \"Pakistan\", \"Abbreviation\": \"PK\", \"Co2-Emissions\": 201150, \"Gasoline Price\": 0.79, \"GDP\": 304400000000, \"Life expectancy\": 67.1, \"Physicians per thousand\": 0.98, \"Population\": 216565318, \"Region\": \"Asia\", \"Co2-Emissions per million people\": 928.8190826566238, \"GDP per capita\": 1405.5805556086316}, {\"Country\": \"Panama\", \"Abbreviation\": \"PA\", \"Co2-Emissions\": 10715, \"Gasoline Price\": 0.74, \"GDP\": 66800800000, \"Life expectancy\": 78.3, \"Physicians per thousand\": 1.57, \"Population\": 4246439, \"Region\": \"Americas\", \"Co2-Emissions per million people\": 2523.290691329841, \"GDP per capita\": 15731.01603484708}, {\"Country\": \"Papua New Guinea\", \"Abbreviation\": \"PG\", \"Co2-Emissions\": 7536, \"Gasoline Price\": 1.36, \"GDP\": 24969611435, \"Life expectancy\": 64.3, \"Physicians per thousand\": 0.07, \"Population\": 8776109, \"Region\": \"Oceania\", \"Co2-Emissions per million people\": 858.694895425752, \"GDP per capita\": 2845.180185774812}, {\"Country\": \"Paraguay\", \"Abbreviation\": \"PY\", \"Co2-Emissions\": 7407, \"Gasoline Price\": 1.04, \"GDP\": 38145288940, \"Life expectancy\": 74.1, \"Physicians per thousand\": 1.35, \"Population\": 7044636, \"Region\": \"Americas\", \"Co2-Emissions per million people\": 1051.4382858106508, \"GDP per capita\": 5414.799137954041}, {\"Country\": \"Peru\", \"Abbreviation\": \"PE\", \"Co2-Emissions\": 57414, \"Gasoline Price\": 0.99, \"GDP\": 226848050820, \"Life expectancy\": 76.5, \"Physicians per thousand\": 1.27, \"Population\": 32510453, \"Region\": \"Americas\", \"Co2-Emissions per million people\": 1766.0166101038333, \"GDP per capita\": 6977.695783568442}, {\"Country\": \"Philippines\", \"Abbreviation\": \"PH\", \"Co2-Emissions\": 122287, \"Gasoline Price\": 0.86, \"GDP\": 376795508680, \"Life expectancy\": 71.1, \"Physicians per thousand\": 0.6, \"Population\": 108116615, \"Region\": \"Asia\", \"Co2-Emissions per million people\": 1131.065747850134, \"GDP per capita\": 3485.0842183692116}, {\"Country\": \"Poland\", \"Abbreviation\": \"PL\", \"Co2-Emissions\": 299037, \"Gasoline Price\": 1.07, \"GDP\": 592164400688, \"Life expectancy\": 77.6, \"Physicians per thousand\": 2.38, \"Population\": 37970874, \"Region\": \"Europe\", \"Co2-Emissions per million people\": 7875.431047491822, \"GDP per capita\": 15595.227033436207}, {\"Country\": \"Portugal\", \"Abbreviation\": \"PT\", \"Co2-Emissions\": 48742, \"Gasoline Price\": 1.54, \"GDP\": 237686075635, \"Life expectancy\": 81.3, \"Physicians per thousand\": 5.12, \"Population\": 10269417, \"Region\": \"Europe\", \"Co2-Emissions per million people\": 4746.32591119827, \"GDP per capita\": 23145.04081731222}, {\"Country\": \"Qatar\", \"Abbreviation\": \"QA\", \"Co2-Emissions\": 103259, \"Gasoline Price\": 0.4, \"GDP\": 183466208791, \"Life expectancy\": 80.1, \"Physicians per thousand\": 2.49, \"Population\": 2832067, \"Region\": \"Asia\", \"Co2-Emissions per million people\": 36460.648706404194, \"GDP per capita\": 64781.73319734314}, {\"Country\": \"Romania\", \"Abbreviation\": \"RO\", \"Co2-Emissions\": 69259, \"Gasoline Price\": 1.16, \"GDP\": 250077444017, \"Life expectancy\": 75.4, \"Physicians per thousand\": 2.98, \"Population\": 19356544, \"Region\": \"Europe\", \"Co2-Emissions per million people\": 3578.0664151617148, \"GDP per capita\": 12919.529644186483}, {\"Country\": \"Russia\", \"Abbreviation\": \"RU\", \"Co2-Emissions\": 1732027, \"Gasoline Price\": 0.59, \"GDP\": 1699876578871, \"Life expectancy\": 72.7, \"Physicians per thousand\": 4.01, \"Population\": 144373535, \"Region\": \"Europe\", \"Co2-Emissions per million people\": 11996.845543748721, \"GDP per capita\": 11774.156384485565}, {\"Country\": \"Rwanda\", \"Abbreviation\": \"RW\", \"Co2-Emissions\": 1115, \"Gasoline Price\": 1.17, \"GDP\": 10122472590, \"Life expectancy\": 68.7, \"Physicians per thousand\": 0.13, \"Population\": 12626950, \"Region\": \"Africa\", \"Co2-Emissions per million people\": 88.30319277418538, \"GDP per capita\": 801.6561869651816}, {\"Country\": \"Saint Lucia\", \"Abbreviation\": \"LC\", \"Co2-Emissions\": 414, \"Gasoline Price\": 1.3, \"GDP\": 2122450630, \"Life expectancy\": 76.1, \"Physicians per thousand\": 0.64, \"Population\": 182790, \"Region\": \"Americas\", \"Co2-Emissions per million people\": 2264.8941408173314, \"GDP per capita\": 11611.415449422835}, {\"Country\": \"Samoa\", \"Abbreviation\": \"WS\", \"Co2-Emissions\": 246, \"Gasoline Price\": 0.91, \"GDP\": 850655017, \"Life expectancy\": 73.2, \"Physicians per thousand\": 0.34, \"Population\": 202506, \"Region\": \"Oceania\", \"Co2-Emissions per million people\": 1214.7788213682556, \"GDP per capita\": 4200.641052610787}, {\"Country\": \"Saudi Arabia\", \"Abbreviation\": \"SA\", \"Co2-Emissions\": 563449, \"Gasoline Price\": 0.24, \"GDP\": 792966838162, \"Life expectancy\": 75.0, \"Physicians per thousand\": 2.61, \"Population\": 34268528, \"Region\": \"Asia\", \"Co2-Emissions per million people\": 16442.171078956177, \"GDP per capita\": 23139.798656131363}, {\"Country\": \"Senegal\", \"Abbreviation\": \"SN\", \"Co2-Emissions\": 10902, \"Gasoline Price\": 1.14, \"GDP\": 23578084052, \"Life expectancy\": 67.7, \"Physicians per thousand\": 0.07, \"Population\": 16296364, \"Region\": \"Africa\", \"Co2-Emissions per million people\": 668.9835843136543, \"GDP per capita\": 1446.8309649931728}, {\"Country\": \"Serbia\", \"Abbreviation\": \"RS\", \"Co2-Emissions\": 45221, \"Gasoline Price\": 1.16, \"GDP\": 51409167351, \"Life expectancy\": 75.5, \"Physicians per thousand\": 3.11, \"Population\": 6944975, \"Region\": \"Europe\", \"Co2-Emissions per million people\": 6511.326534652752, \"GDP per capita\": 7402.354558655718}, {\"Country\": \"Sierra Leone\", \"Abbreviation\": \"SL\", \"Co2-Emissions\": 1093, \"Gasoline Price\": 1.08, \"GDP\": 3941474311, \"Life expectancy\": 54.3, \"Physicians per thousand\": 0.03, \"Population\": 7813215, \"Region\": \"Africa\", \"Co2-Emissions per million people\": 139.89119715763616, \"GDP per capita\": 504.4625433960284}, {\"Country\": \"Singapore\", \"Abbreviation\": \"SG\", \"Co2-Emissions\": 37535, \"Gasoline Price\": 1.25, \"GDP\": 372062527489, \"Life expectancy\": 83.1, \"Physicians per thousand\": 2.29, \"Population\": 5703569, \"Region\": \"Asia\", \"Co2-Emissions per million people\": 6580.967110242727, \"GDP per capita\": 65233.28243929371}, {\"Country\": \"Slovakia\", \"Abbreviation\": \"SK\", \"Co2-Emissions\": 32424, \"Gasoline Price\": 1.32, \"GDP\": 105422304976, \"Life expectancy\": 77.2, \"Physicians per thousand\": 3.42, \"Population\": 5454073, \"Region\": \"Europe\", \"Co2-Emissions per million people\": 5944.914928714742, \"GDP per capita\": 19329.0968008679}, {\"Country\": \"Slovenia\", \"Abbreviation\": \"SI\", \"Co2-Emissions\": 12633, \"Gasoline Price\": 1.32, \"GDP\": 53742159517, \"Life expectancy\": 81.0, \"Physicians per thousand\": 3.09, \"Population\": 2087946, \"Region\": \"Europe\", \"Co2-Emissions per million people\": 6050.4438333175285, \"GDP per capita\": 25739.247814359183}, {\"Country\": \"Somalia\", \"Abbreviation\": \"SO\", \"Co2-Emissions\": 645, \"Gasoline Price\": 1.41, \"GDP\": 4720727278, \"Life expectancy\": 57.1, \"Physicians per thousand\": 0.02, \"Population\": 15442905, \"Region\": \"Africa\", \"Co2-Emissions per million people\": 41.76675308175501, \"GDP per capita\": 305.689070676793}, {\"Country\": \"South Africa\", \"Abbreviation\": \"ZA\", \"Co2-Emissions\": 476644, \"Gasoline Price\": 0.92, \"GDP\": 351431649241, \"Life expectancy\": 63.9, \"Physicians per thousand\": 0.91, \"Population\": 58558270, \"Region\": \"Africa\", \"Co2-Emissions per million people\": 8139.653032782559, \"GDP per capita\": 6001.400813941395}, {\"Country\": \"South Korea\", \"Abbreviation\": \"KR\", \"Co2-Emissions\": 620302, \"Gasoline Price\": 1.22, \"GDP\": 2029000000000, \"Life expectancy\": 82.6, \"Physicians per thousand\": 2.36, \"Population\": 51709098, \"Region\": \"Asia\", \"Co2-Emissions per million people\": 11995.993432335641, \"GDP per capita\": 39238.74286107253}, {\"Country\": \"Spain\", \"Abbreviation\": \"ES\", \"Co2-Emissions\": 244002, \"Gasoline Price\": 1.26, \"GDP\": 1394116310769, \"Life expectancy\": 83.3, \"Physicians per thousand\": 3.87, \"Population\": 47076781, \"Region\": \"Europe\", \"Co2-Emissions per million people\": 5183.064661961487, \"GDP per capita\": 29613.67113798626}, {\"Country\": \"Sri Lanka\", \"Abbreviation\": \"LK\", \"Co2-Emissions\": 23362, \"Gasoline Price\": 0.88, \"GDP\": 84008783756, \"Life expectancy\": 76.8, \"Physicians per thousand\": 1.0, \"Population\": 21803000, \"Region\": \"Asia\", \"Co2-Emissions per million people\": 1071.5039214786955, \"GDP per capita\": 3853.0836928863}, {\"Country\": \"Sudan\", \"Abbreviation\": \"SD\", \"Co2-Emissions\": 20000, \"Gasoline Price\": 0.95, \"GDP\": 18902284476, \"Life expectancy\": 65.1, \"Physicians per thousand\": 0.26, \"Population\": 42813238, \"Region\": \"Africa\", \"Co2-Emissions per million people\": 467.14523204248184, \"GDP per capita\": 441.5056033837011}, {\"Country\": \"Suriname\", \"Abbreviation\": \"SR\", \"Co2-Emissions\": 1738, \"Gasoline Price\": 1.29, \"GDP\": 3985250737, \"Life expectancy\": 71.6, \"Physicians per thousand\": 1.21, \"Population\": 581372, \"Region\": \"Americas\", \"Co2-Emissions per million people\": 2989.48005751911, \"GDP per capita\": 6854.906560687477}, {\"Country\": \"Sweden\", \"Abbreviation\": \"SE\", \"Co2-Emissions\": 43252, \"Gasoline Price\": 1.42, \"GDP\": 530832908738, \"Life expectancy\": 82.5, \"Physicians per thousand\": 3.98, \"Population\": 10285453, \"Region\": \"Europe\", \"Co2-Emissions per million people\": 4205.162378360973, \"GDP per capita\": 51610.06605523354}, {\"Country\": \"Switzerland\", \"Abbreviation\": \"CH\", \"Co2-Emissions\": 34477, \"Gasoline Price\": 1.45, \"GDP\": 703082435360, \"Life expectancy\": 83.6, \"Physicians per thousand\": 4.3, \"Population\": 8574832, \"Region\": \"Europe\", \"Co2-Emissions per million people\": 4020.7201727100896, \"GDP per capita\": 81993.72714940654}, {\"Country\": \"Syria\", \"Abbreviation\": \"SY\", \"Co2-Emissions\": 28830, \"Gasoline Price\": 0.83, \"GDP\": 40405006007, \"Life expectancy\": 71.8, \"Physicians per thousand\": 1.22, \"Population\": 17070135, \"Region\": \"Asia\", \"Co2-Emissions per million people\": 1688.9145867914929, \"GDP per capita\": 2366.999792737433}, {\"Country\": \"Tajikistan\", \"Abbreviation\": \"TJ\", \"Co2-Emissions\": 5310, \"Gasoline Price\": 0.71, \"GDP\": 8116626794, \"Life expectancy\": 70.9, \"Physicians per thousand\": 1.7, \"Population\": 9321018, \"Region\": \"Asia\", \"Co2-Emissions per million people\": 569.6802645376288, \"GDP per capita\": 870.787589295504}, {\"Country\": \"Tanzania\", \"Abbreviation\": \"TZ\", \"Co2-Emissions\": 11973, \"Gasoline Price\": 0.87, \"GDP\": 63177068175, \"Life expectancy\": 65.0, \"Physicians per thousand\": 0.01, \"Population\": 58005463, \"Region\": \"Africa\", \"Co2-Emissions per million people\": 206.4115926460237, \"GDP per capita\": 1089.1572087787663}, {\"Country\": \"Thailand\", \"Abbreviation\": \"TH\", \"Co2-Emissions\": 283763, \"Gasoline Price\": 0.71, \"GDP\": 543649976166, \"Life expectancy\": 76.9, \"Physicians per thousand\": 0.81, \"Population\": 69625582, \"Region\": \"Asia\", \"Co2-Emissions per million people\": 4075.556596424573, \"GDP per capita\": 7808.192916304814}, {\"Country\": \"East Timor\", \"Abbreviation\": \"TL\", \"Co2-Emissions\": 495, \"Gasoline Price\": 1.1, \"GDP\": 1673540300, \"Life expectancy\": 69.3, \"Physicians per thousand\": 0.72, \"Population\": 3500000, \"Region\": \"Asia\", \"Co2-Emissions per million people\": 141.42857142857142, \"GDP per capita\": 478.15437142857144}, {\"Country\": \"Togo\", \"Abbreviation\": \"TG\", \"Co2-Emissions\": 3000, \"Gasoline Price\": 0.71, \"GDP\": 5459979417, \"Life expectancy\": 60.8, \"Physicians per thousand\": 0.08, \"Population\": 8082366, \"Region\": \"Africa\", \"Co2-Emissions per million people\": 371.1784395806871, \"GDP per capita\": 675.5422133815766}, {\"Country\": \"Trinidad and Tobago\", \"Abbreviation\": \"TT\", \"Co2-Emissions\": 43868, \"Gasoline Price\": 0.54, \"GDP\": 24100202834, \"Life expectancy\": 73.4, \"Physicians per thousand\": 4.17, \"Population\": 1394973, \"Region\": \"Americas\", \"Co2-Emissions per million people\": 31447.203637633127, \"GDP per capita\": 17276.465447001483}, {\"Country\": \"Tunisia\", \"Abbreviation\": \"TN\", \"Co2-Emissions\": 29937, \"Gasoline Price\": 0.73, \"GDP\": 38797709924, \"Life expectancy\": 76.5, \"Physicians per thousand\": 1.3, \"Population\": 11694719, \"Region\": \"Africa\", \"Co2-Emissions per million people\": 2559.873392426103, \"GDP per capita\": 3317.5410135121674}, {\"Country\": \"Turkey\", \"Abbreviation\": \"TR\", \"Co2-Emissions\": 372725, \"Gasoline Price\": 1.42, \"GDP\": 754411708203, \"Life expectancy\": 77.4, \"Physicians per thousand\": 1.85, \"Population\": 83429615, \"Region\": \"Asia\", \"Co2-Emissions per million people\": 4467.538295604025, \"GDP per capita\": 9042.492982893424}, {\"Country\": \"Turkmenistan\", \"Abbreviation\": \"TM\", \"Co2-Emissions\": 70630, \"Gasoline Price\": 0.29, \"GDP\": 40761142857, \"Life expectancy\": 68.1, \"Physicians per thousand\": 2.22, \"Population\": 5942089, \"Region\": \"Asia\", \"Co2-Emissions per million people\": 11886.392142561312, \"GDP per capita\": 6859.732807266939}, {\"Country\": \"Uganda\", \"Abbreviation\": \"UG\", \"Co2-Emissions\": 5680, \"Gasoline Price\": 0.94, \"GDP\": 34387229486, \"Life expectancy\": 63.0, \"Physicians per thousand\": 0.17, \"Population\": 44269594, \"Region\": \"Africa\", \"Co2-Emissions per million people\": 128.3047682795555, \"GDP per capita\": 776.7685758762549}, {\"Country\": \"Ukraine\", \"Abbreviation\": \"UA\", \"Co2-Emissions\": 202250, \"Gasoline Price\": 0.83, \"GDP\": 153781069118, \"Life expectancy\": 71.6, \"Physicians per thousand\": 2.99, \"Population\": 44385155, \"Region\": \"Europe\", \"Co2-Emissions per million people\": 4556.703699694189, \"GDP per capita\": 3464.696002931611}, {\"Country\": \"United Arab Emirates\", \"Abbreviation\": \"AE\", \"Co2-Emissions\": 206324, \"Gasoline Price\": 0.49, \"GDP\": 421142267938, \"Life expectancy\": 77.8, \"Physicians per thousand\": 2.53, \"Population\": 9770529, \"Region\": \"Asia\", \"Co2-Emissions per million people\": 21116.97329796575, \"GDP per capita\": 43103.32305835232}, {\"Country\": \"United Kingdom\", \"Abbreviation\": \"GB\", \"Co2-Emissions\": 379025, \"Gasoline Price\": 1.46, \"GDP\": 2827113184696, \"Life expectancy\": 81.3, \"Physicians per thousand\": 2.81, \"Population\": 66834405, \"Region\": \"Europe\", \"Co2-Emissions per million people\": 5671.106071790419, \"GDP per capita\": 42300.26712583137}, {\"Country\": \"United States\", \"Abbreviation\": \"US\", \"Co2-Emissions\": 5006302, \"Gasoline Price\": 0.71, \"GDP\": 21427700000000, \"Life expectancy\": 78.5, \"Physicians per thousand\": 2.61, \"Population\": 328239523, \"Region\": \"Americas\", \"Co2-Emissions per million people\": 15251.978050187454, \"GDP per capita\": 65280.6822413034}, {\"Country\": \"Uruguay\", \"Abbreviation\": \"UY\", \"Co2-Emissions\": 6766, \"Gasoline Price\": 1.5, \"GDP\": 56045912952, \"Life expectancy\": 77.8, \"Physicians per thousand\": 5.05, \"Population\": 3461734, \"Region\": \"Americas\", \"Co2-Emissions per million people\": 1954.5118140215282, \"GDP per capita\": 16190.126957183886}, {\"Country\": \"Uzbekistan\", \"Abbreviation\": \"UZ\", \"Co2-Emissions\": 91811, \"Gasoline Price\": 1.03, \"GDP\": 57921286440, \"Life expectancy\": 71.6, \"Physicians per thousand\": 2.37, \"Population\": 33580650, \"Region\": \"Asia\", \"Co2-Emissions per million people\": 2734.044754940717, \"GDP per capita\": 1724.8411344032947}, {\"Country\": \"Vanuatu\", \"Abbreviation\": \"VU\", \"Co2-Emissions\": 147, \"Gasoline Price\": 1.31, \"GDP\": 917058851, \"Life expectancy\": 70.3, \"Physicians per thousand\": 0.17, \"Population\": 299882, \"Region\": \"Oceania\", \"Co2-Emissions per million people\": 490.1928091716075, \"GDP per capita\": 3058.065675832494}, {\"Country\": \"Venezuela\", \"Abbreviation\": \"VE\", \"Co2-Emissions\": 164175, \"Gasoline Price\": 0.0, \"GDP\": 482359318768, \"Life expectancy\": 72.1, \"Physicians per thousand\": 1.92, \"Population\": 28515829, \"Region\": \"Americas\", \"Co2-Emissions per million people\": 5757.328675242092, \"GDP per capita\": 16915.49345340793}, {\"Country\": \"Vietnam\", \"Abbreviation\": \"VN\", \"Co2-Emissions\": 192668, \"Gasoline Price\": 0.8, \"GDP\": 261921244843, \"Life expectancy\": 75.3, \"Physicians per thousand\": 0.82, \"Population\": 96462106, \"Region\": \"Asia\", \"Co2-Emissions per million people\": 1997.343910364138, \"GDP per capita\": 2715.276036405425}, {\"Country\": \"Yemen\", \"Abbreviation\": \"YE\", \"Co2-Emissions\": 10609, \"Gasoline Price\": 0.92, \"GDP\": 26914402224, \"Life expectancy\": 66.1, \"Physicians per thousand\": 0.31, \"Population\": 29161922, \"Region\": \"Asia\", \"Co2-Emissions per million people\": 363.79632316415905, \"GDP per capita\": 922.9296417430922}, {\"Country\": \"Zambia\", \"Abbreviation\": \"ZM\", \"Co2-Emissions\": 5141, \"Gasoline Price\": 1.4, \"GDP\": 23064722446, \"Life expectancy\": 63.5, \"Physicians per thousand\": 1.19, \"Population\": 17861030, \"Region\": \"Africa\", \"Co2-Emissions per million people\": 287.8333444375828, \"GDP per capita\": 1291.3433573539712}, {\"Country\": \"Zimbabwe\", \"Abbreviation\": \"ZW\", \"Co2-Emissions\": 10983, \"Gasoline Price\": 1.34, \"GDP\": 21440758800, \"Life expectancy\": 61.2, \"Physicians per thousand\": 0.21, \"Population\": 14645468, \"Region\": \"Africa\", \"Co2-Emissions per million people\": 749.9248231603115, \"GDP per capita\": 1463.9859101805419}]}}, {\"mode\": \"vega-lite\"});\n",
       "</script>"
      ],
      "text/plain": [
       "alt.VConcatChart(...)"
      ]
     },
     "execution_count": 20,
     "metadata": {},
     "output_type": "execute_result"
    }
   ],
   "source": [
    "# same graphs with altair\n",
    "import altair as alt\n",
    "import pandas as pd\n",
    "\n",
    "# Assuming `data` is your cleaned DataFrame\n",
    "\n",
    "# Scatter Plot 1: GDP per Capita vs Life Expectancy\n",
    "scatter_gdp_life = alt.Chart(data).mark_circle().encode(\n",
    "    x=alt.X('GDP per capita:Q', scale=alt.Scale(type='log'), title='GDP per Capita (Log Scale)'),\n",
    "    y=alt.Y('Life expectancy:Q', title='Life Expectancy'),\n",
    "    size=alt.Size('Population:Q', scale=alt.Scale(range=[10, 100]), title='Population'),\n",
    "    color=alt.Color('Region:N', legend=alt.Legend(title=\"Region\")),\n",
    "    tooltip=['Country:N', 'GDP per capita:Q', 'Life expectancy:Q', 'Population:Q']\n",
    ").properties(\n",
    "    title='Scatter Plot of GDP per Capita vs Life Expectancy',\n",
    "    width=600,\n",
    "    height=400\n",
    ").interactive()\n",
    "\n",
    "# Scatter Plot 2: GDP per Capita vs CO2 Emissions\n",
    "scatter_gdp_co2 = alt.Chart(data).mark_circle().encode(\n",
    "    x=alt.X('GDP per capita:Q', scale=alt.Scale(type='log'), title='GDP per Capita (Log Scale)'),\n",
    "    y=alt.Y('Co2-Emissions per million people:Q', scale=alt.Scale(type='log'), title='CO2 Emissions per Million People (Log Scale)'),\n",
    "    size=alt.Size('Population:Q', scale=alt.Scale(range=[10, 100]), title='Population'),\n",
    "    color=alt.Color('Region:N', legend=alt.Legend(title=\"Region\")),\n",
    "    tooltip=['Country:N', 'GDP per capita:Q', 'Co2-Emissions per million people:Q', 'Population:Q']\n",
    ").properties(\n",
    "    title='Scatter Plot of GDP per Capita vs CO2 Emissions per Million People',\n",
    "    width=600,\n",
    "    height=400\n",
    ").interactive()\n",
    "\n",
    "# Display both charts\n",
    "scatter_gdp_life & scatter_gdp_co2\n"
   ]
  },
  {
   "cell_type": "code",
   "execution_count": 14,
   "id": "d1549bb0",
   "metadata": {
    "execution": {
     "iopub.execute_input": "2024-03-15T17:34:59.782107Z",
     "iopub.status.busy": "2024-03-15T17:34:59.781761Z",
     "iopub.status.idle": "2024-03-15T17:35:00.092463Z",
     "shell.execute_reply": "2024-03-15T17:35:00.091431Z"
    },
    "papermill": {
     "duration": 0.318673,
     "end_time": "2024-03-15T17:35:00.094577",
     "exception": false,
     "start_time": "2024-03-15T17:34:59.775904",
     "status": "completed"
    },
    "tags": []
   },
   "outputs": [
    {
     "data": {
      "text/html": [
       "<div>\n",
       "<style scoped>\n",
       "    .dataframe tbody tr th:only-of-type {\n",
       "        vertical-align: middle;\n",
       "    }\n",
       "\n",
       "    .dataframe tbody tr th {\n",
       "        vertical-align: top;\n",
       "    }\n",
       "\n",
       "    .dataframe thead th {\n",
       "        text-align: right;\n",
       "    }\n",
       "</style>\n",
       "<table border=\"1\" class=\"dataframe\">\n",
       "  <thead>\n",
       "    <tr style=\"text-align: right;\">\n",
       "      <th></th>\n",
       "      <th>Co2-Emissions</th>\n",
       "      <th>Gasoline Price</th>\n",
       "      <th>GDP</th>\n",
       "      <th>Life expectancy</th>\n",
       "      <th>Physicians per thousand</th>\n",
       "      <th>Population</th>\n",
       "      <th>Co2-Emissions per million people</th>\n",
       "      <th>GDP per capita</th>\n",
       "    </tr>\n",
       "  </thead>\n",
       "  <tbody>\n",
       "    <tr>\n",
       "      <th>Co2-Emissions</th>\n",
       "      <td>1.000000</td>\n",
       "      <td>-0.068370</td>\n",
       "      <td>0.916452</td>\n",
       "      <td>0.118969</td>\n",
       "      <td>0.051960</td>\n",
       "      <td>0.808846</td>\n",
       "      <td>0.162252</td>\n",
       "      <td>0.122478</td>\n",
       "    </tr>\n",
       "    <tr>\n",
       "      <th>Gasoline Price</th>\n",
       "      <td>-0.068370</td>\n",
       "      <td>1.000000</td>\n",
       "      <td>-0.015663</td>\n",
       "      <td>0.207519</td>\n",
       "      <td>0.214098</td>\n",
       "      <td>-0.067203</td>\n",
       "      <td>-0.251349</td>\n",
       "      <td>0.287392</td>\n",
       "    </tr>\n",
       "    <tr>\n",
       "      <th>GDP</th>\n",
       "      <td>0.916452</td>\n",
       "      <td>-0.015663</td>\n",
       "      <td>1.000000</td>\n",
       "      <td>0.178570</td>\n",
       "      <td>0.092027</td>\n",
       "      <td>0.629414</td>\n",
       "      <td>0.193303</td>\n",
       "      <td>0.250594</td>\n",
       "    </tr>\n",
       "    <tr>\n",
       "      <th>Life expectancy</th>\n",
       "      <td>0.118969</td>\n",
       "      <td>0.207519</td>\n",
       "      <td>0.178570</td>\n",
       "      <td>1.000000</td>\n",
       "      <td>0.694479</td>\n",
       "      <td>0.000042</td>\n",
       "      <td>0.463425</td>\n",
       "      <td>0.656078</td>\n",
       "    </tr>\n",
       "    <tr>\n",
       "      <th>Physicians per thousand</th>\n",
       "      <td>0.051960</td>\n",
       "      <td>0.214098</td>\n",
       "      <td>0.092027</td>\n",
       "      <td>0.694479</td>\n",
       "      <td>1.000000</td>\n",
       "      <td>-0.061287</td>\n",
       "      <td>0.412245</td>\n",
       "      <td>0.515133</td>\n",
       "    </tr>\n",
       "    <tr>\n",
       "      <th>Population</th>\n",
       "      <td>0.808846</td>\n",
       "      <td>-0.067203</td>\n",
       "      <td>0.629414</td>\n",
       "      <td>0.000042</td>\n",
       "      <td>-0.061287</td>\n",
       "      <td>1.000000</td>\n",
       "      <td>-0.000570</td>\n",
       "      <td>-0.032219</td>\n",
       "    </tr>\n",
       "    <tr>\n",
       "      <th>Co2-Emissions per million people</th>\n",
       "      <td>0.162252</td>\n",
       "      <td>-0.251349</td>\n",
       "      <td>0.193303</td>\n",
       "      <td>0.463425</td>\n",
       "      <td>0.412245</td>\n",
       "      <td>-0.000570</td>\n",
       "      <td>1.000000</td>\n",
       "      <td>0.579773</td>\n",
       "    </tr>\n",
       "    <tr>\n",
       "      <th>GDP per capita</th>\n",
       "      <td>0.122478</td>\n",
       "      <td>0.287392</td>\n",
       "      <td>0.250594</td>\n",
       "      <td>0.656078</td>\n",
       "      <td>0.515133</td>\n",
       "      <td>-0.032219</td>\n",
       "      <td>0.579773</td>\n",
       "      <td>1.000000</td>\n",
       "    </tr>\n",
       "  </tbody>\n",
       "</table>\n",
       "</div>"
      ],
      "text/plain": [
       "                                  Co2-Emissions  Gasoline Price       GDP  \\\n",
       "Co2-Emissions                          1.000000       -0.068370  0.916452   \n",
       "Gasoline Price                        -0.068370        1.000000 -0.015663   \n",
       "GDP                                    0.916452       -0.015663  1.000000   \n",
       "Life expectancy                        0.118969        0.207519  0.178570   \n",
       "Physicians per thousand                0.051960        0.214098  0.092027   \n",
       "Population                             0.808846       -0.067203  0.629414   \n",
       "Co2-Emissions per million people       0.162252       -0.251349  0.193303   \n",
       "GDP per capita                         0.122478        0.287392  0.250594   \n",
       "\n",
       "                                  Life expectancy  Physicians per thousand  \\\n",
       "Co2-Emissions                            0.118969                 0.051960   \n",
       "Gasoline Price                           0.207519                 0.214098   \n",
       "GDP                                      0.178570                 0.092027   \n",
       "Life expectancy                          1.000000                 0.694479   \n",
       "Physicians per thousand                  0.694479                 1.000000   \n",
       "Population                               0.000042                -0.061287   \n",
       "Co2-Emissions per million people         0.463425                 0.412245   \n",
       "GDP per capita                           0.656078                 0.515133   \n",
       "\n",
       "                                  Population  \\\n",
       "Co2-Emissions                       0.808846   \n",
       "Gasoline Price                     -0.067203   \n",
       "GDP                                 0.629414   \n",
       "Life expectancy                     0.000042   \n",
       "Physicians per thousand            -0.061287   \n",
       "Population                          1.000000   \n",
       "Co2-Emissions per million people   -0.000570   \n",
       "GDP per capita                     -0.032219   \n",
       "\n",
       "                                  Co2-Emissions per million people  \\\n",
       "Co2-Emissions                                             0.162252   \n",
       "Gasoline Price                                           -0.251349   \n",
       "GDP                                                       0.193303   \n",
       "Life expectancy                                           0.463425   \n",
       "Physicians per thousand                                   0.412245   \n",
       "Population                                               -0.000570   \n",
       "Co2-Emissions per million people                          1.000000   \n",
       "GDP per capita                                            0.579773   \n",
       "\n",
       "                                  GDP per capita  \n",
       "Co2-Emissions                           0.122478  \n",
       "Gasoline Price                          0.287392  \n",
       "GDP                                     0.250594  \n",
       "Life expectancy                         0.656078  \n",
       "Physicians per thousand                 0.515133  \n",
       "Population                             -0.032219  \n",
       "Co2-Emissions per million people        0.579773  \n",
       "GDP per capita                          1.000000  "
      ]
     },
     "execution_count": 14,
     "metadata": {},
     "output_type": "execute_result"
    }
   ],
   "source": [
    "# 3. Heatmap\n",
    "# !pip install seaborn\n",
    "import seaborn as sns\n",
    "\n",
    "# Correlation matrix\n",
    "# Remove string data\n",
    "corr_data = data.drop(columns=['Country','Abbreviation','Region'])\n",
    "corr_matrix = corr_data.corr()\n",
    "corr_matrix"
   ]
  },
  {
   "cell_type": "code",
   "execution_count": 15,
   "id": "45a5b1d9",
   "metadata": {
    "execution": {
     "iopub.execute_input": "2024-03-15T17:35:00.107044Z",
     "iopub.status.busy": "2024-03-15T17:35:00.106680Z",
     "iopub.status.idle": "2024-03-15T17:35:00.540207Z",
     "shell.execute_reply": "2024-03-15T17:35:00.539255Z"
    },
    "papermill": {
     "duration": 0.441803,
     "end_time": "2024-03-15T17:35:00.541883",
     "exception": false,
     "start_time": "2024-03-15T17:35:00.100080",
     "status": "completed"
    },
    "tags": []
   },
   "outputs": [
    {
     "data": {
      "text/plain": [
       "<Axes: >"
      ]
     },
     "execution_count": 15,
     "metadata": {},
     "output_type": "execute_result"
    },
    {
     "data": {
      "image/png": "[encoded data removed]",
      "text/plain": [
       "<Figure size 640x480 with 2 Axes>"
      ]
     },
     "metadata": {},
     "output_type": "display_data"
    }
   ],
   "source": [
    "# Create Heatmap chart\n",
    "sns.heatmap(corr_matrix, annot=True)"
   ]
  },
  {
   "cell_type": "code",
   "execution_count": 21,
   "id": "6ed8f736",
   "metadata": {},
   "outputs": [
    {
     "data": {
      "text/html": [
       "\n",
       "<style>\n",
       "  #altair-viz-bfbc60785cc0483e89ac0bbe3ce182ac.vega-embed {\n",
       "    width: 100%;\n",
       "    display: flex;\n",
       "  }\n",
       "\n",
       "  #altair-viz-bfbc60785cc0483e89ac0bbe3ce182ac.vega-embed details,\n",
       "  #altair-viz-bfbc60785cc0483e89ac0bbe3ce182ac.vega-embed details summary {\n",
       "    position: relative;\n",
       "  }\n",
       "</style>\n",
       "<div id=\"altair-viz-bfbc60785cc0483e89ac0bbe3ce182ac\"></div>\n",
       "<script type=\"text/javascript\">\n",
       "  var VEGA_DEBUG = (typeof VEGA_DEBUG == \"undefined\") ? {} : VEGA_DEBUG;\n",
       "  (function(spec, embedOpt){\n",
       "    let outputDiv = document.currentScript.previousElementSibling;\n",
       "    if (outputDiv.id !== \"altair-viz-bfbc60785cc0483e89ac0bbe3ce182ac\") {\n",
       "      outputDiv = document.getElementById(\"altair-viz-bfbc60785cc0483e89ac0bbe3ce182ac\");\n",
       "    }\n",
       "\n",
       "    const paths = {\n",
       "      \"vega\": \"https://cdn.jsdelivr.net/npm/vega@5?noext\",\n",
       "      \"vega-lib\": \"https://cdn.jsdelivr.net/npm/vega-lib?noext\",\n",
       "      \"vega-lite\": \"https://cdn.jsdelivr.net/npm/vega-lite@5.20.1?noext\",\n",
       "      \"vega-embed\": \"https://cdn.jsdelivr.net/npm/vega-embed@6?noext\",\n",
       "    };\n",
       "\n",
       "    function maybeLoadScript(lib, version) {\n",
       "      var key = `${lib.replace(\"-\", \"\")}_version`;\n",
       "      return (VEGA_DEBUG[key] == version) ?\n",
       "        Promise.resolve(paths[lib]) :\n",
       "        new Promise(function(resolve, reject) {\n",
       "          var s = document.createElement('script');\n",
       "          document.getElementsByTagName(\"head\")[0].appendChild(s);\n",
       "          s.async = true;\n",
       "          s.onload = () => {\n",
       "            VEGA_DEBUG[key] = version;\n",
       "            return resolve(paths[lib]);\n",
       "          };\n",
       "          s.onerror = () => reject(`Error loading script: ${paths[lib]}`);\n",
       "          s.src = paths[lib];\n",
       "        });\n",
       "    }\n",
       "\n",
       "    function showError(err) {\n",
       "      outputDiv.innerHTML = `<div class=\"error\" style=\"color:red;\">${err}</div>`;\n",
       "      throw err;\n",
       "    }\n",
       "\n",
       "    function displayChart(vegaEmbed) {\n",
       "      vegaEmbed(outputDiv, spec, embedOpt)\n",
       "        .catch(err => showError(`Javascript Error: ${err.message}<br>This usually means there's a typo in your chart specification. See the javascript console for the full traceback.`));\n",
       "    }\n",
       "\n",
       "    if(typeof define === \"function\" && define.amd) {\n",
       "      requirejs.config({paths});\n",
       "      let deps = [\"vega-embed\"];\n",
       "      require(deps, displayChart, err => showError(`Error loading script: ${err.message}`));\n",
       "    } else {\n",
       "      maybeLoadScript(\"vega\", \"5\")\n",
       "        .then(() => maybeLoadScript(\"vega-lite\", \"5.20.1\"))\n",
       "        .then(() => maybeLoadScript(\"vega-embed\", \"6\"))\n",
       "        .catch(showError)\n",
       "        .then(() => displayChart(vegaEmbed));\n",
       "    }\n",
       "  })({\"config\": {\"view\": {\"continuousWidth\": 300, \"continuousHeight\": 300}}, \"layer\": [{\"mark\": {\"type\": \"rect\"}, \"encoding\": {\"color\": {\"field\": \"Correlation\", \"scale\": {\"scheme\": \"viridis\"}, \"title\": \"Correlation\", \"type\": \"quantitative\"}, \"tooltip\": [{\"field\": \"Variable 1\", \"type\": \"nominal\"}, {\"field\": \"Variable 2\", \"type\": \"nominal\"}, {\"field\": \"Correlation\", \"type\": \"quantitative\"}], \"x\": {\"field\": \"Variable 1\", \"sort\": null, \"title\": \"Variable 1\", \"type\": \"nominal\"}, \"y\": {\"field\": \"Variable 2\", \"sort\": null, \"title\": \"Variable 2\", \"type\": \"nominal\"}}, \"title\": \"Heatmap of Correlation Matrix\"}, {\"mark\": {\"type\": \"text\", \"size\": 10}, \"encoding\": {\"color\": {\"condition\": {\"test\": \"(datum.Correlation > 0.5)\", \"value\": \"black\"}, \"value\": \"white\"}, \"text\": {\"field\": \"Correlation\", \"format\": \".2f\", \"type\": \"quantitative\"}, \"x\": {\"field\": \"Variable 1\", \"sort\": null, \"type\": \"nominal\"}, \"y\": {\"field\": \"Variable 2\", \"sort\": null, \"type\": \"nominal\"}}}], \"data\": {\"name\": \"data-9da65a665ac8362aff45a5c1d74d22e4\"}, \"height\": 600, \"width\": 600, \"$schema\": \"https://vega.github.io/schema/vega-lite/v5.20.1.json\", \"datasets\": {\"data-9da65a665ac8362aff45a5c1d74d22e4\": [{\"Variable 1\": \"Co2-Emissions\", \"Variable 2\": \"Co2-Emissions\", \"Correlation\": 1.0}, {\"Variable 1\": \"Gasoline Price\", \"Variable 2\": \"Co2-Emissions\", \"Correlation\": -0.06837040973026816}, {\"Variable 1\": \"GDP\", \"Variable 2\": \"Co2-Emissions\", \"Correlation\": 0.9164516583917854}, {\"Variable 1\": \"Life expectancy\", \"Variable 2\": \"Co2-Emissions\", \"Correlation\": 0.11896929323675762}, {\"Variable 1\": \"Physicians per thousand\", \"Variable 2\": \"Co2-Emissions\", \"Correlation\": 0.051960025005695985}, {\"Variable 1\": \"Population\", \"Variable 2\": \"Co2-Emissions\", \"Correlation\": 0.8088457928346261}, {\"Variable 1\": \"Co2-Emissions per million people\", \"Variable 2\": \"Co2-Emissions\", \"Correlation\": 0.16225209318303938}, {\"Variable 1\": \"GDP per capita\", \"Variable 2\": \"Co2-Emissions\", \"Correlation\": 0.12247829091239174}, {\"Variable 1\": \"Co2-Emissions\", \"Variable 2\": \"Gasoline Price\", \"Correlation\": -0.06837040973026816}, {\"Variable 1\": \"Gasoline Price\", \"Variable 2\": \"Gasoline Price\", \"Correlation\": 1.0}, {\"Variable 1\": \"GDP\", \"Variable 2\": \"Gasoline Price\", \"Correlation\": -0.01566250455866536}, {\"Variable 1\": \"Life expectancy\", \"Variable 2\": \"Gasoline Price\", \"Correlation\": 0.20751895981760032}, {\"Variable 1\": \"Physicians per thousand\", \"Variable 2\": \"Gasoline Price\", \"Correlation\": 0.2140983529466983}, {\"Variable 1\": \"Population\", \"Variable 2\": \"Gasoline Price\", \"Correlation\": -0.06720344528129658}, {\"Variable 1\": \"Co2-Emissions per million people\", \"Variable 2\": \"Gasoline Price\", \"Correlation\": -0.2513486496513615}, {\"Variable 1\": \"GDP per capita\", \"Variable 2\": \"Gasoline Price\", \"Correlation\": 0.2873917305478188}, {\"Variable 1\": \"Co2-Emissions\", \"Variable 2\": \"GDP\", \"Correlation\": 0.9164516583917854}, {\"Variable 1\": \"Gasoline Price\", \"Variable 2\": \"GDP\", \"Correlation\": -0.01566250455866536}, {\"Variable 1\": \"GDP\", \"Variable 2\": \"GDP\", \"Correlation\": 1.0}, {\"Variable 1\": \"Life expectancy\", \"Variable 2\": \"GDP\", \"Correlation\": 0.1785695757510346}, {\"Variable 1\": \"Physicians per thousand\", \"Variable 2\": \"GDP\", \"Correlation\": 0.09202654788156793}, {\"Variable 1\": \"Population\", \"Variable 2\": \"GDP\", \"Correlation\": 0.6294137353448732}, {\"Variable 1\": \"Co2-Emissions per million people\", \"Variable 2\": \"GDP\", \"Correlation\": 0.19330272139384858}, {\"Variable 1\": \"GDP per capita\", \"Variable 2\": \"GDP\", \"Correlation\": 0.25059415932050516}, {\"Variable 1\": \"Co2-Emissions\", \"Variable 2\": \"Life expectancy\", \"Correlation\": 0.11896929323675762}, {\"Variable 1\": \"Gasoline Price\", \"Variable 2\": \"Life expectancy\", \"Correlation\": 0.20751895981760032}, {\"Variable 1\": \"GDP\", \"Variable 2\": \"Life expectancy\", \"Correlation\": 0.1785695757510346}, {\"Variable 1\": \"Life expectancy\", \"Variable 2\": \"Life expectancy\", \"Correlation\": 1.0}, {\"Variable 1\": \"Physicians per thousand\", \"Variable 2\": \"Life expectancy\", \"Correlation\": 0.6944794823183905}, {\"Variable 1\": \"Population\", \"Variable 2\": \"Life expectancy\", \"Correlation\": 4.2355031349299374e-05}, {\"Variable 1\": \"Co2-Emissions per million people\", \"Variable 2\": \"Life expectancy\", \"Correlation\": 0.4634251812297308}, {\"Variable 1\": \"GDP per capita\", \"Variable 2\": \"Life expectancy\", \"Correlation\": 0.6560779752899298}, {\"Variable 1\": \"Co2-Emissions\", \"Variable 2\": \"Physicians per thousand\", \"Correlation\": 0.051960025005695985}, {\"Variable 1\": \"Gasoline Price\", \"Variable 2\": \"Physicians per thousand\", \"Correlation\": 0.2140983529466983}, {\"Variable 1\": \"GDP\", \"Variable 2\": \"Physicians per thousand\", \"Correlation\": 0.09202654788156793}, {\"Variable 1\": \"Life expectancy\", \"Variable 2\": \"Physicians per thousand\", \"Correlation\": 0.6944794823183905}, {\"Variable 1\": \"Physicians per thousand\", \"Variable 2\": \"Physicians per thousand\", \"Correlation\": 1.0}, {\"Variable 1\": \"Population\", \"Variable 2\": \"Physicians per thousand\", \"Correlation\": -0.061287415236782265}, {\"Variable 1\": \"Co2-Emissions per million people\", \"Variable 2\": \"Physicians per thousand\", \"Correlation\": 0.4122448067519377}, {\"Variable 1\": \"GDP per capita\", \"Variable 2\": \"Physicians per thousand\", \"Correlation\": 0.5151325962334121}, {\"Variable 1\": \"Co2-Emissions\", \"Variable 2\": \"Population\", \"Correlation\": 0.8088457928346261}, {\"Variable 1\": \"Gasoline Price\", \"Variable 2\": \"Population\", \"Correlation\": -0.06720344528129658}, {\"Variable 1\": \"GDP\", \"Variable 2\": \"Population\", \"Correlation\": 0.6294137353448732}, {\"Variable 1\": \"Life expectancy\", \"Variable 2\": \"Population\", \"Correlation\": 4.2355031349299374e-05}, {\"Variable 1\": \"Physicians per thousand\", \"Variable 2\": \"Population\", \"Correlation\": -0.061287415236782265}, {\"Variable 1\": \"Population\", \"Variable 2\": \"Population\", \"Correlation\": 1.0}, {\"Variable 1\": \"Co2-Emissions per million people\", \"Variable 2\": \"Population\", \"Correlation\": -0.0005700309475519895}, {\"Variable 1\": \"GDP per capita\", \"Variable 2\": \"Population\", \"Correlation\": -0.03221888723799571}, {\"Variable 1\": \"Co2-Emissions\", \"Variable 2\": \"Co2-Emissions per million people\", \"Correlation\": 0.16225209318303938}, {\"Variable 1\": \"Gasoline Price\", \"Variable 2\": \"Co2-Emissions per million people\", \"Correlation\": -0.2513486496513615}, {\"Variable 1\": \"GDP\", \"Variable 2\": \"Co2-Emissions per million people\", \"Correlation\": 0.19330272139384858}, {\"Variable 1\": \"Life expectancy\", \"Variable 2\": \"Co2-Emissions per million people\", \"Correlation\": 0.4634251812297308}, {\"Variable 1\": \"Physicians per thousand\", \"Variable 2\": \"Co2-Emissions per million people\", \"Correlation\": 0.4122448067519377}, {\"Variable 1\": \"Population\", \"Variable 2\": \"Co2-Emissions per million people\", \"Correlation\": -0.0005700309475519895}, {\"Variable 1\": \"Co2-Emissions per million people\", \"Variable 2\": \"Co2-Emissions per million people\", \"Correlation\": 1.0}, {\"Variable 1\": \"GDP per capita\", \"Variable 2\": \"Co2-Emissions per million people\", \"Correlation\": 0.5797730228285417}, {\"Variable 1\": \"Co2-Emissions\", \"Variable 2\": \"GDP per capita\", \"Correlation\": 0.12247829091239174}, {\"Variable 1\": \"Gasoline Price\", \"Variable 2\": \"GDP per capita\", \"Correlation\": 0.2873917305478188}, {\"Variable 1\": \"GDP\", \"Variable 2\": \"GDP per capita\", \"Correlation\": 0.25059415932050516}, {\"Variable 1\": \"Life expectancy\", \"Variable 2\": \"GDP per capita\", \"Correlation\": 0.6560779752899298}, {\"Variable 1\": \"Physicians per thousand\", \"Variable 2\": \"GDP per capita\", \"Correlation\": 0.5151325962334121}, {\"Variable 1\": \"Population\", \"Variable 2\": \"GDP per capita\", \"Correlation\": -0.03221888723799571}, {\"Variable 1\": \"Co2-Emissions per million people\", \"Variable 2\": \"GDP per capita\", \"Correlation\": 0.5797730228285417}, {\"Variable 1\": \"GDP per capita\", \"Variable 2\": \"GDP per capita\", \"Correlation\": 1.0}]}}, {\"mode\": \"vega-lite\"});\n",
       "</script>"
      ],
      "text/plain": [
       "alt.LayerChart(...)"
      ]
     },
     "execution_count": 21,
     "metadata": {},
     "output_type": "execute_result"
    }
   ],
   "source": [
    "# same with altair\n",
    "import altair as alt\n",
    "import pandas as pd\n",
    "\n",
    "# Calculate the correlation matrix\n",
    "corr_data = data.drop(columns=['Country', 'Abbreviation', 'Region'])  # Drop non-numeric columns\n",
    "corr_matrix = corr_data.corr()\n",
    "\n",
    "# Transform the correlation matrix into a long-form dataframe for Altair\n",
    "corr_matrix_long = corr_matrix.reset_index().melt(id_vars='index', var_name='Variable 2', value_name='Correlation')\n",
    "corr_matrix_long.rename(columns={'index': 'Variable 1'}, inplace=True)\n",
    "\n",
    "# Create Heatmap Chart\n",
    "heatmap = alt.Chart(corr_matrix_long).mark_rect().encode(\n",
    "    x=alt.X('Variable 1:N', sort=None, title='Variable 1'),\n",
    "    y=alt.Y('Variable 2:N', sort=None, title='Variable 2'),\n",
    "    color=alt.Color('Correlation:Q', scale=alt.Scale(scheme='viridis'), title='Correlation'),\n",
    "    tooltip=['Variable 1:N', 'Variable 2:N', 'Correlation:Q']\n",
    ").properties(\n",
    "    width=600,\n",
    "    height=600,\n",
    "    title='Heatmap of Correlation Matrix'\n",
    ")\n",
    "\n",
    "# Add text annotations\n",
    "text = alt.Chart(corr_matrix_long).mark_text(size=10).encode(\n",
    "    x=alt.X('Variable 1:N', sort=None),\n",
    "    y=alt.Y('Variable 2:N', sort=None),\n",
    "    text=alt.Text('Correlation:Q', format=\".2f\"),\n",
    "    color=alt.condition(\n",
    "        alt.datum.Correlation > 0.5, \n",
    "        alt.value('black'),  # Text color for strong positive correlations\n",
    "        alt.value('white')  # Text color for weak or negative correlations\n",
    "    )\n",
    ")\n",
    "\n",
    "# Combine heatmap and text\n",
    "heatmap + text\n"
   ]
  },
  {
   "cell_type": "code",
   "execution_count": 16,
   "id": "fe814228",
   "metadata": {
    "execution": {
     "iopub.execute_input": "2024-03-15T17:35:00.558269Z",
     "iopub.status.busy": "2024-03-15T17:35:00.557411Z",
     "iopub.status.idle": "2024-03-15T17:35:03.466236Z",
     "shell.execute_reply": "2024-03-15T17:35:03.465141Z"
    },
    "papermill": {
     "duration": 2.919518,
     "end_time": "2024-03-15T17:35:03.468695",
     "exception": false,
     "start_time": "2024-03-15T17:35:00.549177",
     "status": "completed"
    },
    "tags": []
   },
   "outputs": [
    {
     "data": {
      "image/png": "[encoded data removed]",
      "text/plain": [
       "<Figure size 1600x800 with 6 Axes>"
      ]
     },
     "metadata": {},
     "output_type": "display_data"
    }
   ],
   "source": [
    "# 4. Scatter chart with a regression line fitted to the data points\n",
    "\n",
    "# Create a 2x3 grid\n",
    "fig = plt.figure(figsize=(16, 8))\n",
    "gs = fig.add_gridspec(2, 3)\n",
    "\n",
    "\n",
    "oy = data['Life expectancy']\n",
    "ox = ['Physicians per thousand', 'GDP per capita', 'Co2-Emissions per million people']\n",
    "\n",
    "with plt.style.context('seaborn-v0_8-whitegrid'):\n",
    "    for i, column in enumerate(ox):\n",
    "        # Scatter chart of Life expectancy vs current column\n",
    "        ax = fig.add_subplot(gs[0, i])\n",
    "        sns.regplot(x=data[column], y=oy, ax=ax, logx=True, color='green')\n",
    "        ax.set_xscale('log')\n",
    "        \n",
    "    \n",
    "oy = np.log(data['Co2-Emissions'])\n",
    "ox = ['GDP', 'Population', 'Life expectancy']\n",
    "\n",
    "with plt.style.context('Solarize_Light2'):\n",
    "    for i, column in enumerate(ox):\n",
    "        # Scatter chart of Co2-Emissions vs current column\n",
    "        ax = fig.add_subplot(gs[1, i])\n",
    "        sns.regplot(x=data[column], y=oy, ax=ax, logx=True)\n",
    "        ax.set_xscale('log')\n",
    "        ax.set_ylabel('Log(Co2-Emissions)')\n",
    "\n",
    "plt.tight_layout()\n",
    "plt.show()"
   ]
  },
  {
   "cell_type": "code",
   "execution_count": 22,
   "id": "4580d6b4",
   "metadata": {},
   "outputs": [
    {
     "data": {
      "text/html": [
       "\n",
       "<style>\n",
       "  #altair-viz-9dbefbdc08314a07a53cba147b0e85cd.vega-embed {\n",
       "    width: 100%;\n",
       "    display: flex;\n",
       "  }\n",
       "\n",
       "  #altair-viz-9dbefbdc08314a07a53cba147b0e85cd.vega-embed details,\n",
       "  #altair-viz-9dbefbdc08314a07a53cba147b0e85cd.vega-embed details summary {\n",
       "    position: relative;\n",
       "  }\n",
       "</style>\n",
       "<div id=\"altair-viz-9dbefbdc08314a07a53cba147b0e85cd\"></div>\n",
       "<script type=\"text/javascript\">\n",
       "  var VEGA_DEBUG = (typeof VEGA_DEBUG == \"undefined\") ? {} : VEGA_DEBUG;\n",
       "  (function(spec, embedOpt){\n",
       "    let outputDiv = document.currentScript.previousElementSibling;\n",
       "    if (outputDiv.id !== \"altair-viz-9dbefbdc08314a07a53cba147b0e85cd\") {\n",
       "      outputDiv = document.getElementById(\"altair-viz-9dbefbdc08314a07a53cba147b0e85cd\");\n",
       "    }\n",
       "\n",
       "    const paths = {\n",
       "      \"vega\": \"https://cdn.jsdelivr.net/npm/vega@5?noext\",\n",
       "      \"vega-lib\": \"https://cdn.jsdelivr.net/npm/vega-lib?noext\",\n",
       "      \"vega-lite\": \"https://cdn.jsdelivr.net/npm/vega-lite@5.20.1?noext\",\n",
       "      \"vega-embed\": \"https://cdn.jsdelivr.net/npm/vega-embed@6?noext\",\n",
       "    };\n",
       "\n",
       "    function maybeLoadScript(lib, version) {\n",
       "      var key = `${lib.replace(\"-\", \"\")}_version`;\n",
       "      return (VEGA_DEBUG[key] == version) ?\n",
       "        Promise.resolve(paths[lib]) :\n",
       "        new Promise(function(resolve, reject) {\n",
       "          var s = document.createElement('script');\n",
       "          document.getElementsByTagName(\"head\")[0].appendChild(s);\n",
       "          s.async = true;\n",
       "          s.onload = () => {\n",
       "            VEGA_DEBUG[key] = version;\n",
       "            return resolve(paths[lib]);\n",
       "          };\n",
       "          s.onerror = () => reject(`Error loading script: ${paths[lib]}`);\n",
       "          s.src = paths[lib];\n",
       "        });\n",
       "    }\n",
       "\n",
       "    function showError(err) {\n",
       "      outputDiv.innerHTML = `<div class=\"error\" style=\"color:red;\">${err}</div>`;\n",
       "      throw err;\n",
       "    }\n",
       "\n",
       "    function displayChart(vegaEmbed) {\n",
       "      vegaEmbed(outputDiv, spec, embedOpt)\n",
       "        .catch(err => showError(`Javascript Error: ${err.message}<br>This usually means there's a typo in your chart specification. See the javascript console for the full traceback.`));\n",
       "    }\n",
       "\n",
       "    if(typeof define === \"function\" && define.amd) {\n",
       "      requirejs.config({paths});\n",
       "      let deps = [\"vega-embed\"];\n",
       "      require(deps, displayChart, err => showError(`Error loading script: ${err.message}`));\n",
       "    } else {\n",
       "      maybeLoadScript(\"vega\", \"5\")\n",
       "        .then(() => maybeLoadScript(\"vega-lite\", \"5.20.1\"))\n",
       "        .then(() => maybeLoadScript(\"vega-embed\", \"6\"))\n",
       "        .catch(showError)\n",
       "        .then(() => displayChart(vegaEmbed));\n",
       "    }\n",
       "  })({\"config\": {\"view\": {\"continuousWidth\": 300, \"continuousHeight\": 300}}, \"vconcat\": [{\"hconcat\": [{\"layer\": [{\"mark\": {\"type\": \"point\", \"color\": \"green\"}, \"encoding\": {\"tooltip\": [{\"field\": \"Country\", \"type\": \"nominal\"}, {\"field\": \"Physicians per thousand\", \"type\": \"quantitative\"}, {\"field\": \"Life expectancy\", \"type\": \"quantitative\"}], \"x\": {\"field\": \"Physicians per thousand\", \"scale\": {\"type\": \"log\"}, \"title\": \"Physicians per thousand (Log Scale)\", \"type\": \"quantitative\"}, \"y\": {\"field\": \"Life expectancy\", \"title\": \"Life Expectancy\", \"type\": \"quantitative\"}}, \"title\": \"Life Expectancy vs Physicians per thousand\"}, {\"mark\": {\"type\": \"line\", \"color\": \"red\"}, \"encoding\": {\"tooltip\": [{\"field\": \"Country\", \"type\": \"nominal\"}, {\"field\": \"Physicians per thousand\", \"type\": \"quantitative\"}, {\"field\": \"Life expectancy\", \"type\": \"quantitative\"}], \"x\": {\"field\": \"Physicians per thousand\", \"scale\": {\"type\": \"log\"}, \"title\": \"Physicians per thousand (Log Scale)\", \"type\": \"quantitative\"}, \"y\": {\"field\": \"Life expectancy\", \"title\": \"Life Expectancy\", \"type\": \"quantitative\"}}, \"title\": \"Life Expectancy vs Physicians per thousand\", \"transform\": [{\"on\": \"Physicians per thousand\", \"regression\": \"Life expectancy\", \"method\": \"linear\"}]}], \"height\": 200, \"width\": 250}, {\"layer\": [{\"mark\": {\"type\": \"point\", \"color\": \"green\"}, \"encoding\": {\"tooltip\": [{\"field\": \"Country\", \"type\": \"nominal\"}, {\"field\": \"GDP per capita\", \"type\": \"quantitative\"}, {\"field\": \"Life expectancy\", \"type\": \"quantitative\"}], \"x\": {\"field\": \"GDP per capita\", \"scale\": {\"type\": \"log\"}, \"title\": \"GDP per capita (Log Scale)\", \"type\": \"quantitative\"}, \"y\": {\"field\": \"Life expectancy\", \"title\": \"Life Expectancy\", \"type\": \"quantitative\"}}, \"title\": \"Life Expectancy vs GDP per capita\"}, {\"mark\": {\"type\": \"line\", \"color\": \"red\"}, \"encoding\": {\"tooltip\": [{\"field\": \"Country\", \"type\": \"nominal\"}, {\"field\": \"GDP per capita\", \"type\": \"quantitative\"}, {\"field\": \"Life expectancy\", \"type\": \"quantitative\"}], \"x\": {\"field\": \"GDP per capita\", \"scale\": {\"type\": \"log\"}, \"title\": \"GDP per capita (Log Scale)\", \"type\": \"quantitative\"}, \"y\": {\"field\": \"Life expectancy\", \"title\": \"Life Expectancy\", \"type\": \"quantitative\"}}, \"title\": \"Life Expectancy vs GDP per capita\", \"transform\": [{\"on\": \"GDP per capita\", \"regression\": \"Life expectancy\", \"method\": \"linear\"}]}], \"height\": 200, \"width\": 250}, {\"layer\": [{\"mark\": {\"type\": \"point\", \"color\": \"green\"}, \"encoding\": {\"tooltip\": [{\"field\": \"Country\", \"type\": \"nominal\"}, {\"field\": \"Co2-Emissions per million people\", \"type\": \"quantitative\"}, {\"field\": \"Life expectancy\", \"type\": \"quantitative\"}], \"x\": {\"field\": \"Co2-Emissions per million people\", \"scale\": {\"type\": \"log\"}, \"title\": \"Co2-Emissions per million people (Log Scale)\", \"type\": \"quantitative\"}, \"y\": {\"field\": \"Life expectancy\", \"title\": \"Life Expectancy\", \"type\": \"quantitative\"}}, \"title\": \"Life Expectancy vs Co2-Emissions per million people\"}, {\"mark\": {\"type\": \"line\", \"color\": \"red\"}, \"encoding\": {\"tooltip\": [{\"field\": \"Country\", \"type\": \"nominal\"}, {\"field\": \"Co2-Emissions per million people\", \"type\": \"quantitative\"}, {\"field\": \"Life expectancy\", \"type\": \"quantitative\"}], \"x\": {\"field\": \"Co2-Emissions per million people\", \"scale\": {\"type\": \"log\"}, \"title\": \"Co2-Emissions per million people (Log Scale)\", \"type\": \"quantitative\"}, \"y\": {\"field\": \"Life expectancy\", \"title\": \"Life Expectancy\", \"type\": \"quantitative\"}}, \"title\": \"Life Expectancy vs Co2-Emissions per million people\", \"transform\": [{\"on\": \"Co2-Emissions per million people\", \"regression\": \"Life expectancy\", \"method\": \"linear\"}]}], \"height\": 200, \"width\": 250}]}, {\"hconcat\": [{\"layer\": [{\"mark\": {\"type\": \"point\", \"color\": \"blue\"}, \"encoding\": {\"tooltip\": [{\"field\": \"Country\", \"type\": \"nominal\"}, {\"field\": \"GDP\", \"type\": \"quantitative\"}, {\"field\": \"Log(Co2-Emissions)\", \"type\": \"quantitative\"}], \"x\": {\"field\": \"GDP\", \"scale\": {\"type\": \"log\"}, \"title\": \"GDP (Log Scale)\", \"type\": \"quantitative\"}, \"y\": {\"field\": \"Log(Co2-Emissions)\", \"title\": \"Log(Co2-Emissions)\", \"type\": \"quantitative\"}}, \"title\": \"Log(Co2-Emissions) vs GDP\"}, {\"mark\": {\"type\": \"line\", \"color\": \"red\"}, \"encoding\": {\"tooltip\": [{\"field\": \"Country\", \"type\": \"nominal\"}, {\"field\": \"GDP\", \"type\": \"quantitative\"}, {\"field\": \"Log(Co2-Emissions)\", \"type\": \"quantitative\"}], \"x\": {\"field\": \"GDP\", \"scale\": {\"type\": \"log\"}, \"title\": \"GDP (Log Scale)\", \"type\": \"quantitative\"}, \"y\": {\"field\": \"Log(Co2-Emissions)\", \"title\": \"Log(Co2-Emissions)\", \"type\": \"quantitative\"}}, \"title\": \"Log(Co2-Emissions) vs GDP\", \"transform\": [{\"on\": \"GDP\", \"regression\": \"Log(Co2-Emissions)\", \"method\": \"linear\"}]}], \"height\": 200, \"width\": 250}, {\"layer\": [{\"mark\": {\"type\": \"point\", \"color\": \"blue\"}, \"encoding\": {\"tooltip\": [{\"field\": \"Country\", \"type\": \"nominal\"}, {\"field\": \"Population\", \"type\": \"quantitative\"}, {\"field\": \"Log(Co2-Emissions)\", \"type\": \"quantitative\"}], \"x\": {\"field\": \"Population\", \"scale\": {\"type\": \"log\"}, \"title\": \"Population (Log Scale)\", \"type\": \"quantitative\"}, \"y\": {\"field\": \"Log(Co2-Emissions)\", \"title\": \"Log(Co2-Emissions)\", \"type\": \"quantitative\"}}, \"title\": \"Log(Co2-Emissions) vs Population\"}, {\"mark\": {\"type\": \"line\", \"color\": \"red\"}, \"encoding\": {\"tooltip\": [{\"field\": \"Country\", \"type\": \"nominal\"}, {\"field\": \"Population\", \"type\": \"quantitative\"}, {\"field\": \"Log(Co2-Emissions)\", \"type\": \"quantitative\"}], \"x\": {\"field\": \"Population\", \"scale\": {\"type\": \"log\"}, \"title\": \"Population (Log Scale)\", \"type\": \"quantitative\"}, \"y\": {\"field\": \"Log(Co2-Emissions)\", \"title\": \"Log(Co2-Emissions)\", \"type\": \"quantitative\"}}, \"title\": \"Log(Co2-Emissions) vs Population\", \"transform\": [{\"on\": \"Population\", \"regression\": \"Log(Co2-Emissions)\", \"method\": \"linear\"}]}], \"height\": 200, \"width\": 250}, {\"layer\": [{\"mark\": {\"type\": \"point\", \"color\": \"blue\"}, \"encoding\": {\"tooltip\": [{\"field\": \"Country\", \"type\": \"nominal\"}, {\"field\": \"Life expectancy\", \"type\": \"quantitative\"}, {\"field\": \"Log(Co2-Emissions)\", \"type\": \"quantitative\"}], \"x\": {\"field\": \"Life expectancy\", \"scale\": {\"type\": \"log\"}, \"title\": \"Life expectancy (Log Scale)\", \"type\": \"quantitative\"}, \"y\": {\"field\": \"Log(Co2-Emissions)\", \"title\": \"Log(Co2-Emissions)\", \"type\": \"quantitative\"}}, \"title\": \"Log(Co2-Emissions) vs Life expectancy\"}, {\"mark\": {\"type\": \"line\", \"color\": \"red\"}, \"encoding\": {\"tooltip\": [{\"field\": \"Country\", \"type\": \"nominal\"}, {\"field\": \"Life expectancy\", \"type\": \"quantitative\"}, {\"field\": \"Log(Co2-Emissions)\", \"type\": \"quantitative\"}], \"x\": {\"field\": \"Life expectancy\", \"scale\": {\"type\": \"log\"}, \"title\": \"Life expectancy (Log Scale)\", \"type\": \"quantitative\"}, \"y\": {\"field\": \"Log(Co2-Emissions)\", \"title\": \"Log(Co2-Emissions)\", \"type\": \"quantitative\"}}, \"title\": \"Log(Co2-Emissions) vs Life expectancy\", \"transform\": [{\"on\": \"Life expectancy\", \"regression\": \"Log(Co2-Emissions)\", \"method\": \"linear\"}]}], \"height\": 200, \"width\": 250}]}], \"data\": {\"name\": \"data-aa08317b65d6fac41f3b770b36a38361\"}, \"title\": \"Scatter Charts with Regression Lines\", \"$schema\": \"https://vega.github.io/schema/vega-lite/v5.20.1.json\", \"datasets\": {\"data-aa08317b65d6fac41f3b770b36a38361\": [{\"Country\": \"Afghanistan\", \"Abbreviation\": \"AF\", \"Co2-Emissions\": 8672, \"Gasoline Price\": 0.7, \"GDP\": 19101353833, \"Life expectancy\": 64.5, \"Physicians per thousand\": 0.28, \"Population\": 38041754, \"Region\": \"Asia\", \"Co2-Emissions per million people\": 227.9600462165861, \"GDP per capita\": 502.11548691997746, \"Log(Co2-Emissions)\": 9.067854723679428}, {\"Country\": \"Albania\", \"Abbreviation\": \"AL\", \"Co2-Emissions\": 4536, \"Gasoline Price\": 1.36, \"GDP\": 15278077447, \"Life expectancy\": 78.5, \"Physicians per thousand\": 1.2, \"Population\": 2854191, \"Region\": \"Europe\", \"Co2-Emissions per million people\": 1589.2419252951186, \"GDP per capita\": 5352.857411084262, \"Log(Co2-Emissions)\": 8.419800845407588}, {\"Country\": \"Algeria\", \"Abbreviation\": \"DZ\", \"Co2-Emissions\": 150006, \"Gasoline Price\": 0.28, \"GDP\": 169988236398, \"Life expectancy\": 76.7, \"Physicians per thousand\": 1.72, \"Population\": 43053054, \"Region\": \"Africa\", \"Co2-Emissions per million people\": 3484.2127575897407, \"GDP per capita\": 3948.3432789227913, \"Log(Co2-Emissions)\": 11.918430572278414}, {\"Country\": \"Angola\", \"Abbreviation\": \"AO\", \"Co2-Emissions\": 34693, \"Gasoline Price\": 0.97, \"GDP\": 94635415870, \"Life expectancy\": 60.8, \"Physicians per thousand\": 0.21, \"Population\": 31825295, \"Region\": \"Africa\", \"Co2-Emissions per million people\": 1090.1077272025288, \"GDP per capita\": 2973.591159799147, \"Log(Co2-Emissions)\": 10.45429321647827}, {\"Country\": \"Antigua and Barbuda\", \"Abbreviation\": \"AG\", \"Co2-Emissions\": 557, \"Gasoline Price\": 0.99, \"GDP\": 1727759259, \"Life expectancy\": 76.9, \"Physicians per thousand\": 2.76, \"Population\": 97118, \"Region\": \"Americas\", \"Co2-Emissions per million people\": 5735.291089190469, \"GDP per capita\": 17790.309304145474, \"Log(Co2-Emissions)\": 6.322565239927284}, {\"Country\": \"Argentina\", \"Abbreviation\": \"AR\", \"Co2-Emissions\": 201348, \"Gasoline Price\": 1.1, \"GDP\": 449663446954, \"Life expectancy\": 76.5, \"Physicians per thousand\": 3.96, \"Population\": 44938712, \"Region\": \"Americas\", \"Co2-Emissions per million people\": 4480.502244924154, \"GDP per capita\": 10006.148973606541, \"Log(Co2-Emissions)\": 12.212790033277699}, {\"Country\": \"Armenia\", \"Abbreviation\": \"AM\", \"Co2-Emissions\": 5156, \"Gasoline Price\": 0.77, \"GDP\": 13672802158, \"Life expectancy\": 74.9, \"Physicians per thousand\": 4.4, \"Population\": 2957731, \"Region\": \"Asia\", \"Co2-Emissions per million people\": 1743.22817051314, \"GDP per capita\": 4622.733493343377, \"Log(Co2-Emissions)\": 8.547916364059079}, {\"Country\": \"Australia\", \"Abbreviation\": \"AU\", \"Co2-Emissions\": 375908, \"Gasoline Price\": 0.93, \"GDP\": 1392680589329, \"Life expectancy\": 82.7, \"Physicians per thousand\": 3.68, \"Population\": 25766605, \"Region\": \"Oceania\", \"Co2-Emissions per million people\": 14588.961176685869, \"GDP per capita\": 54049.8288124881, \"Log(Co2-Emissions)\": 12.837099711581725}, {\"Country\": \"Austria\", \"Abbreviation\": \"AT\", \"Co2-Emissions\": 61448, \"Gasoline Price\": 1.2, \"GDP\": 446314739528, \"Life expectancy\": 81.6, \"Physicians per thousand\": 5.17, \"Population\": 8877067, \"Region\": \"Europe\", \"Co2-Emissions per million people\": 6922.106141589334, \"GDP per capita\": 50277.27508736838, \"Log(Co2-Emissions)\": 11.025946567678519}, {\"Country\": \"Azerbaijan\", \"Abbreviation\": \"AZ\", \"Co2-Emissions\": 37620, \"Gasoline Price\": 0.56, \"GDP\": 39207000000, \"Life expectancy\": 72.9, \"Physicians per thousand\": 3.45, \"Population\": 10023318, \"Region\": \"Asia\", \"Co2-Emissions per million people\": 3753.2481759034285, \"GDP per capita\": 3911.5789801341234, \"Log(Co2-Emissions)\": 10.535291102855021}, {\"Country\": \"The Bahamas\", \"Abbreviation\": \"BS\", \"Co2-Emissions\": 1786, \"Gasoline Price\": 0.92, \"GDP\": 12827000000, \"Life expectancy\": 73.8, \"Physicians per thousand\": 1.94, \"Population\": 389482, \"Region\": \"Americas\", \"Co2-Emissions per million people\": 4585.577767393615, \"GDP per capita\": 32933.48601475806, \"Log(Co2-Emissions)\": 7.487733761436444}, {\"Country\": \"Bahrain\", \"Abbreviation\": \"BH\", \"Co2-Emissions\": 31694, \"Gasoline Price\": 0.43, \"GDP\": 38574069149, \"Life expectancy\": 77.2, \"Physicians per thousand\": 0.93, \"Population\": 1501635, \"Region\": \"Asia\", \"Co2-Emissions per million people\": 21106.32743642763, \"GDP per capita\": 25688.046129052665, \"Log(Co2-Emissions)\": 10.363882667502754}, {\"Country\": \"Bangladesh\", \"Abbreviation\": \"BD\", \"Co2-Emissions\": 84246, \"Gasoline Price\": 1.12, \"GDP\": 302571254131, \"Life expectancy\": 72.3, \"Physicians per thousand\": 0.58, \"Population\": 167310838, \"Region\": \"Asia\", \"Co2-Emissions per million people\": 503.5298430577462, \"GDP per capita\": 1808.4378618138294, \"Log(Co2-Emissions)\": 11.341496369342698}, {\"Country\": \"Barbados\", \"Abbreviation\": \"BB\", \"Co2-Emissions\": 1276, \"Gasoline Price\": 1.81, \"GDP\": 5209000000, \"Life expectancy\": 79.1, \"Physicians per thousand\": 2.48, \"Population\": 287025, \"Region\": \"Americas\", \"Co2-Emissions per million people\": 4445.605783468339, \"GDP per capita\": 18148.24492640014, \"Log(Co2-Emissions)\": 7.151485463904735}, {\"Country\": \"Belarus\", \"Abbreviation\": \"BY\", \"Co2-Emissions\": 58280, \"Gasoline Price\": 0.6, \"GDP\": 63080457023, \"Life expectancy\": 74.2, \"Physicians per thousand\": 5.19, \"Population\": 9466856, \"Region\": \"Europe\", \"Co2-Emissions per million people\": 6156.214903870937, \"GDP per capita\": 6663.295292861749, \"Log(Co2-Emissions)\": 10.97301426030914}, {\"Country\": \"Belgium\", \"Abbreviation\": \"BE\", \"Co2-Emissions\": 96889, \"Gasoline Price\": 1.43, \"GDP\": 529606710418, \"Life expectancy\": 81.6, \"Physicians per thousand\": 3.07, \"Population\": 11484055, \"Region\": \"Europe\", \"Co2-Emissions per million people\": 8436.828280602975, \"GDP per capita\": 46116.699233676605, \"Log(Co2-Emissions)\": 11.48132127234323}, {\"Country\": \"Belize\", \"Abbreviation\": \"BZ\", \"Co2-Emissions\": 568, \"Gasoline Price\": 1.13, \"GDP\": 1879613600, \"Life expectancy\": 74.5, \"Physicians per thousand\": 1.12, \"Population\": 390353, \"Region\": \"Americas\", \"Co2-Emissions per million people\": 1455.0932105043382, \"GDP per capita\": 4815.163710795101, \"Log(Co2-Emissions)\": 6.342121418721152}, {\"Country\": \"Benin\", \"Abbreviation\": \"BJ\", \"Co2-Emissions\": 6476, \"Gasoline Price\": 0.72, \"GDP\": 14390709095, \"Life expectancy\": 61.5, \"Physicians per thousand\": 0.08, \"Population\": 11801151, \"Region\": \"Africa\", \"Co2-Emissions per million people\": 548.7600319663735, \"GDP per capita\": 1219.4326718639563, \"Log(Co2-Emissions)\": 8.775858314797526}, {\"Country\": \"Bhutan\", \"Abbreviation\": \"BT\", \"Co2-Emissions\": 1261, \"Gasoline Price\": 0.98, \"GDP\": 2446674101, \"Life expectancy\": 71.5, \"Physicians per thousand\": 0.42, \"Population\": 727145, \"Region\": \"Asia\", \"Co2-Emissions per million people\": 1734.1795652861533, \"GDP per capita\": 3364.767826224481, \"Log(Co2-Emissions)\": 7.13966033596492}, {\"Country\": \"Bolivia\", \"Abbreviation\": \"BO\", \"Co2-Emissions\": 21606, \"Gasoline Price\": 0.71, \"GDP\": 40895322865, \"Life expectancy\": 71.2, \"Physicians per thousand\": 1.59, \"Population\": 11513100, \"Region\": \"Americas\", \"Co2-Emissions per million people\": 1876.6448654141805, \"GDP per capita\": 3552.068762105775, \"Log(Co2-Emissions)\": 9.98072633287693}, {\"Country\": \"Bosnia and Herzegovina\", \"Abbreviation\": \"BA\", \"Co2-Emissions\": 21848, \"Gasoline Price\": 1.05, \"GDP\": 20047848435, \"Life expectancy\": 77.3, \"Physicians per thousand\": 2.16, \"Population\": 3301000, \"Region\": \"Europe\", \"Co2-Emissions per million people\": 6618.600424113905, \"GDP per capita\": 6073.265202968797, \"Log(Co2-Emissions)\": 9.99186466315354}, {\"Country\": \"Botswana\", \"Abbreviation\": \"BW\", \"Co2-Emissions\": 6340, \"Gasoline Price\": 0.71, \"GDP\": 18340510789, \"Life expectancy\": 69.3, \"Physicians per thousand\": 0.37, \"Population\": 2346179, \"Region\": \"Africa\", \"Co2-Emissions per million people\": 2702.266110130557, \"GDP per capita\": 7817.1830832174355, \"Log(Co2-Emissions)\": 8.754634047431272}, {\"Country\": \"Brazil\", \"Abbreviation\": \"BR\", \"Co2-Emissions\": 462299, \"Gasoline Price\": 1.02, \"GDP\": 1839758040766, \"Life expectancy\": 75.7, \"Physicians per thousand\": 2.15, \"Population\": 212559417, \"Region\": \"Americas\", \"Co2-Emissions per million people\": 2174.916578737135, \"GDP per capita\": 8655.264804221777, \"Log(Co2-Emissions)\": 13.043967146876422}, {\"Country\": \"Brunei\", \"Abbreviation\": \"BN\", \"Co2-Emissions\": 7664, \"Gasoline Price\": 0.37, \"GDP\": 13469422941, \"Life expectancy\": 75.7, \"Physicians per thousand\": 1.61, \"Population\": 433285, \"Region\": \"Asia\", \"Co2-Emissions per million people\": 17688.126752599328, \"GDP per capita\": 31086.751078389512, \"Log(Co2-Emissions)\": 8.944289319650697}, {\"Country\": \"Bulgaria\", \"Abbreviation\": \"BG\", \"Co2-Emissions\": 41708, \"Gasoline Price\": 1.11, \"GDP\": 86000000000, \"Life expectancy\": 74.9, \"Physicians per thousand\": 4.03, \"Population\": 6975761, \"Region\": \"Europe\", \"Co2-Emissions per million people\": 5978.989245761144, \"GDP per capita\": 12328.404026456756, \"Log(Co2-Emissions)\": 10.638448235909484}, {\"Country\": \"Burkina Faso\", \"Abbreviation\": \"BF\", \"Co2-Emissions\": 3418, \"Gasoline Price\": 0.98, \"GDP\": 15745810235, \"Life expectancy\": 61.2, \"Physicians per thousand\": 0.08, \"Population\": 20321378, \"Region\": \"Africa\", \"Co2-Emissions per million people\": 168.1972551270883, \"GDP per capita\": 774.8396902513206, \"Log(Co2-Emissions)\": 8.136810863675537}, {\"Country\": \"Burundi\", \"Abbreviation\": \"BI\", \"Co2-Emissions\": 495, \"Gasoline Price\": 1.21, \"GDP\": 3012334882, \"Life expectancy\": 61.2, \"Physicians per thousand\": 0.1, \"Population\": 11530580, \"Region\": \"Africa\", \"Co2-Emissions per million people\": 42.929323589966856, \"GDP per capita\": 261.24747254691437, \"Log(Co2-Emissions)\": 6.20455776256869}, {\"Country\": \"Ivory Coast\", \"Abbreviation\": \"CI\", \"Co2-Emissions\": 9674, \"Gasoline Price\": 0.93, \"GDP\": 58792205642, \"Life expectancy\": 57.4, \"Physicians per thousand\": 0.23, \"Population\": 25716544, \"Region\": \"Africa\", \"Co2-Emissions per million people\": 376.1780743166733, \"GDP per capita\": 2286.16277684902, \"Log(Co2-Emissions)\": 9.177197153382929}, {\"Country\": \"Cape Verde\", \"Abbreviation\": \"CV\", \"Co2-Emissions\": 543, \"Gasoline Price\": 1.02, \"GDP\": 1981845741, \"Life expectancy\": 72.8, \"Physicians per thousand\": 0.77, \"Population\": 483628, \"Region\": \"Africa\", \"Co2-Emissions per million people\": 1122.7637771179502, \"GDP per capita\": 4097.872209632196, \"Log(Co2-Emissions)\": 6.297109319933935}, {\"Country\": \"Cambodia\", \"Abbreviation\": \"KH\", \"Co2-Emissions\": 9919, \"Gasoline Price\": 0.9, \"GDP\": 27089389787, \"Life expectancy\": 69.6, \"Physicians per thousand\": 0.17, \"Population\": 16486542, \"Region\": \"Asia\", \"Co2-Emissions per million people\": 601.6422364374531, \"GDP per capita\": 1643.121388766668, \"Log(Co2-Emissions)\": 9.202207388745993}, {\"Country\": \"Cameroon\", \"Abbreviation\": \"CM\", \"Co2-Emissions\": 8291, \"Gasoline Price\": 1.03, \"GDP\": 38760467033, \"Life expectancy\": 58.9, \"Physicians per thousand\": 0.09, \"Population\": 25876380, \"Region\": \"Africa\", \"Co2-Emissions per million people\": 320.4080323445551, \"GDP per capita\": 1497.90917558793, \"Log(Co2-Emissions)\": 9.022925868116218}, {\"Country\": \"Canada\", \"Abbreviation\": \"CA\", \"Co2-Emissions\": 544894, \"Gasoline Price\": 0.81, \"GDP\": 1736425629520, \"Life expectancy\": 81.9, \"Physicians per thousand\": 2.61, \"Population\": 36991981, \"Region\": \"Americas\", \"Co2-Emissions per million people\": 14730.057306203742, \"GDP per capita\": 46940.59584210967, \"Log(Co2-Emissions)\": 13.208346559315851}, {\"Country\": \"Central African Republic\", \"Abbreviation\": \"CF\", \"Co2-Emissions\": 297, \"Gasoline Price\": 1.41, \"GDP\": 2220307369, \"Life expectancy\": 52.8, \"Physicians per thousand\": 0.06, \"Population\": 4745185, \"Region\": \"Africa\", \"Co2-Emissions per million people\": 62.58976204299727, \"GDP per capita\": 467.90744070041524, \"Log(Co2-Emissions)\": 5.6937321388027}, {\"Country\": \"Chad\", \"Abbreviation\": \"TD\", \"Co2-Emissions\": 1016, \"Gasoline Price\": 0.78, \"GDP\": 11314951343, \"Life expectancy\": 54.0, \"Physicians per thousand\": 0.04, \"Population\": 15946876, \"Region\": \"Africa\", \"Co2-Emissions per million people\": 63.71153823482417, \"GDP per capita\": 709.5403101522832, \"Log(Co2-Emissions)\": 6.923628628138427}, {\"Country\": \"Chile\", \"Abbreviation\": \"CL\", \"Co2-Emissions\": 85822, \"Gasoline Price\": 1.03, \"GDP\": 282318159745, \"Life expectancy\": 80.0, \"Physicians per thousand\": 2.59, \"Population\": 18952038, \"Region\": \"Americas\", \"Co2-Emissions per million people\": 4528.37842558146, \"GDP per capita\": 14896.453866597354, \"Log(Co2-Emissions)\": 11.360030662864972}, {\"Country\": \"China\", \"Abbreviation\": \"CN\", \"Co2-Emissions\": 9893038, \"Gasoline Price\": 0.96, \"GDP\": 19910000000000, \"Life expectancy\": 77.0, \"Physicians per thousand\": 1.98, \"Population\": 1397715000, \"Region\": \"Asia\", \"Co2-Emissions per million people\": 7078.008034542092, \"GDP per capita\": 14244.677920749224, \"Log(Co2-Emissions)\": 16.10734183539775}, {\"Country\": \"Colombia\", \"Abbreviation\": \"CO\", \"Co2-Emissions\": 97814, \"Gasoline Price\": 0.68, \"GDP\": 323802808108, \"Life expectancy\": 77.1, \"Physicians per thousand\": 2.18, \"Population\": 50339443, \"Region\": \"Americas\", \"Co2-Emissions per million people\": 1943.0886432334978, \"GDP per capita\": 6432.387583390623, \"Log(Co2-Emissions)\": 11.490822995062281}, {\"Country\": \"Costa Rica\", \"Abbreviation\": \"CR\", \"Co2-Emissions\": 8023, \"Gasoline Price\": 0.98, \"GDP\": 61773944174, \"Life expectancy\": 80.1, \"Physicians per thousand\": 2.89, \"Population\": 5047561, \"Region\": \"Americas\", \"Co2-Emissions per million people\": 1589.48054317719, \"GDP per capita\": 12238.374964463035, \"Log(Co2-Emissions)\": 8.990067695753655}, {\"Country\": \"Croatia\", \"Abbreviation\": \"HR\", \"Co2-Emissions\": 17488, \"Gasoline Price\": 1.26, \"GDP\": 60415553039, \"Life expectancy\": 78.1, \"Physicians per thousand\": 3.0, \"Population\": 4067500, \"Region\": \"Europe\", \"Co2-Emissions per million people\": 4299.446834665027, \"GDP per capita\": 14853.239837492318, \"Log(Co2-Emissions)\": 9.76927021041632}, {\"Country\": \"Cuba\", \"Abbreviation\": \"CU\", \"Co2-Emissions\": 28284, \"Gasoline Price\": 1.4, \"GDP\": 100023000000, \"Life expectancy\": 78.7, \"Physicians per thousand\": 8.42, \"Population\": 11333483, \"Region\": \"Americas\", \"Co2-Emissions per million people\": 2495.6141020372997, \"GDP per capita\": 8825.442275777004, \"Log(Co2-Emissions)\": 10.250051552724132}, {\"Country\": \"Cyprus\", \"Abbreviation\": \"CY\", \"Co2-Emissions\": 6626, \"Gasoline Price\": 1.23, \"GDP\": 24564647935, \"Life expectancy\": 80.8, \"Physicians per thousand\": 1.95, \"Population\": 1198575, \"Region\": \"Asia\", \"Co2-Emissions per million people\": 5528.231441503452, \"GDP per capita\": 20494.87761299877, \"Log(Co2-Emissions)\": 8.798756582859841}, {\"Country\": \"Czech Republic\", \"Abbreviation\": \"CZ\", \"Co2-Emissions\": 102218, \"Gasoline Price\": 1.17, \"GDP\": 246489245495, \"Life expectancy\": 79.0, \"Physicians per thousand\": 4.12, \"Population\": 10669709, \"Region\": \"Europe\", \"Co2-Emissions per million people\": 9580.205045892068, \"GDP per capita\": 23101.777704996453, \"Log(Co2-Emissions)\": 11.53486306648813}, {\"Country\": \"Democratic Republic of the Congo\", \"Abbreviation\": \"CD\", \"Co2-Emissions\": 2021, \"Gasoline Price\": 1.49, \"GDP\": 47319624204, \"Life expectancy\": 60.4, \"Physicians per thousand\": 0.07, \"Population\": 86790567, \"Region\": \"Africa\", \"Co2-Emissions per million people\": 23.285940740541538, \"GDP per capita\": 545.2162123102618, \"Log(Co2-Emissions)\": 7.611347717403621}, {\"Country\": \"Denmark\", \"Abbreviation\": \"DK\", \"Co2-Emissions\": 31786, \"Gasoline Price\": 1.55, \"GDP\": 348078018464, \"Life expectancy\": 81.0, \"Physicians per thousand\": 4.01, \"Population\": 5818553, \"Region\": \"Europe\", \"Co2-Emissions per million people\": 5462.870235950416, \"GDP per capita\": 59822.092960913134, \"Log(Co2-Emissions)\": 10.366781220256765}, {\"Country\": \"Djibouti\", \"Abbreviation\": \"DJ\", \"Co2-Emissions\": 620, \"Gasoline Price\": 1.32, \"GDP\": 3318716359, \"Life expectancy\": 66.6, \"Physicians per thousand\": 0.22, \"Population\": 973560, \"Region\": \"Africa\", \"Co2-Emissions per million people\": 636.8379966309216, \"GDP per capita\": 3408.8462539545585, \"Log(Co2-Emissions)\": 6.429719478039138}, {\"Country\": \"Dominican Republic\", \"Abbreviation\": \"DO\", \"Co2-Emissions\": 25258, \"Gasoline Price\": 1.07, \"GDP\": 88941298258, \"Life expectancy\": 73.9, \"Physicians per thousand\": 1.56, \"Population\": 10738958, \"Region\": \"Americas\", \"Co2-Emissions per million people\": 2351.9972794380983, \"GDP per capita\": 8282.11622189043, \"Log(Co2-Emissions)\": 10.136898216206115}, {\"Country\": \"Ecuador\", \"Abbreviation\": \"EC\", \"Co2-Emissions\": 41155, \"Gasoline Price\": 0.61, \"GDP\": 107435665000, \"Life expectancy\": 76.8, \"Physicians per thousand\": 2.04, \"Population\": 17373662, \"Region\": \"Americas\", \"Co2-Emissions per million people\": 2368.8155093612386, \"GDP per capita\": 6183.823824821733, \"Log(Co2-Emissions)\": 10.625100705406744}, {\"Country\": \"Egypt\", \"Abbreviation\": \"EG\", \"Co2-Emissions\": 238560, \"Gasoline Price\": 0.4, \"GDP\": 303175127598, \"Life expectancy\": 71.8, \"Physicians per thousand\": 0.45, \"Population\": 100388073, \"Region\": \"Africa\", \"Co2-Emissions per million people\": 2376.3779189187144, \"GDP per capita\": 3020.0313497202005, \"Log(Co2-Emissions)\": 12.382376129998566}, {\"Country\": \"El Salvador\", \"Abbreviation\": \"SV\", \"Co2-Emissions\": 7169, \"Gasoline Price\": 0.83, \"GDP\": 27022640000, \"Life expectancy\": 73.1, \"Physicians per thousand\": 1.57, \"Population\": 6453553, \"Region\": \"Americas\", \"Co2-Emissions per million people\": 1110.8609474501875, \"GDP per capita\": 4187.250031106896, \"Log(Co2-Emissions)\": 8.877521453852872}, {\"Country\": \"Eritrea\", \"Abbreviation\": \"ER\", \"Co2-Emissions\": 711, \"Gasoline Price\": 2.0, \"GDP\": 2065001626, \"Life expectancy\": 65.9, \"Physicians per thousand\": 0.06, \"Population\": 6333135, \"Region\": \"Africa\", \"Co2-Emissions per million people\": 112.26667361425267, \"GDP per capita\": 326.0630992391604, \"Log(Co2-Emissions)\": 6.566672429803241}, {\"Country\": \"Estonia\", \"Abbreviation\": \"EE\", \"Co2-Emissions\": 16590, \"Gasoline Price\": 1.14, \"GDP\": 31386949981, \"Life expectancy\": 78.2, \"Physicians per thousand\": 4.48, \"Population\": 1331824, \"Region\": \"Europe\", \"Co2-Emissions per million people\": 12456.600872187315, \"GDP per capita\": 23566.890205462583, \"Log(Co2-Emissions)\": 9.71655538318449}, {\"Country\": \"Ethiopia\", \"Abbreviation\": \"ET\", \"Co2-Emissions\": 14870, \"Gasoline Price\": 0.75, \"GDP\": 96107662398, \"Life expectancy\": 66.2, \"Physicians per thousand\": 0.08, \"Population\": 112078730, \"Region\": \"Africa\", \"Co2-Emissions per million people\": 132.67459401083505, \"GDP per capita\": 857.5013510413618, \"Log(Co2-Emissions)\": 9.6071010394542}, {\"Country\": \"Fiji\", \"Abbreviation\": \"FJ\", \"Co2-Emissions\": 2046, \"Gasoline Price\": 0.82, \"GDP\": 5535548972, \"Life expectancy\": 67.3, \"Physicians per thousand\": 0.84, \"Population\": 889953, \"Region\": \"Oceania\", \"Co2-Emissions per million people\": 2298.9978122440175, \"GDP per capita\": 6220.046420428944, \"Log(Co2-Emissions)\": 7.6236419465115715}, {\"Country\": \"Finland\", \"Abbreviation\": \"FI\", \"Co2-Emissions\": 45871, \"Gasoline Price\": 1.45, \"GDP\": 268761201365, \"Life expectancy\": 81.7, \"Physicians per thousand\": 3.81, \"Population\": 5520314, \"Region\": \"Europe\", \"Co2-Emissions per million people\": 8309.491090543039, \"GDP per capita\": 48685.853986747854, \"Log(Co2-Emissions)\": 10.73358838809481}, {\"Country\": \"France\", \"Abbreviation\": \"FR\", \"Co2-Emissions\": 303276, \"Gasoline Price\": 1.39, \"GDP\": 2715518274227, \"Life expectancy\": 82.5, \"Physicians per thousand\": 3.27, \"Population\": 67059887, \"Region\": \"Europe\", \"Co2-Emissions per million people\": 4522.465121362343, \"GDP per capita\": 40493.9285720389, \"Log(Co2-Emissions)\": 12.622398560971083}, {\"Country\": \"Gabon\", \"Abbreviation\": \"GA\", \"Co2-Emissions\": 5321, \"Gasoline Price\": 0.92, \"GDP\": 16657960228, \"Life expectancy\": 66.2, \"Physicians per thousand\": 0.68, \"Population\": 2172579, \"Region\": \"Africa\", \"Co2-Emissions per million people\": 2449.1629533379455, \"GDP per capita\": 7667.366861228061, \"Log(Co2-Emissions)\": 8.579416534596369}, {\"Country\": \"The Gambia\", \"Abbreviation\": \"GM\", \"Co2-Emissions\": 532, \"Gasoline Price\": 1.18, \"GDP\": 1763819048, \"Life expectancy\": 61.7, \"Physicians per thousand\": 0.1, \"Population\": 2347706, \"Region\": \"Africa\", \"Co2-Emissions per million people\": 226.60418297691447, \"GDP per capita\": 751.2946885172164, \"Log(Co2-Emissions)\": 6.2766434893416445}, {\"Country\": \"Georgia\", \"Abbreviation\": \"GE\", \"Co2-Emissions\": 10128, \"Gasoline Price\": 0.76, \"GDP\": 17743195770, \"Life expectancy\": 73.6, \"Physicians per thousand\": 7.12, \"Population\": 3720382, \"Region\": \"Asia\", \"Co2-Emissions per million people\": 2722.301097037885, \"GDP per capita\": 4769.18654320981, \"Log(Co2-Emissions)\": 9.223059144383958}, {\"Country\": \"Germany\", \"Abbreviation\": \"DE\", \"Co2-Emissions\": 727973, \"Gasoline Price\": 1.39, \"GDP\": 3845630030824, \"Life expectancy\": 80.9, \"Physicians per thousand\": 4.25, \"Population\": 83132799, \"Region\": \"Europe\", \"Co2-Emissions per million people\": 8756.748344296695, \"GDP per capita\": 46258.8782897109, \"Log(Co2-Emissions)\": 13.498019238578962}, {\"Country\": \"Ghana\", \"Abbreviation\": \"GH\", \"Co2-Emissions\": 16670, \"Gasoline Price\": 0.92, \"GDP\": 66983634224, \"Life expectancy\": 63.8, \"Physicians per thousand\": 0.14, \"Population\": 30792608, \"Region\": \"Africa\", \"Co2-Emissions per million people\": 541.3636935202111, \"GDP per capita\": 2175.3153946557563, \"Log(Co2-Emissions)\": 9.72136597574484}, {\"Country\": \"Greece\", \"Abbreviation\": \"GR\", \"Co2-Emissions\": 62434, \"Gasoline Price\": 1.54, \"GDP\": 209852761469, \"Life expectancy\": 81.3, \"Physicians per thousand\": 5.48, \"Population\": 10716322, \"Region\": \"Europe\", \"Co2-Emissions per million people\": 5826.0660700564995, \"GDP per capita\": 19582.53601086268, \"Log(Co2-Emissions)\": 11.041865277763653}, {\"Country\": \"Grenada\", \"Abbreviation\": \"GD\", \"Co2-Emissions\": 268, \"Gasoline Price\": 1.12, \"GDP\": 1228170370, \"Life expectancy\": 72.4, \"Physicians per thousand\": 1.41, \"Population\": 112003, \"Region\": \"Americas\", \"Co2-Emissions per million people\": 2392.793050186156, \"GDP per capita\": 10965.51315589761, \"Log(Co2-Emissions)\": 5.5909869805108565}, {\"Country\": \"Guatemala\", \"Abbreviation\": \"GT\", \"Co2-Emissions\": 16777, \"Gasoline Price\": 0.79, \"GDP\": 76710385880, \"Life expectancy\": 74.1, \"Physicians per thousand\": 0.35, \"Population\": 16604026, \"Region\": \"Americas\", \"Co2-Emissions per million people\": 1010.4175939016236, \"GDP per capita\": 4619.987097105244, \"Log(Co2-Emissions)\": 9.7277641797704}, {\"Country\": \"Guinea\", \"Abbreviation\": \"GN\", \"Co2-Emissions\": 2996, \"Gasoline Price\": 0.9, \"GDP\": 13590281809, \"Life expectancy\": 61.2, \"Physicians per thousand\": 0.08, \"Population\": 12771246, \"Region\": \"Africa\", \"Co2-Emissions per million people\": 234.58948328142768, \"GDP per capita\": 1064.1312373906196, \"Log(Co2-Emissions)\": 8.005033344637111}, {\"Country\": \"Guyana\", \"Abbreviation\": \"GY\", \"Co2-Emissions\": 2384, \"Gasoline Price\": 0.9, \"GDP\": 4280443645, \"Life expectancy\": 69.8, \"Physicians per thousand\": 0.8, \"Population\": 782766, \"Region\": \"Americas\", \"Co2-Emissions per million people\": 3045.610054601247, \"GDP per capita\": 5468.356628928696, \"Log(Co2-Emissions)\": 7.776535028185241}, {\"Country\": \"Haiti\", \"Abbreviation\": \"HT\", \"Co2-Emissions\": 2978, \"Gasoline Price\": 0.81, \"GDP\": 8498981821, \"Life expectancy\": 63.7, \"Physicians per thousand\": 0.23, \"Population\": 11263077, \"Region\": \"Americas\", \"Co2-Emissions per million people\": 264.4037681709891, \"GDP per capita\": 754.5879177599514, \"Log(Co2-Emissions)\": 7.999007213243955}, {\"Country\": \"Honduras\", \"Abbreviation\": \"HN\", \"Co2-Emissions\": 9813, \"Gasoline Price\": 0.98, \"GDP\": 25095395475, \"Life expectancy\": 75.1, \"Physicians per thousand\": 0.31, \"Population\": 9746117, \"Region\": \"Americas\", \"Co2-Emissions per million people\": 1006.8625279175286, \"GDP per capita\": 2574.912190670397, \"Log(Co2-Emissions)\": 9.191463316206494}, {\"Country\": \"Hungary\", \"Abbreviation\": \"HU\", \"Co2-Emissions\": 45537, \"Gasoline Price\": 1.18, \"GDP\": 160967157504, \"Life expectancy\": 75.8, \"Physicians per thousand\": 3.41, \"Population\": 9769949, \"Region\": \"Europe\", \"Co2-Emissions per million people\": 4660.925046794001, \"GDP per capita\": 16475.741838979917, \"Log(Co2-Emissions)\": 10.72628046129497}, {\"Country\": \"Iceland\", \"Abbreviation\": \"IS\", \"Co2-Emissions\": 2065, \"Gasoline Price\": 1.69, \"GDP\": 24188035739, \"Life expectancy\": 82.7, \"Physicians per thousand\": 4.08, \"Population\": 361313, \"Region\": \"Europe\", \"Co2-Emissions per million people\": 5715.2662649835465, \"GDP per capita\": 66944.82550863102, \"Log(Co2-Emissions)\": 7.632885505395133}, {\"Country\": \"India\", \"Abbreviation\": \"IN\", \"Co2-Emissions\": 2407672, \"Gasoline Price\": 0.97, \"GDP\": 2611000000000, \"Life expectancy\": 69.4, \"Physicians per thousand\": 0.86, \"Population\": 1366417754, \"Region\": \"Asia\", \"Co2-Emissions per million people\": 1762.0321405747777, \"GDP per capita\": 1910.8358277376421, \"Log(Co2-Emissions)\": 14.694170863508482}, {\"Country\": \"Indonesia\", \"Abbreviation\": \"ID\", \"Co2-Emissions\": 563325, \"Gasoline Price\": 0.63, \"GDP\": 1119190780753, \"Life expectancy\": 71.5, \"Physicians per thousand\": 0.43, \"Population\": 270203917, \"Region\": \"Asia\", \"Co2-Emissions per million people\": 2084.8143367218468, \"GDP per capita\": 4142.022784788127, \"Log(Co2-Emissions)\": 13.241612005222322}, {\"Country\": \"Iran\", \"Abbreviation\": \"IR\", \"Co2-Emissions\": 661710, \"Gasoline Price\": 0.4, \"GDP\": 445345282123, \"Life expectancy\": 76.5, \"Physicians per thousand\": 1.58, \"Population\": 82913906, \"Region\": \"Asia\", \"Co2-Emissions per million people\": 7980.687823342927, \"GDP per capita\": 5371.177207873912, \"Log(Co2-Emissions)\": 13.402582672474743}, {\"Country\": \"Iraq\", \"Abbreviation\": \"IQ\", \"Co2-Emissions\": 190061, \"Gasoline Price\": 0.61, \"GDP\": 234094042939, \"Life expectancy\": 70.5, \"Physicians per thousand\": 0.71, \"Population\": 39309783, \"Region\": \"Asia\", \"Co2-Emissions per million people\": 4834.954189393516, \"GDP per capita\": 5955.109010370268, \"Log(Co2-Emissions)\": 12.155100352247834}, {\"Country\": \"Israel\", \"Abbreviation\": \"IL\", \"Co2-Emissions\": 65166, \"Gasoline Price\": 1.57, \"GDP\": 395098666122, \"Life expectancy\": 82.8, \"Physicians per thousand\": 4.62, \"Population\": 9053300, \"Region\": \"Asia\", \"Co2-Emissions per million people\": 7198.03828438249, \"GDP per capita\": 43641.39773585323, \"Log(Co2-Emissions)\": 11.084693139508092}, {\"Country\": \"Italy\", \"Abbreviation\": \"IT\", \"Co2-Emissions\": 320411, \"Gasoline Price\": 1.61, \"GDP\": 2001244392042, \"Life expectancy\": 82.9, \"Physicians per thousand\": 3.98, \"Population\": 60297396, \"Region\": \"Europe\", \"Co2-Emissions per million people\": 5313.844730541929, \"GDP per capita\": 33189.56579886136, \"Log(Co2-Emissions)\": 12.677359825671903}, {\"Country\": \"Jamaica\", \"Abbreviation\": \"JM\", \"Co2-Emissions\": 8225, \"Gasoline Price\": 1.11, \"GDP\": 16458071068, \"Life expectancy\": 74.4, \"Physicians per thousand\": 1.31, \"Population\": 2948279, \"Region\": \"Americas\", \"Co2-Emissions per million people\": 2789.7631126497863, \"GDP per capita\": 5582.263777613991, \"Log(Co2-Emissions)\": 9.014933575633572}, {\"Country\": \"Japan\", \"Abbreviation\": \"JP\", \"Co2-Emissions\": 1135886, \"Gasoline Price\": 1.06, \"GDP\": 5081769542380, \"Life expectancy\": 84.2, \"Physicians per thousand\": 2.41, \"Population\": 126226568, \"Region\": \"Asia\", \"Co2-Emissions per million people\": 8998.787006551585, \"GDP per capita\": 40259.112030836484, \"Log(Co2-Emissions)\": 13.942923521114947}, {\"Country\": \"Jordan\", \"Abbreviation\": \"JO\", \"Co2-Emissions\": 25108, \"Gasoline Price\": 1.1, \"GDP\": 43743661972, \"Life expectancy\": 74.4, \"Physicians per thousand\": 2.32, \"Population\": 10101694, \"Region\": \"Asia\", \"Co2-Emissions per million people\": 2485.5237151313436, \"GDP per capita\": 4330.329345949303, \"Log(Co2-Emissions)\": 10.130941799437423}, {\"Country\": \"Kazakhstan\", \"Abbreviation\": \"KZ\", \"Co2-Emissions\": 247207, \"Gasoline Price\": 0.42, \"GDP\": 180161741180, \"Life expectancy\": 73.2, \"Physicians per thousand\": 3.25, \"Population\": 18513930, \"Region\": \"Asia\", \"Co2-Emissions per million people\": 13352.48647909979, \"GDP per capita\": 9731.14520687936, \"Log(Co2-Emissions)\": 12.417981321316853}, {\"Country\": \"Kenya\", \"Abbreviation\": \"KE\", \"Co2-Emissions\": 17910, \"Gasoline Price\": 0.95, \"GDP\": 95503088538, \"Life expectancy\": 66.3, \"Physicians per thousand\": 0.16, \"Population\": 52573973, \"Region\": \"Africa\", \"Co2-Emissions per million people\": 340.66285992880927, \"GDP per capita\": 1816.5469164371505, \"Log(Co2-Emissions)\": 9.793114495054757}, {\"Country\": \"Kuwait\", \"Abbreviation\": \"KW\", \"Co2-Emissions\": 98734, \"Gasoline Price\": 0.35, \"GDP\": 134761198946, \"Life expectancy\": 75.4, \"Physicians per thousand\": 2.58, \"Population\": 4207083, \"Region\": \"Asia\", \"Co2-Emissions per million people\": 23468.51726005881, \"GDP per capita\": 32031.980102603156, \"Log(Co2-Emissions)\": 11.500184644319393}, {\"Country\": \"Kyrgyzstan\", \"Abbreviation\": \"KG\", \"Co2-Emissions\": 9787, \"Gasoline Price\": 0.56, \"GDP\": 8454619608, \"Life expectancy\": 71.4, \"Physicians per thousand\": 1.88, \"Population\": 6456900, \"Region\": \"Asia\", \"Co2-Emissions per million people\": 1515.7428487354614, \"GDP per capita\": 1309.3929916833156, \"Log(Co2-Emissions)\": 9.18881025342582}, {\"Country\": \"Laos\", \"Abbreviation\": \"LA\", \"Co2-Emissions\": 17763, \"Gasoline Price\": 0.93, \"GDP\": 18173839128, \"Life expectancy\": 67.6, \"Physicians per thousand\": 0.37, \"Population\": 7169455, \"Region\": \"Asia\", \"Co2-Emissions per million people\": 2477.5941825424666, \"GDP per capita\": 2534.8982772051713, \"Log(Co2-Emissions)\": 9.784872921199886}, {\"Country\": \"Latvia\", \"Abbreviation\": \"LV\", \"Co2-Emissions\": 7004, \"Gasoline Price\": 1.16, \"GDP\": 34117202555, \"Life expectancy\": 74.7, \"Physicians per thousand\": 3.19, \"Population\": 1912789, \"Region\": \"Europe\", \"Co2-Emissions per million people\": 3661.6689033657135, \"GDP per capita\": 17836.364886560932, \"Log(Co2-Emissions)\": 8.854236693405742}, {\"Country\": \"Lebanon\", \"Abbreviation\": \"LB\", \"Co2-Emissions\": 24796, \"Gasoline Price\": 0.74, \"GDP\": 53367042272, \"Life expectancy\": 78.9, \"Physicians per thousand\": 2.1, \"Population\": 6855713, \"Region\": \"Asia\", \"Co2-Emissions per million people\": 3616.8375193068905, \"GDP per capita\": 7784.316856904599, \"Log(Co2-Emissions)\": 10.11843762882181}, {\"Country\": \"Lesotho\", \"Abbreviation\": \"LS\", \"Co2-Emissions\": 2512, \"Gasoline Price\": 0.7, \"GDP\": 2460072444, \"Life expectancy\": 53.7, \"Physicians per thousand\": 0.07, \"Population\": 2125268, \"Region\": \"Africa\", \"Co2-Emissions per million people\": 1181.968579962621, \"GDP per capita\": 1157.5351645063117, \"Log(Co2-Emissions)\": 7.828834527588089}, {\"Country\": \"Liberia\", \"Abbreviation\": \"LR\", \"Co2-Emissions\": 1386, \"Gasoline Price\": 0.8, \"GDP\": 3070518100, \"Life expectancy\": 63.7, \"Physicians per thousand\": 0.04, \"Population\": 4937374, \"Region\": \"Africa\", \"Co2-Emissions per million people\": 280.71602434816566, \"GDP per capita\": 621.8929536227153, \"Log(Co2-Emissions)\": 7.234177179749849}, {\"Country\": \"Libya\", \"Abbreviation\": \"LY\", \"Co2-Emissions\": 50564, \"Gasoline Price\": 0.11, \"GDP\": 52076250948, \"Life expectancy\": 72.7, \"Physicians per thousand\": 2.09, \"Population\": 6777452, \"Region\": \"Africa\", \"Co2-Emissions per million people\": 7460.620894105927, \"GDP per capita\": 7683.750611291677, \"Log(Co2-Emissions)\": 10.830995139615448}, {\"Country\": \"Lithuania\", \"Abbreviation\": \"LT\", \"Co2-Emissions\": 12963, \"Gasoline Price\": 1.16, \"GDP\": 54219315600, \"Life expectancy\": 75.7, \"Physicians per thousand\": 6.35, \"Population\": 2786844, \"Region\": \"Europe\", \"Co2-Emissions per million people\": 4651.498253938864, \"GDP per capita\": 19455.45412660343, \"Log(Co2-Emissions)\": 9.469854424600042}, {\"Country\": \"Luxembourg\", \"Abbreviation\": \"LU\", \"Co2-Emissions\": 8988, \"Gasoline Price\": 1.19, \"GDP\": 71104919108, \"Life expectancy\": 82.1, \"Physicians per thousand\": 3.01, \"Population\": 645397, \"Region\": \"Europe\", \"Co2-Emissions per million people\": 13926.312021902797, \"GDP per capita\": 110172.37314087298, \"Log(Co2-Emissions)\": 9.10364563330522}, {\"Country\": \"Madagascar\", \"Abbreviation\": \"MG\", \"Co2-Emissions\": 3905, \"Gasoline Price\": 1.11, \"GDP\": 14083906357, \"Life expectancy\": 66.7, \"Physicians per thousand\": 0.18, \"Population\": 26969307, \"Region\": \"Africa\", \"Co2-Emissions per million people\": 144.79422849092862, \"GDP per capita\": 522.219809244635, \"Log(Co2-Emissions)\": 8.270013062273787}, {\"Country\": \"Malawi\", \"Abbreviation\": \"MW\", \"Co2-Emissions\": 1298, \"Gasoline Price\": 1.15, \"GDP\": 7666704427, \"Life expectancy\": 63.8, \"Physicians per thousand\": 0.04, \"Population\": 18628747, \"Region\": \"Africa\", \"Co2-Emissions per million people\": 69.67725741296502, \"GDP per capita\": 411.5523404231106, \"Log(Co2-Emissions)\": 7.168579897264035}, {\"Country\": \"Malaysia\", \"Abbreviation\": \"MY\", \"Co2-Emissions\": 248289, \"Gasoline Price\": 0.45, \"GDP\": 364701517788, \"Life expectancy\": 76.0, \"Physicians per thousand\": 1.51, \"Population\": 32447385, \"Region\": \"Asia\", \"Co2-Emissions per million people\": 7652.049618174161, \"GDP per capita\": 11239.78150436468, \"Log(Co2-Emissions)\": 12.422348669266439}, {\"Country\": \"Maldives\", \"Abbreviation\": \"MV\", \"Co2-Emissions\": 1445, \"Gasoline Price\": 1.63, \"GDP\": 5729248472, \"Life expectancy\": 78.6, \"Physicians per thousand\": 4.56, \"Population\": 530953, \"Region\": \"Asia\", \"Co2-Emissions per million people\": 2721.5214906027463, \"GDP per capita\": 10790.500236367438, \"Log(Co2-Emissions)\": 7.275864600546533}, {\"Country\": \"Mali\", \"Abbreviation\": \"ML\", \"Co2-Emissions\": 3179, \"Gasoline Price\": 1.12, \"GDP\": 17510141171, \"Life expectancy\": 58.9, \"Physicians per thousand\": 0.13, \"Population\": 19658031, \"Region\": \"Africa\", \"Co2-Emissions per million people\": 161.71507716108493, \"GDP per capita\": 890.7372854890706, \"Log(Co2-Emissions)\": 8.064321960910803}, {\"Country\": \"Malta\", \"Abbreviation\": \"MT\", \"Co2-Emissions\": 1342, \"Gasoline Price\": 1.36, \"GDP\": 14786156563, \"Life expectancy\": 82.3, \"Physicians per thousand\": 2.86, \"Population\": 502653, \"Region\": \"Europe\", \"Co2-Emissions per million people\": 2669.8338615307184, \"GDP per capita\": 29416.230606402427, \"Log(Co2-Emissions)\": 7.201916317531627}, {\"Country\": \"Marshall Islands\", \"Abbreviation\": \"MH\", \"Co2-Emissions\": 143, \"Gasoline Price\": 1.44, \"GDP\": 221278000, \"Life expectancy\": 65.2, \"Physicians per thousand\": 0.42, \"Population\": 58791, \"Region\": \"Oceania\", \"Co2-Emissions per million people\": 2432.3450868330183, \"GDP per capita\": 3763.8073854841728, \"Log(Co2-Emissions)\": 4.962844630259907}, {\"Country\": \"Mauritania\", \"Abbreviation\": \"MR\", \"Co2-Emissions\": 2739, \"Gasoline Price\": 1.13, \"GDP\": 7593752450, \"Life expectancy\": 64.7, \"Physicians per thousand\": 0.19, \"Population\": 4525696, \"Region\": \"Africa\", \"Co2-Emissions per million people\": 605.2107786294085, \"GDP per capita\": 1677.9192526409197, \"Log(Co2-Emissions)\": 7.915348169263078}, {\"Country\": \"Mauritius\", \"Abbreviation\": \"MU\", \"Co2-Emissions\": 4349, \"Gasoline Price\": 1.12, \"GDP\": 14180444557, \"Life expectancy\": 74.4, \"Physicians per thousand\": 2.53, \"Population\": 1265711, \"Region\": \"Africa\", \"Co2-Emissions per million people\": 3436.0134343463874, \"GDP per capita\": 11203.540584699034, \"Log(Co2-Emissions)\": 8.37770121259764}, {\"Country\": \"Mexico\", \"Abbreviation\": \"MX\", \"Co2-Emissions\": 486406, \"Gasoline Price\": 0.73, \"GDP\": 1258286717125, \"Life expectancy\": 75.0, \"Physicians per thousand\": 2.38, \"Population\": 126014024, \"Region\": \"Americas\", \"Co2-Emissions per million people\": 3859.93546242123, \"GDP per capita\": 9985.29113811174, \"Log(Co2-Emissions)\": 13.094798945084328}, {\"Country\": \"Moldova\", \"Abbreviation\": \"MD\", \"Co2-Emissions\": 5115, \"Gasoline Price\": 0.8, \"GDP\": 11955435457, \"Life expectancy\": 71.8, \"Physicians per thousand\": 3.21, \"Population\": 2657637, \"Region\": \"Europe\", \"Co2-Emissions per million people\": 1924.642078658598, \"GDP per capita\": 4498.520850289186, \"Log(Co2-Emissions)\": 8.539932678385727}, {\"Country\": \"Mongolia\", \"Abbreviation\": \"MN\", \"Co2-Emissions\": 25368, \"Gasoline Price\": 0.72, \"GDP\": 13852850259, \"Life expectancy\": 69.7, \"Physicians per thousand\": 2.86, \"Population\": 3225167, \"Region\": \"Asia\", \"Co2-Emissions per million people\": 7865.639205659738, \"GDP per capita\": 4295.235024728952, \"Log(Co2-Emissions)\": 10.141243816218184}, {\"Country\": \"Montenegro\", \"Abbreviation\": \"ME\", \"Co2-Emissions\": 2017, \"Gasoline Price\": 1.16, \"GDP\": 5494736901, \"Life expectancy\": 76.8, \"Physicians per thousand\": 2.76, \"Population\": 622137, \"Region\": \"Europe\", \"Co2-Emissions per million people\": 3242.0511880823674, \"GDP per capita\": 8832.036835938065, \"Log(Co2-Emissions)\": 7.6093665379542115}, {\"Country\": \"Morocco\", \"Abbreviation\": \"MA\", \"Co2-Emissions\": 61276, \"Gasoline Price\": 0.99, \"GDP\": 118725279596, \"Life expectancy\": 76.5, \"Physicians per thousand\": 0.73, \"Population\": 36910560, \"Region\": \"Africa\", \"Co2-Emissions per million people\": 1660.1211143911119, \"GDP per capita\": 3216.5667385160236, \"Log(Co2-Emissions)\": 11.023143528132588}, {\"Country\": \"Mozambique\", \"Abbreviation\": \"MZ\", \"Co2-Emissions\": 7943, \"Gasoline Price\": 0.65, \"GDP\": 14934159926, \"Life expectancy\": 60.2, \"Physicians per thousand\": 0.08, \"Population\": 30366036, \"Region\": \"Africa\", \"Co2-Emissions per million people\": 261.57513611588945, \"GDP per capita\": 491.80472307942995, \"Log(Co2-Emissions)\": 8.980046316633132}, {\"Country\": \"Myanmar\", \"Abbreviation\": \"MM\", \"Co2-Emissions\": 25280, \"Gasoline Price\": 0.54, \"GDP\": 76085852617, \"Life expectancy\": 66.9, \"Physicians per thousand\": 0.68, \"Population\": 54045420, \"Region\": \"Asia\", \"Co2-Emissions per million people\": 467.75471446054075, \"GDP per capita\": 1407.8131434078966, \"Log(Co2-Emissions)\": 10.137768848260794}, {\"Country\": \"Nepal\", \"Abbreviation\": \"NP\", \"Co2-Emissions\": 9105, \"Gasoline Price\": 0.91, \"GDP\": 30641380604, \"Life expectancy\": 70.5, \"Physicians per thousand\": 0.75, \"Population\": 28608710, \"Region\": \"Asia\", \"Co2-Emissions per million people\": 318.25971880591607, \"GDP per capita\": 1071.0507605550897, \"Log(Co2-Emissions)\": 9.116578992161708}, {\"Country\": \"Netherlands\", \"Abbreviation\": \"NL\", \"Co2-Emissions\": 170780, \"Gasoline Price\": 1.68, \"GDP\": 909070395161, \"Life expectancy\": 81.8, \"Physicians per thousand\": 3.61, \"Population\": 17332850, \"Region\": \"Europe\", \"Co2-Emissions per million people\": 9852.967053889004, \"GDP per capita\": 52447.83143920359, \"Log(Co2-Emissions)\": 12.048131457461597}, {\"Country\": \"New Zealand\", \"Abbreviation\": \"NZ\", \"Co2-Emissions\": 34382, \"Gasoline Price\": 1.4, \"GDP\": 206928765544, \"Life expectancy\": 81.9, \"Physicians per thousand\": 3.59, \"Population\": 4841000, \"Region\": \"Oceania\", \"Co2-Emissions per million people\": 7102.251600908903, \"GDP per capita\": 42745.04555752943, \"Log(Co2-Emissions)\": 10.445288450601439}, {\"Country\": \"Nicaragua\", \"Abbreviation\": \"NI\", \"Co2-Emissions\": 5592, \"Gasoline Price\": 0.91, \"GDP\": 12520915291, \"Life expectancy\": 74.3, \"Physicians per thousand\": 0.98, \"Population\": 6545502, \"Region\": \"Americas\", \"Co2-Emissions per million people\": 854.3271394615723, \"GDP per capita\": 1912.903745350624, \"Log(Co2-Emissions)\": 8.629092283913646}, {\"Country\": \"Niger\", \"Abbreviation\": \"NE\", \"Co2-Emissions\": 2017, \"Gasoline Price\": 0.88, \"GDP\": 12928145120, \"Life expectancy\": 62.0, \"Physicians per thousand\": 0.04, \"Population\": 23310715, \"Region\": \"Africa\", \"Co2-Emissions per million people\": 86.52673244900468, \"GDP per capita\": 554.6009686961554, \"Log(Co2-Emissions)\": 7.6093665379542115}, {\"Country\": \"Nigeria\", \"Abbreviation\": \"NG\", \"Co2-Emissions\": 120369, \"Gasoline Price\": 0.46, \"GDP\": 448120428859, \"Life expectancy\": 54.3, \"Physicians per thousand\": 0.38, \"Population\": 200963599, \"Region\": \"Africa\", \"Co2-Emissions per million people\": 598.9592174849536, \"GDP per capita\": 2229.858696245781, \"Log(Co2-Emissions)\": 11.698317303621401}, {\"Country\": \"North Korea\", \"Abbreviation\": \"KP\", \"Co2-Emissions\": 28284, \"Gasoline Price\": 0.58, \"GDP\": 32100000000, \"Life expectancy\": 72.1, \"Physicians per thousand\": 3.67, \"Population\": 25666161, \"Region\": \"Asia\", \"Co2-Emissions per million people\": 1101.9957367212025, \"GDP per capita\": 1250.6739905512165, \"Log(Co2-Emissions)\": 10.250051552724132}, {\"Country\": \"Norway\", \"Abbreviation\": \"NO\", \"Co2-Emissions\": 41023, \"Gasoline Price\": 1.78, \"GDP\": 403336363636, \"Life expectancy\": 82.8, \"Physicians per thousand\": 2.92, \"Population\": 5347896, \"Region\": \"Europe\", \"Co2-Emissions per million people\": 7670.867197118268, \"GDP per capita\": 75419.6348687409, \"Log(Co2-Emissions)\": 10.621888164008205}, {\"Country\": \"Oman\", \"Abbreviation\": \"OM\", \"Co2-Emissions\": 63457, \"Gasoline Price\": 0.45, \"GDP\": 76983094928, \"Life expectancy\": 77.6, \"Physicians per thousand\": 2.0, \"Population\": 5266535, \"Region\": \"Asia\", \"Co2-Emissions per million people\": 12049.098695821827, \"GDP per capita\": 14617.408775978893, \"Log(Co2-Emissions)\": 11.058117790146436}, {\"Country\": \"Pakistan\", \"Abbreviation\": \"PK\", \"Co2-Emissions\": 201150, \"Gasoline Price\": 0.79, \"GDP\": 304400000000, \"Life expectancy\": 67.1, \"Physicians per thousand\": 0.98, \"Population\": 216565318, \"Region\": \"Asia\", \"Co2-Emissions per million people\": 928.8190826566238, \"GDP per capita\": 1405.5805556086316, \"Log(Co2-Emissions)\": 12.211806177377934}, {\"Country\": \"Panama\", \"Abbreviation\": \"PA\", \"Co2-Emissions\": 10715, \"Gasoline Price\": 0.74, \"GDP\": 66800800000, \"Life expectancy\": 78.3, \"Physicians per thousand\": 1.57, \"Population\": 4246439, \"Region\": \"Americas\", \"Co2-Emissions per million people\": 2523.290691329841, \"GDP per capita\": 15731.01603484708, \"Log(Co2-Emissions)\": 9.279399907907678}, {\"Country\": \"Papua New Guinea\", \"Abbreviation\": \"PG\", \"Co2-Emissions\": 7536, \"Gasoline Price\": 1.36, \"GDP\": 24969611435, \"Life expectancy\": 64.3, \"Physicians per thousand\": 0.07, \"Population\": 8776109, \"Region\": \"Oceania\", \"Co2-Emissions per million people\": 858.694895425752, \"GDP per capita\": 2845.180185774812, \"Log(Co2-Emissions)\": 8.927446816256198}, {\"Country\": \"Paraguay\", \"Abbreviation\": \"PY\", \"Co2-Emissions\": 7407, \"Gasoline Price\": 1.04, \"GDP\": 38145288940, \"Life expectancy\": 74.1, \"Physicians per thousand\": 1.35, \"Population\": 7044636, \"Region\": \"Americas\", \"Co2-Emissions per million people\": 1051.4382858106508, \"GDP per capita\": 5414.799137954041, \"Log(Co2-Emissions)\": 8.91018077801329}, {\"Country\": \"Peru\", \"Abbreviation\": \"PE\", \"Co2-Emissions\": 57414, \"Gasoline Price\": 0.99, \"GDP\": 226848050820, \"Life expectancy\": 76.5, \"Physicians per thousand\": 1.27, \"Population\": 32510453, \"Region\": \"Americas\", \"Co2-Emissions per million people\": 1766.0166101038333, \"GDP per capita\": 6977.695783568442, \"Log(Co2-Emissions)\": 10.958043455007317}, {\"Country\": \"Philippines\", \"Abbreviation\": \"PH\", \"Co2-Emissions\": 122287, \"Gasoline Price\": 0.86, \"GDP\": 376795508680, \"Life expectancy\": 71.1, \"Physicians per thousand\": 0.6, \"Population\": 108116615, \"Region\": \"Asia\", \"Co2-Emissions per million people\": 1131.065747850134, \"GDP per capita\": 3485.0842183692116, \"Log(Co2-Emissions)\": 11.714126020031985}, {\"Country\": \"Poland\", \"Abbreviation\": \"PL\", \"Co2-Emissions\": 299037, \"Gasoline Price\": 1.07, \"GDP\": 592164400688, \"Life expectancy\": 77.6, \"Physicians per thousand\": 2.38, \"Population\": 37970874, \"Region\": \"Europe\", \"Co2-Emissions per million people\": 7875.431047491822, \"GDP per capita\": 15595.227033436207, \"Log(Co2-Emissions)\": 12.60832259053634}, {\"Country\": \"Portugal\", \"Abbreviation\": \"PT\", \"Co2-Emissions\": 48742, \"Gasoline Price\": 1.54, \"GDP\": 237686075635, \"Life expectancy\": 81.3, \"Physicians per thousand\": 5.12, \"Population\": 10269417, \"Region\": \"Europe\", \"Co2-Emissions per million people\": 4746.32591119827, \"GDP per capita\": 23145.04081731222, \"Log(Co2-Emissions)\": 10.794296360395592}, {\"Country\": \"Qatar\", \"Abbreviation\": \"QA\", \"Co2-Emissions\": 103259, \"Gasoline Price\": 0.4, \"GDP\": 183466208791, \"Life expectancy\": 80.1, \"Physicians per thousand\": 2.49, \"Population\": 2832067, \"Region\": \"Asia\", \"Co2-Emissions per million people\": 36460.648706404194, \"GDP per capita\": 64781.73319734314, \"Log(Co2-Emissions)\": 11.544995674094668}, {\"Country\": \"Romania\", \"Abbreviation\": \"RO\", \"Co2-Emissions\": 69259, \"Gasoline Price\": 1.16, \"GDP\": 250077444017, \"Life expectancy\": 75.4, \"Physicians per thousand\": 2.98, \"Population\": 19356544, \"Region\": \"Europe\", \"Co2-Emissions per million people\": 3578.0664151617148, \"GDP per capita\": 12919.529644186483, \"Log(Co2-Emissions)\": 11.145608379503926}, {\"Country\": \"Russia\", \"Abbreviation\": \"RU\", \"Co2-Emissions\": 1732027, \"Gasoline Price\": 0.59, \"GDP\": 1699876578871, \"Life expectancy\": 72.7, \"Physicians per thousand\": 4.01, \"Population\": 144373535, \"Region\": \"Europe\", \"Co2-Emissions per million people\": 11996.845543748721, \"GDP per capita\": 11774.156384485565, \"Log(Co2-Emissions)\": 14.364802956897561}, {\"Country\": \"Rwanda\", \"Abbreviation\": \"RW\", \"Co2-Emissions\": 1115, \"Gasoline Price\": 1.17, \"GDP\": 10122472590, \"Life expectancy\": 68.7, \"Physicians per thousand\": 0.13, \"Population\": 12626950, \"Region\": \"Africa\", \"Co2-Emissions per million people\": 88.30319277418538, \"GDP per capita\": 801.6561869651816, \"Log(Co2-Emissions)\": 7.016609683894219}, {\"Country\": \"Saint Lucia\", \"Abbreviation\": \"LC\", \"Co2-Emissions\": 414, \"Gasoline Price\": 1.3, \"GDP\": 2122450630, \"Life expectancy\": 76.1, \"Physicians per thousand\": 0.64, \"Population\": 182790, \"Region\": \"Americas\", \"Co2-Emissions per million people\": 2264.8941408173314, \"GDP per capita\": 11611.415449422835, \"Log(Co2-Emissions)\": 6.025865973825314}, {\"Country\": \"Samoa\", \"Abbreviation\": \"WS\", \"Co2-Emissions\": 246, \"Gasoline Price\": 0.91, \"GDP\": 850655017, \"Life expectancy\": 73.2, \"Physicians per thousand\": 0.34, \"Population\": 202506, \"Region\": \"Oceania\", \"Co2-Emissions per million people\": 1214.7788213682556, \"GDP per capita\": 4200.641052610787, \"Log(Co2-Emissions)\": 5.5053315359323625}, {\"Country\": \"Saudi Arabia\", \"Abbreviation\": \"SA\", \"Co2-Emissions\": 563449, \"Gasoline Price\": 0.24, \"GDP\": 792966838162, \"Life expectancy\": 75.0, \"Physicians per thousand\": 2.61, \"Population\": 34268528, \"Region\": \"Asia\", \"Co2-Emissions per million people\": 16442.171078956177, \"GDP per capita\": 23139.798656131363, \"Log(Co2-Emissions)\": 13.241832102598549}, {\"Country\": \"Senegal\", \"Abbreviation\": \"SN\", \"Co2-Emissions\": 10902, \"Gasoline Price\": 1.14, \"GDP\": 23578084052, \"Life expectancy\": 67.7, \"Physicians per thousand\": 0.07, \"Population\": 16296364, \"Region\": \"Africa\", \"Co2-Emissions per million people\": 668.9835843136543, \"GDP per capita\": 1446.8309649931728, \"Log(Co2-Emissions)\": 9.296701537624227}, {\"Country\": \"Serbia\", \"Abbreviation\": \"RS\", \"Co2-Emissions\": 45221, \"Gasoline Price\": 1.16, \"GDP\": 51409167351, \"Life expectancy\": 75.5, \"Physicians per thousand\": 3.11, \"Population\": 6944975, \"Region\": \"Europe\", \"Co2-Emissions per million people\": 6511.326534652752, \"GDP per capita\": 7402.354558655718, \"Log(Co2-Emissions)\": 10.71931685969625}, {\"Country\": \"Sierra Leone\", \"Abbreviation\": \"SL\", \"Co2-Emissions\": 1093, \"Gasoline Price\": 1.08, \"GDP\": 3941474311, \"Life expectancy\": 54.3, \"Physicians per thousand\": 0.03, \"Population\": 7813215, \"Region\": \"Africa\", \"Co2-Emissions per million people\": 139.89119715763616, \"GDP per capita\": 504.4625433960284, \"Log(Co2-Emissions)\": 6.996681488176539}, {\"Country\": \"Singapore\", \"Abbreviation\": \"SG\", \"Co2-Emissions\": 37535, \"Gasoline Price\": 1.25, \"GDP\": 372062527489, \"Life expectancy\": 83.1, \"Physicians per thousand\": 2.29, \"Population\": 5703569, \"Region\": \"Asia\", \"Co2-Emissions per million people\": 6580.967110242727, \"GDP per capita\": 65233.28243929371, \"Log(Co2-Emissions)\": 10.533029110007103}, {\"Country\": \"Slovakia\", \"Abbreviation\": \"SK\", \"Co2-Emissions\": 32424, \"Gasoline Price\": 1.32, \"GDP\": 105422304976, \"Life expectancy\": 77.2, \"Physicians per thousand\": 3.42, \"Population\": 5454073, \"Region\": \"Europe\", \"Co2-Emissions per million people\": 5944.914928714742, \"GDP per capita\": 19329.0968008679, \"Log(Co2-Emissions)\": 10.386654168308144}, {\"Country\": \"Slovenia\", \"Abbreviation\": \"SI\", \"Co2-Emissions\": 12633, \"Gasoline Price\": 1.32, \"GDP\": 53742159517, \"Life expectancy\": 81.0, \"Physicians per thousand\": 3.09, \"Population\": 2087946, \"Region\": \"Europe\", \"Co2-Emissions per million people\": 6050.4438333175285, \"GDP per capita\": 25739.247814359183, \"Log(Co2-Emissions)\": 9.444067716830038}, {\"Country\": \"Somalia\", \"Abbreviation\": \"SO\", \"Co2-Emissions\": 645, \"Gasoline Price\": 1.41, \"GDP\": 4720727278, \"Life expectancy\": 57.1, \"Physicians per thousand\": 0.02, \"Population\": 15442905, \"Region\": \"Africa\", \"Co2-Emissions per million people\": 41.76675308175501, \"GDP per capita\": 305.689070676793, \"Log(Co2-Emissions)\": 6.4692503167957724}, {\"Country\": \"South Africa\", \"Abbreviation\": \"ZA\", \"Co2-Emissions\": 476644, \"Gasoline Price\": 0.92, \"GDP\": 351431649241, \"Life expectancy\": 63.9, \"Physicians per thousand\": 0.91, \"Population\": 58558270, \"Region\": \"Africa\", \"Co2-Emissions per million people\": 8139.653032782559, \"GDP per capita\": 6001.400813941395, \"Log(Co2-Emissions)\": 13.074525159989774}, {\"Country\": \"South Korea\", \"Abbreviation\": \"KR\", \"Co2-Emissions\": 620302, \"Gasoline Price\": 1.22, \"GDP\": 2029000000000, \"Life expectancy\": 82.6, \"Physicians per thousand\": 2.36, \"Population\": 51709098, \"Region\": \"Asia\", \"Co2-Emissions per million people\": 11995.993432335641, \"GDP per capita\": 39238.74286107253, \"Log(Co2-Emissions)\": 13.337961735202343}, {\"Country\": \"Spain\", \"Abbreviation\": \"ES\", \"Co2-Emissions\": 244002, \"Gasoline Price\": 1.26, \"GDP\": 1394116310769, \"Life expectancy\": 83.3, \"Physicians per thousand\": 3.87, \"Population\": 47076781, \"Region\": \"Europe\", \"Co2-Emissions per million people\": 5183.064661961487, \"GDP per capita\": 29613.67113798626, \"Log(Co2-Emissions)\": 12.404931700963058}, {\"Country\": \"Sri Lanka\", \"Abbreviation\": \"LK\", \"Co2-Emissions\": 23362, \"Gasoline Price\": 0.88, \"GDP\": 84008783756, \"Life expectancy\": 76.8, \"Physicians per thousand\": 1.0, \"Population\": 21803000, \"Region\": \"Asia\", \"Co2-Emissions per million people\": 1071.5039214786955, \"GDP per capita\": 3853.0836928863, \"Log(Co2-Emissions)\": 10.058866049715641}, {\"Country\": \"Sudan\", \"Abbreviation\": \"SD\", \"Co2-Emissions\": 20000, \"Gasoline Price\": 0.95, \"GDP\": 18902284476, \"Life expectancy\": 65.1, \"Physicians per thousand\": 0.26, \"Population\": 42813238, \"Region\": \"Africa\", \"Co2-Emissions per million people\": 467.14523204248184, \"GDP per capita\": 441.5056033837011, \"Log(Co2-Emissions)\": 9.903487552536127}, {\"Country\": \"Suriname\", \"Abbreviation\": \"SR\", \"Co2-Emissions\": 1738, \"Gasoline Price\": 1.29, \"GDP\": 3985250737, \"Life expectancy\": 71.6, \"Physicians per thousand\": 1.21, \"Population\": 581372, \"Region\": \"Americas\", \"Co2-Emissions per million people\": 2989.48005751911, \"GDP per capita\": 6854.906560687477, \"Log(Co2-Emissions)\": 7.460490305825338}, {\"Country\": \"Sweden\", \"Abbreviation\": \"SE\", \"Co2-Emissions\": 43252, \"Gasoline Price\": 1.42, \"GDP\": 530832908738, \"Life expectancy\": 82.5, \"Physicians per thousand\": 3.98, \"Population\": 10285453, \"Region\": \"Europe\", \"Co2-Emissions per million people\": 4205.162378360973, \"GDP per capita\": 51610.06605523354, \"Log(Co2-Emissions)\": 10.674798754065428}, {\"Country\": \"Switzerland\", \"Abbreviation\": \"CH\", \"Co2-Emissions\": 34477, \"Gasoline Price\": 1.45, \"GDP\": 703082435360, \"Life expectancy\": 83.6, \"Physicians per thousand\": 4.3, \"Population\": 8574832, \"Region\": \"Europe\", \"Co2-Emissions per million people\": 4020.7201727100896, \"GDP per capita\": 81993.72714940654, \"Log(Co2-Emissions)\": 10.448047714031748}, {\"Country\": \"Syria\", \"Abbreviation\": \"SY\", \"Co2-Emissions\": 28830, \"Gasoline Price\": 0.83, \"GDP\": 40405006007, \"Life expectancy\": 71.8, \"Physicians per thousand\": 1.22, \"Population\": 17070135, \"Region\": \"Asia\", \"Co2-Emissions per million people\": 1688.9145867914929, \"GDP per capita\": 2366.999792737433, \"Log(Co2-Emissions)\": 10.269171790632448}, {\"Country\": \"Tajikistan\", \"Abbreviation\": \"TJ\", \"Co2-Emissions\": 5310, \"Gasoline Price\": 0.71, \"GDP\": 8116626794, \"Life expectancy\": 70.9, \"Physicians per thousand\": 1.7, \"Population\": 9321018, \"Region\": \"Asia\", \"Co2-Emissions per million people\": 569.6802645376288, \"GDP per capita\": 870.787589295504, \"Log(Co2-Emissions)\": 8.577347114235984}, {\"Country\": \"Tanzania\", \"Abbreviation\": \"TZ\", \"Co2-Emissions\": 11973, \"Gasoline Price\": 0.87, \"GDP\": 63177068175, \"Life expectancy\": 65.0, \"Physicians per thousand\": 0.01, \"Population\": 58005463, \"Region\": \"Africa\", \"Co2-Emissions per million people\": 206.4115926460237, \"GDP per capita\": 1089.1572087787663, \"Log(Co2-Emissions)\": 9.390409393716844}, {\"Country\": \"Thailand\", \"Abbreviation\": \"TH\", \"Co2-Emissions\": 283763, \"Gasoline Price\": 0.71, \"GDP\": 543649976166, \"Life expectancy\": 76.9, \"Physicians per thousand\": 0.81, \"Population\": 69625582, \"Region\": \"Asia\", \"Co2-Emissions per million people\": 4075.556596424573, \"GDP per capita\": 7808.192916304814, \"Log(Co2-Emissions)\": 12.55589466170625}, {\"Country\": \"East Timor\", \"Abbreviation\": \"TL\", \"Co2-Emissions\": 495, \"Gasoline Price\": 1.1, \"GDP\": 1673540300, \"Life expectancy\": 69.3, \"Physicians per thousand\": 0.72, \"Population\": 3500000, \"Region\": \"Asia\", \"Co2-Emissions per million people\": 141.42857142857142, \"GDP per capita\": 478.15437142857144, \"Log(Co2-Emissions)\": 6.20455776256869}, {\"Country\": \"Togo\", \"Abbreviation\": \"TG\", \"Co2-Emissions\": 3000, \"Gasoline Price\": 0.71, \"GDP\": 5459979417, \"Life expectancy\": 60.8, \"Physicians per thousand\": 0.08, \"Population\": 8082366, \"Region\": \"Africa\", \"Co2-Emissions per million people\": 371.1784395806871, \"GDP per capita\": 675.5422133815766, \"Log(Co2-Emissions)\": 8.006367567650246}, {\"Country\": \"Trinidad and Tobago\", \"Abbreviation\": \"TT\", \"Co2-Emissions\": 43868, \"Gasoline Price\": 0.54, \"GDP\": 24100202834, \"Life expectancy\": 73.4, \"Physicians per thousand\": 4.17, \"Population\": 1394973, \"Region\": \"Americas\", \"Co2-Emissions per million people\": 31447.203637633127, \"GDP per capita\": 17276.465447001483, \"Log(Co2-Emissions)\": 10.6889404038801}, {\"Country\": \"Tunisia\", \"Abbreviation\": \"TN\", \"Co2-Emissions\": 29937, \"Gasoline Price\": 0.73, \"GDP\": 38797709924, \"Life expectancy\": 76.5, \"Physicians per thousand\": 1.3, \"Population\": 11694719, \"Region\": \"Africa\", \"Co2-Emissions per million people\": 2559.873392426103, \"GDP per capita\": 3317.5410135121674, \"Log(Co2-Emissions)\": 10.306850452552423}, {\"Country\": \"Turkey\", \"Abbreviation\": \"TR\", \"Co2-Emissions\": 372725, \"Gasoline Price\": 1.42, \"GDP\": 754411708203, \"Life expectancy\": 77.4, \"Physicians per thousand\": 1.85, \"Population\": 83429615, \"Region\": \"Asia\", \"Co2-Emissions per million people\": 4467.538295604025, \"GDP per capita\": 9042.492982893424, \"Log(Co2-Emissions)\": 12.8285961612966}, {\"Country\": \"Turkmenistan\", \"Abbreviation\": \"TM\", \"Co2-Emissions\": 70630, \"Gasoline Price\": 0.29, \"GDP\": 40761142857, \"Life expectancy\": 68.1, \"Physicians per thousand\": 2.22, \"Population\": 5942089, \"Region\": \"Asia\", \"Co2-Emissions per million people\": 11886.392142561312, \"GDP per capita\": 6859.732807266939, \"Log(Co2-Emissions)\": 11.165210262402969}, {\"Country\": \"Uganda\", \"Abbreviation\": \"UG\", \"Co2-Emissions\": 5680, \"Gasoline Price\": 0.94, \"GDP\": 34387229486, \"Life expectancy\": 63.0, \"Physicians per thousand\": 0.17, \"Population\": 44269594, \"Region\": \"Africa\", \"Co2-Emissions per million people\": 128.3047682795555, \"GDP per capita\": 776.7685758762549, \"Log(Co2-Emissions)\": 8.644706511715198}, {\"Country\": \"Ukraine\", \"Abbreviation\": \"UA\", \"Co2-Emissions\": 202250, \"Gasoline Price\": 0.83, \"GDP\": 153781069118, \"Life expectancy\": 71.6, \"Physicians per thousand\": 2.99, \"Population\": 44385155, \"Region\": \"Europe\", \"Co2-Emissions per million people\": 4556.703699694189, \"GDP per capita\": 3464.696002931611, \"Log(Co2-Emissions)\": 12.217259834920737}, {\"Country\": \"United Arab Emirates\", \"Abbreviation\": \"AE\", \"Co2-Emissions\": 206324, \"Gasoline Price\": 0.49, \"GDP\": 421142267938, \"Life expectancy\": 77.8, \"Physicians per thousand\": 2.53, \"Population\": 9770529, \"Region\": \"Asia\", \"Co2-Emissions per million people\": 21116.97329796575, \"GDP per capita\": 43103.32305835232, \"Log(Co2-Emissions)\": 12.237203027726736}, {\"Country\": \"United Kingdom\", \"Abbreviation\": \"GB\", \"Co2-Emissions\": 379025, \"Gasoline Price\": 1.46, \"GDP\": 2827113184696, \"Life expectancy\": 81.3, \"Physicians per thousand\": 2.81, \"Population\": 66834405, \"Region\": \"Europe\", \"Co2-Emissions per million people\": 5671.106071790419, \"GDP per capita\": 42300.26712583137, \"Log(Co2-Emissions)\": 12.845357444949782}, {\"Country\": \"United States\", \"Abbreviation\": \"US\", \"Co2-Emissions\": 5006302, \"Gasoline Price\": 0.71, \"GDP\": 21427700000000, \"Life expectancy\": 78.5, \"Physicians per thousand\": 2.61, \"Population\": 328239523, \"Region\": \"Americas\", \"Co2-Emissions per million people\": 15251.978050187454, \"GDP per capita\": 65280.6822413034, \"Log(Co2-Emissions)\": 15.42620807676109}, {\"Country\": \"Uruguay\", \"Abbreviation\": \"UY\", \"Co2-Emissions\": 6766, \"Gasoline Price\": 1.5, \"GDP\": 56045912952, \"Life expectancy\": 77.8, \"Physicians per thousand\": 5.05, \"Population\": 3461734, \"Region\": \"Americas\", \"Co2-Emissions per million people\": 1954.5118140215282, \"GDP per capita\": 16190.126957183886, \"Log(Co2-Emissions)\": 8.819665349340653}, {\"Country\": \"Uzbekistan\", \"Abbreviation\": \"UZ\", \"Co2-Emissions\": 91811, \"Gasoline Price\": 1.03, \"GDP\": 57921286440, \"Life expectancy\": 71.6, \"Physicians per thousand\": 2.37, \"Population\": 33580650, \"Region\": \"Asia\", \"Co2-Emissions per million people\": 2734.044754940717, \"GDP per capita\": 1724.8411344032947, \"Log(Co2-Emissions)\": 11.427487395138115}, {\"Country\": \"Vanuatu\", \"Abbreviation\": \"VU\", \"Co2-Emissions\": 147, \"Gasoline Price\": 1.31, \"GDP\": 917058851, \"Life expectancy\": 70.3, \"Physicians per thousand\": 0.17, \"Population\": 299882, \"Region\": \"Oceania\", \"Co2-Emissions per million people\": 490.1928091716075, \"GDP per capita\": 3058.065675832494, \"Log(Co2-Emissions)\": 4.990432586778736}, {\"Country\": \"Venezuela\", \"Abbreviation\": \"VE\", \"Co2-Emissions\": 164175, \"Gasoline Price\": 0.0, \"GDP\": 482359318768, \"Life expectancy\": 72.1, \"Physicians per thousand\": 1.92, \"Population\": 28515829, \"Region\": \"Americas\", \"Co2-Emissions per million people\": 5757.328675242092, \"GDP per capita\": 16915.49345340793, \"Log(Co2-Emissions)\": 12.008688211059173}, {\"Country\": \"Vietnam\", \"Abbreviation\": \"VN\", \"Co2-Emissions\": 192668, \"Gasoline Price\": 0.8, \"GDP\": 261921244843, \"Life expectancy\": 75.3, \"Physicians per thousand\": 0.82, \"Population\": 96462106, \"Region\": \"Asia\", \"Co2-Emissions per million people\": 1997.343910364138, \"GDP per capita\": 2715.276036405425, \"Log(Co2-Emissions)\": 12.168723779377684}, {\"Country\": \"Yemen\", \"Abbreviation\": \"YE\", \"Co2-Emissions\": 10609, \"Gasoline Price\": 0.92, \"GDP\": 26914402224, \"Life expectancy\": 66.1, \"Physicians per thousand\": 0.31, \"Population\": 29161922, \"Region\": \"Asia\", \"Co2-Emissions per million people\": 363.79632316415905, \"GDP per capita\": 922.9296417430922, \"Log(Co2-Emissions)\": 9.269457976459272}, {\"Country\": \"Zambia\", \"Abbreviation\": \"ZM\", \"Co2-Emissions\": 5141, \"Gasoline Price\": 1.4, \"GDP\": 23064722446, \"Life expectancy\": 63.5, \"Physicians per thousand\": 1.19, \"Population\": 17861030, \"Region\": \"Africa\", \"Co2-Emissions per million people\": 287.8333444375828, \"GDP per capita\": 1291.3433573539712, \"Log(Co2-Emissions)\": 8.545002892055505}, {\"Country\": \"Zimbabwe\", \"Abbreviation\": \"ZW\", \"Co2-Emissions\": 10983, \"Gasoline Price\": 1.34, \"GDP\": 21440758800, \"Life expectancy\": 61.2, \"Physicians per thousand\": 0.21, \"Population\": 14645468, \"Region\": \"Africa\", \"Co2-Emissions per million people\": 749.9248231603115, \"GDP per capita\": 1463.9859101805419, \"Log(Co2-Emissions)\": 9.304103901788347}]}}, {\"mode\": \"vega-lite\"});\n",
       "</script>"
      ],
      "text/plain": [
       "alt.VConcatChart(...)"
      ]
     },
     "execution_count": 22,
     "metadata": {},
     "output_type": "execute_result"
    }
   ],
   "source": [
    "import altair as alt\n",
    "import numpy as np\n",
    "import pandas as pd\n",
    "\n",
    "# Log-transform the required columns\n",
    "data['Log(Co2-Emissions)'] = np.log(data['Co2-Emissions'])\n",
    "\n",
    "# Scatter Chart of 'Life expectancy' vs ['Physicians per thousand', 'GDP per capita', 'Co2-Emissions per million people']\n",
    "charts1 = []\n",
    "for column in ['Physicians per thousand', 'GDP per capita', 'Co2-Emissions per million people']:\n",
    "    chart = alt.Chart(data).mark_point(color='green').encode(\n",
    "        x=alt.X(column, scale=alt.Scale(type='log'), title=f'{column} (Log Scale)'),\n",
    "        y=alt.Y('Life expectancy', title='Life Expectancy'),\n",
    "        tooltip=['Country', column, 'Life expectancy']\n",
    "    ).properties(\n",
    "        title=f'Life Expectancy vs {column}',\n",
    "        width=250,\n",
    "        height=200\n",
    "    )\n",
    "    \n",
    "    # Add regression line\n",
    "    regression_line = chart.transform_regression(\n",
    "        column, 'Life expectancy', method='linear'\n",
    "    ).mark_line(color='red')\n",
    "    \n",
    "    # Combine the scatter plot and regression line\n",
    "    charts1.append(chart + regression_line)\n",
    "\n",
    "# Combine all scatter charts into a row\n",
    "grid1 = alt.hconcat(*charts1)\n",
    "\n",
    "# Scatter Chart of 'Log(Co2-Emissions)' vs ['GDP', 'Population', 'Life expectancy']\n",
    "charts2 = []\n",
    "for column in ['GDP', 'Population', 'Life expectancy']:\n",
    "    chart = alt.Chart(data).mark_point(color='blue').encode(\n",
    "        x=alt.X(column, scale=alt.Scale(type='log'), title=f'{column} (Log Scale)'),\n",
    "        y=alt.Y('Log(Co2-Emissions)', title='Log(Co2-Emissions)'),\n",
    "        tooltip=['Country', column, 'Log(Co2-Emissions)']\n",
    "    ).properties(\n",
    "        title=f'Log(Co2-Emissions) vs {column}',\n",
    "        width=250,\n",
    "        height=200\n",
    "    )\n",
    "    \n",
    "    # Add regression line\n",
    "    regression_line = chart.transform_regression(\n",
    "        column, 'Log(Co2-Emissions)', method='linear'\n",
    "    ).mark_line(color='red')\n",
    "    \n",
    "    # Combine the scatter plot and regression line\n",
    "    charts2.append(chart + regression_line)\n",
    "\n",
    "# Combine all scatter charts into a row\n",
    "grid2 = alt.hconcat(*charts2)\n",
    "\n",
    "# Combine both grids into a vertical layout\n",
    "final_chart = alt.vconcat(grid1, grid2).properties(\n",
    "    title='Scatter Charts with Regression Lines'\n",
    ")\n",
    "\n",
    "final_chart\n"
   ]
  },
  {
   "cell_type": "code",
   "execution_count": null,
   "id": "a770658c",
   "metadata": {},
   "outputs": [],
   "source": []
  }
 ],
 "metadata": {
  "kaggle": {
   "accelerator": "none",
   "dataSources": [
    {
     "datasetId": 446379,
     "sourceId": 844964,
     "sourceType": "datasetVersion"
    },
    {
     "datasetId": 3495122,
     "sourceId": 6101670,
     "sourceType": "datasetVersion"
    }
   ],
   "dockerImageVersionId": 30664,
   "isGpuEnabled": false,
   "isInternetEnabled": true,
   "language": "python",
   "sourceType": "notebook"
  },
  "kernelspec": {
   "display_name": "iv_env",
   "language": "python",
   "name": "python3"
  },
  "language_info": {
   "codemirror_mode": {
    "name": "ipython",
    "version": 3
   },
   "file_extension": ".py",
   "mimetype": "text/x-python",
   "name": "python",
   "nbconvert_exporter": "python",
   "pygments_lexer": "ipython3",
   "version": "3.11.9"
  },
  "papermill": {
   "default_parameters": {},
   "duration": 12.101741,
   "end_time": "2024-03-15T17:35:04.197657",
   "environment_variables": {},
   "exception": null,
   "input_path": "__notebook__.ipynb",
   "output_path": "__notebook__.ipynb",
   "parameters": {},
   "start_time": "2024-03-15T17:34:52.095916",
   "version": "2.5.0"
  }
 },
 "nbformat": 4,
 "nbformat_minor": 5
}
